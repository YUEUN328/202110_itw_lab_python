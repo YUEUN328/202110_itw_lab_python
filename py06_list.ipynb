{
  "nbformat": 4,
  "nbformat_minor": 0,
  "metadata": {
    "colab": {
      "name": "py06_list.ipynb",
      "provenance": [],
      "collapsed_sections": [],
      "authorship_tag": "ABX9TyNkGnrUrEwV9z62umcCitST",
      "include_colab_link": true
    },
    "kernelspec": {
      "name": "python3",
      "display_name": "Python 3"
    },
    "language_info": {
      "name": "python"
    }
  },
  "cells": [
    {
      "cell_type": "markdown",
      "metadata": {
        "id": "view-in-github",
        "colab_type": "text"
      },
      "source": [
        "<a href=\"https://colab.research.google.com/github/YUEUN328/202110_itw_lab_python/blob/main/py06_list.ipynb\" target=\"_parent\"><img src=\"https://colab.research.google.com/assets/colab-badge.svg\" alt=\"Open In Colab\"/></a>"
      ]
    },
    {
      "cell_type": "markdown",
      "source": [
        "# List(리스트)"
      ],
      "metadata": {
        "id": "KOpwo7-NrAXW"
      }
    },
    {
      "cell_type": "markdown",
      "source": [
        "list: 여러 개의 값들을 하나의 변수에 저장하기 위한 데이터 타입.\n",
        "\n",
        "* element(원소, 요소): 리스트에 저장되는 각각의 값.\n",
        "* index(인덱스): 리스트에 원소들이 저장된 위치(번호).\n",
        "    * 리스트의 인덱스는 **0**부터 시작.\n",
        "    * 리스트에서 마지막 원소의 인덱스는 **(원소의 개수 - 1)**\n",
        "* 리스트는 원소들을 추가/삭제/변경할 수 있음.\n",
        "    * tuple과 다른 점!"
      ],
      "metadata": {
        "id": "PtA08o5BpesA"
      }
    },
    {
      "cell_type": "code",
      "source": [
        "# 숫자들을 저장하는 리스트\n",
        "numbers = [1, 20, 3, 40, 7]"
      ],
      "metadata": {
        "id": "noQzidSOq6S0"
      },
      "execution_count": 2,
      "outputs": []
    },
    {
      "cell_type": "code",
      "source": [
        "print(numbers)"
      ],
      "metadata": {
        "colab": {
          "base_uri": "https://localhost:8080/"
        },
        "id": "apn7MFJvrNTH",
        "outputId": "10198801-d247-48be-a365-b410d5a0a829"
      },
      "execution_count": 3,
      "outputs": [
        {
          "output_type": "stream",
          "name": "stdout",
          "text": [
            "[1, 20, 3, 40, 7]\n"
          ]
        }
      ]
    },
    {
      "cell_type": "code",
      "source": [
        "numbers"
      ],
      "metadata": {
        "colab": {
          "base_uri": "https://localhost:8080/"
        },
        "id": "RIsBeVXAro7e",
        "outputId": "b2017cb6-1a9e-4833-8848-75eee02cc61c"
      },
      "execution_count": 4,
      "outputs": [
        {
          "output_type": "execute_result",
          "data": {
            "text/plain": [
              "[1, 20, 3, 40, 7]"
            ]
          },
          "metadata": {},
          "execution_count": 4
        }
      ]
    },
    {
      "cell_type": "markdown",
      "source": [
        "ipynb의 코드 셀에서 가장 마지막 줄의 문장이 식(expression: 변수, 값, 함수 호출 등)이면 식을 평가한 결과를 자동으로 출력해줌."
      ],
      "metadata": {
        "id": "T4g-vvc-rrc7"
      }
    },
    {
      "cell_type": "code",
      "source": [
        "type(numbers)"
      ],
      "metadata": {
        "colab": {
          "base_uri": "https://localhost:8080/"
        },
        "id": "IBk_LsdRsAbP",
        "outputId": "e046e822-be9f-4bad-cf95-a8e6a82223b2"
      },
      "execution_count": 5,
      "outputs": [
        {
          "output_type": "execute_result",
          "data": {
            "text/plain": [
              "list"
            ]
          },
          "metadata": {},
          "execution_count": 5
        }
      ]
    },
    {
      "cell_type": "markdown",
      "source": [
        "# Indexing\n",
        "\n",
        "인덱스를 사용해서 리스트의 원소를 사용하는 방법."
      ],
      "metadata": {
        "id": "qGQhgVMMsDOc"
      }
    },
    {
      "cell_type": "code",
      "source": [
        "numbers"
      ],
      "metadata": {
        "colab": {
          "base_uri": "https://localhost:8080/"
        },
        "id": "JMi4vWdJsQFl",
        "outputId": "07297f95-d955-4733-b3f9-05bf15f0a468"
      },
      "execution_count": 6,
      "outputs": [
        {
          "output_type": "execute_result",
          "data": {
            "text/plain": [
              "[1, 20, 3, 40, 7]"
            ]
          },
          "metadata": {},
          "execution_count": 6
        }
      ]
    },
    {
      "cell_type": "code",
      "source": [
        "numbers[0]  # list의 첫 번째 원소"
      ],
      "metadata": {
        "colab": {
          "base_uri": "https://localhost:8080/"
        },
        "id": "a21DCzsXsmrA",
        "outputId": "861baaab-a599-4662-ff8b-504782a7c742"
      },
      "execution_count": 7,
      "outputs": [
        {
          "output_type": "execute_result",
          "data": {
            "text/plain": [
              "1"
            ]
          },
          "metadata": {},
          "execution_count": 7
        }
      ]
    },
    {
      "cell_type": "code",
      "source": [
        "numbers[4]  # list의 마지막 원소"
      ],
      "metadata": {
        "colab": {
          "base_uri": "https://localhost:8080/"
        },
        "id": "rIdAOYXNsr8t",
        "outputId": "6ffc2aea-2eda-489a-d842-aa1d9b953d6b"
      },
      "execution_count": 8,
      "outputs": [
        {
          "output_type": "execute_result",
          "data": {
            "text/plain": [
              "7"
            ]
          },
          "metadata": {},
          "execution_count": 8
        }
      ]
    },
    {
      "cell_type": "code",
      "source": [
        "numbers[-1]"
      ],
      "metadata": {
        "colab": {
          "base_uri": "https://localhost:8080/"
        },
        "id": "0Jfj_SDqs2Jn",
        "outputId": "36b14fad-6eed-4744-dd6a-242f13f01c18"
      },
      "execution_count": 9,
      "outputs": [
        {
          "output_type": "execute_result",
          "data": {
            "text/plain": [
              "7"
            ]
          },
          "metadata": {},
          "execution_count": 9
        }
      ]
    },
    {
      "cell_type": "code",
      "source": [
        "numbers[-2]  # list에서 끝에서 두 번째 원소"
      ],
      "metadata": {
        "colab": {
          "base_uri": "https://localhost:8080/"
        },
        "id": "R7T-fhkAtbpd",
        "outputId": "1af1d4b4-386a-4946-e191-384ca2a8e5cd"
      },
      "execution_count": 10,
      "outputs": [
        {
          "output_type": "execute_result",
          "data": {
            "text/plain": [
              "40"
            ]
          },
          "metadata": {},
          "execution_count": 10
        }
      ]
    },
    {
      "cell_type": "code",
      "source": [
        "# numbers[5]  #> IndexError"
      ],
      "metadata": {
        "id": "R72FWTvttpDC"
      },
      "execution_count": 11,
      "outputs": []
    },
    {
      "cell_type": "markdown",
      "source": [
        "# Slicing"
      ],
      "metadata": {
        "id": "J5el_Y0EuLIN"
      }
    },
    {
      "cell_type": "code",
      "source": [
        "numbers[1:4]"
      ],
      "metadata": {
        "colab": {
          "base_uri": "https://localhost:8080/"
        },
        "id": "cKYK8cIXucXx",
        "outputId": "fb16fcae-0e8b-4535-984d-935d99f4b7ff"
      },
      "execution_count": 12,
      "outputs": [
        {
          "output_type": "execute_result",
          "data": {
            "text/plain": [
              "[20, 3, 40]"
            ]
          },
          "metadata": {},
          "execution_count": 12
        }
      ]
    },
    {
      "cell_type": "markdown",
      "source": [
        "```\n",
        "list[start:end]\n",
        "```\n",
        "\n",
        "* start <= index < end 범위의 인덱스 위치의 원소들을 선택.\n",
        "* start가 생략되면 리스트의 첫 번째 원소부터 선택. (0 <= index < end 범위의 원소들을 선택.)\n",
        "* end가 생략되면 리스트의 마지막 원소까지 선택. (start <= index 범위의 모든 원소들을 선택.)\n",
        "* slicing의 결과는 새로운 list."
      ],
      "metadata": {
        "id": "pnJzgXSfu_QE"
      }
    },
    {
      "cell_type": "code",
      "source": [
        "numbers[:3]  # 리스트에서 첫 번째 원소부터 순서대로 3개를 선택"
      ],
      "metadata": {
        "colab": {
          "base_uri": "https://localhost:8080/"
        },
        "id": "A7Gq5Tpnue3R",
        "outputId": "ce5a9a2c-fc15-4468-9114-a57743b009df"
      },
      "execution_count": 13,
      "outputs": [
        {
          "output_type": "execute_result",
          "data": {
            "text/plain": [
              "[1, 20, 3]"
            ]
          },
          "metadata": {},
          "execution_count": 13
        }
      ]
    },
    {
      "cell_type": "code",
      "source": [
        "numbers[2:]  # 리스트에서 끝에서 3개의 원소를 선택"
      ],
      "metadata": {
        "colab": {
          "base_uri": "https://localhost:8080/"
        },
        "id": "n2v9kRNBwLc6",
        "outputId": "144e4eb5-ed0b-4152-87b8-8eb264054145"
      },
      "execution_count": 14,
      "outputs": [
        {
          "output_type": "execute_result",
          "data": {
            "text/plain": [
              "[3, 40, 7]"
            ]
          },
          "metadata": {},
          "execution_count": 14
        }
      ]
    },
    {
      "cell_type": "code",
      "source": [
        "numbers[-3:]"
      ],
      "metadata": {
        "colab": {
          "base_uri": "https://localhost:8080/"
        },
        "id": "UNwGWHHywuK4",
        "outputId": "2580fade-00f7-4f3e-ca35-76dabde321b4"
      },
      "execution_count": 15,
      "outputs": [
        {
          "output_type": "execute_result",
          "data": {
            "text/plain": [
              "[3, 40, 7]"
            ]
          },
          "metadata": {},
          "execution_count": 15
        }
      ]
    },
    {
      "cell_type": "code",
      "source": [
        "numbers[0]  #> indexing의 결과: 값(int)"
      ],
      "metadata": {
        "colab": {
          "base_uri": "https://localhost:8080/"
        },
        "id": "hSm_7kx8xi8R",
        "outputId": "628ddc58-576a-4f19-9109-55bf5b904d75"
      },
      "execution_count": 16,
      "outputs": [
        {
          "output_type": "execute_result",
          "data": {
            "text/plain": [
              "1"
            ]
          },
          "metadata": {},
          "execution_count": 16
        }
      ]
    },
    {
      "cell_type": "code",
      "source": [
        "numbers[0:1]  #> slicing의 결과: 원소가 1개인 list"
      ],
      "metadata": {
        "colab": {
          "base_uri": "https://localhost:8080/"
        },
        "id": "XhNdOUK1yW43",
        "outputId": "2563692e-ff8a-4cb0-cc54-e0df15206179"
      },
      "execution_count": 17,
      "outputs": [
        {
          "output_type": "execute_result",
          "data": {
            "text/plain": [
              "[1]"
            ]
          },
          "metadata": {},
          "execution_count": 17
        }
      ]
    },
    {
      "cell_type": "markdown",
      "source": [
        "# 문자열(str)\n",
        "\n",
        "문자들의 리스트\n",
        "\n",
        "* 문자열 객체도 리스트 객체처럼 indexing과 slicing을 사용할 수 있다."
      ],
      "metadata": {
        "id": "MpcMb06i2InO"
      }
    },
    {
      "cell_type": "code",
      "source": [
        "message = 'Hello, Python!'  # 14개의 문자들을 원소로 갖는 문자열"
      ],
      "metadata": {
        "id": "SXX7GpsA2X4T"
      },
      "execution_count": 18,
      "outputs": []
    },
    {
      "cell_type": "code",
      "source": [
        "message[0]  # 문자열에서 첫 번째 문자"
      ],
      "metadata": {
        "colab": {
          "base_uri": "https://localhost:8080/",
          "height": 36
        },
        "id": "syBJl7pD2jg4",
        "outputId": "26a99fa5-bde2-48b5-cc92-0d95197ea0de"
      },
      "execution_count": 19,
      "outputs": [
        {
          "output_type": "execute_result",
          "data": {
            "application/vnd.google.colaboratory.intrinsic+json": {
              "type": "string"
            },
            "text/plain": [
              "'H'"
            ]
          },
          "metadata": {},
          "execution_count": 19
        }
      ]
    },
    {
      "cell_type": "code",
      "source": [
        "message[13]  # 문자열에서 가장 마지막 문자"
      ],
      "metadata": {
        "colab": {
          "base_uri": "https://localhost:8080/",
          "height": 36
        },
        "id": "WVAU7xdS2qjm",
        "outputId": "0250858e-f97d-45d0-c445-cfbf0748fb64"
      },
      "execution_count": 20,
      "outputs": [
        {
          "output_type": "execute_result",
          "data": {
            "application/vnd.google.colaboratory.intrinsic+json": {
              "type": "string"
            },
            "text/plain": [
              "'!'"
            ]
          },
          "metadata": {},
          "execution_count": 20
        }
      ]
    },
    {
      "cell_type": "code",
      "source": [
        "message[-1]"
      ],
      "metadata": {
        "colab": {
          "base_uri": "https://localhost:8080/",
          "height": 36
        },
        "id": "s4vRNZZq21gK",
        "outputId": "548ed56a-165b-4fb6-954b-4ddc03ed52e4"
      },
      "execution_count": 21,
      "outputs": [
        {
          "output_type": "execute_result",
          "data": {
            "application/vnd.google.colaboratory.intrinsic+json": {
              "type": "string"
            },
            "text/plain": [
              "'!'"
            ]
          },
          "metadata": {},
          "execution_count": 21
        }
      ]
    },
    {
      "cell_type": "code",
      "source": [
        "message[:3]  # 문자열에서 첫 3글자"
      ],
      "metadata": {
        "colab": {
          "base_uri": "https://localhost:8080/",
          "height": 36
        },
        "id": "AThZv1C43HpL",
        "outputId": "38ba1f0e-b81c-4e2c-a0db-8fe1f267dcf2"
      },
      "execution_count": 22,
      "outputs": [
        {
          "output_type": "execute_result",
          "data": {
            "application/vnd.google.colaboratory.intrinsic+json": {
              "type": "string"
            },
            "text/plain": [
              "'Hel'"
            ]
          },
          "metadata": {},
          "execution_count": 22
        }
      ]
    },
    {
      "cell_type": "code",
      "source": [
        "message[-3:]  # 문자열에서 마지막 3글자"
      ],
      "metadata": {
        "colab": {
          "base_uri": "https://localhost:8080/",
          "height": 36
        },
        "id": "3rW9rJqZ3N4d",
        "outputId": "f60e64de-0d89-4ccf-9f4a-289db3482ab0"
      },
      "execution_count": 23,
      "outputs": [
        {
          "output_type": "execute_result",
          "data": {
            "application/vnd.google.colaboratory.intrinsic+json": {
              "type": "string"
            },
            "text/plain": [
              "'on!'"
            ]
          },
          "metadata": {},
          "execution_count": 23
        }
      ]
    },
    {
      "cell_type": "markdown",
      "source": [
        "# list의 산술 연산\n",
        "\n",
        "* `+`: concatenate. 두 개의 리스트를 하나의 리스트로 합침.\n",
        "* `*`: replicate. 리스트의 원소들을 곱해주는 숫자만큼 복사해서 원소의 개수를 늘림."
      ],
      "metadata": {
        "id": "Ra9Fw2li3rI9"
      }
    },
    {
      "cell_type": "code",
      "source": [
        "'Hello' + 'Python'"
      ],
      "metadata": {
        "colab": {
          "base_uri": "https://localhost:8080/",
          "height": 36
        },
        "id": "SuFm-fCR3Yen",
        "outputId": "a67ca128-723d-41d9-af0e-08ab08e68ce9"
      },
      "execution_count": 24,
      "outputs": [
        {
          "output_type": "execute_result",
          "data": {
            "application/vnd.google.colaboratory.intrinsic+json": {
              "type": "string"
            },
            "text/plain": [
              "'HelloPython'"
            ]
          },
          "metadata": {},
          "execution_count": 24
        }
      ]
    },
    {
      "cell_type": "code",
      "source": [
        "[1, 2, 3] + [10, 20, 30]"
      ],
      "metadata": {
        "colab": {
          "base_uri": "https://localhost:8080/"
        },
        "id": "EAK67Vu04RN7",
        "outputId": "78f9672b-9f49-46ed-c46d-ad95e89949c7"
      },
      "execution_count": 25,
      "outputs": [
        {
          "output_type": "execute_result",
          "data": {
            "text/plain": [
              "[1, 2, 3, 10, 20, 30]"
            ]
          },
          "metadata": {},
          "execution_count": 25
        }
      ]
    },
    {
      "cell_type": "code",
      "source": [
        "'Hello' * 3"
      ],
      "metadata": {
        "colab": {
          "base_uri": "https://localhost:8080/",
          "height": 36
        },
        "id": "GTeK8pk84VBX",
        "outputId": "2334f67b-34c8-4394-b820-af9791dd8ff2"
      },
      "execution_count": 26,
      "outputs": [
        {
          "output_type": "execute_result",
          "data": {
            "application/vnd.google.colaboratory.intrinsic+json": {
              "type": "string"
            },
            "text/plain": [
              "'HelloHelloHello'"
            ]
          },
          "metadata": {},
          "execution_count": 26
        }
      ]
    },
    {
      "cell_type": "code",
      "source": [
        "[1, 2, 3] * 3"
      ],
      "metadata": {
        "colab": {
          "base_uri": "https://localhost:8080/"
        },
        "id": "RGMbEMrj4XzE",
        "outputId": "0806c35d-c242-4c96-ab5e-f97c83589043"
      },
      "execution_count": 27,
      "outputs": [
        {
          "output_type": "execute_result",
          "data": {
            "text/plain": [
              "[1, 2, 3, 1, 2, 3, 1, 2, 3]"
            ]
          },
          "metadata": {},
          "execution_count": 27
        }
      ]
    },
    {
      "cell_type": "markdown",
      "source": [
        "# list의 기능들(메서드)"
      ],
      "metadata": {
        "id": "KpEHNt4f4rqr"
      }
    },
    {
      "cell_type": "markdown",
      "source": [
        "## element 추가"
      ],
      "metadata": {
        "id": "RY8InBgR4zHv"
      }
    },
    {
      "cell_type": "code",
      "source": [
        "numbers"
      ],
      "metadata": {
        "colab": {
          "base_uri": "https://localhost:8080/"
        },
        "id": "GTWGUNf14aen",
        "outputId": "882c9e96-4f0a-46b3-ed5b-ef01cfa739c4"
      },
      "execution_count": 28,
      "outputs": [
        {
          "output_type": "execute_result",
          "data": {
            "text/plain": [
              "[1, 20, 3, 40, 7]"
            ]
          },
          "metadata": {},
          "execution_count": 28
        }
      ]
    },
    {
      "cell_type": "markdown",
      "source": [
        "`list.append(arg)`\n",
        "\n",
        "리스트의 가장 마지막에 새로운 원소(arg)를 추가"
      ],
      "metadata": {
        "id": "Q7H8tD8G5I1D"
      }
    },
    {
      "cell_type": "code",
      "source": [
        "numbers.append(100)"
      ],
      "metadata": {
        "id": "vvT-OfAq4_sX"
      },
      "execution_count": 29,
      "outputs": []
    },
    {
      "cell_type": "code",
      "source": [
        "numbers"
      ],
      "metadata": {
        "colab": {
          "base_uri": "https://localhost:8080/"
        },
        "id": "K5R7komi5a-A",
        "outputId": "17432703-ed7d-4acd-b6d3-abe82d1166e9"
      },
      "execution_count": 30,
      "outputs": [
        {
          "output_type": "execute_result",
          "data": {
            "text/plain": [
              "[1, 20, 3, 40, 7, 100]"
            ]
          },
          "metadata": {},
          "execution_count": 30
        }
      ]
    },
    {
      "cell_type": "markdown",
      "source": [
        "`list.insert(index, value)`\n",
        "\n",
        "list의 index 위치에 value를 추가(삽입)"
      ],
      "metadata": {
        "id": "BT1Rs3uH5nlB"
      }
    },
    {
      "cell_type": "code",
      "source": [
        "numbers.insert(1, 100)"
      ],
      "metadata": {
        "id": "hSykIDk_5eAB"
      },
      "execution_count": 31,
      "outputs": []
    },
    {
      "cell_type": "code",
      "source": [
        "numbers"
      ],
      "metadata": {
        "colab": {
          "base_uri": "https://localhost:8080/"
        },
        "id": "YQ171VIv6Hab",
        "outputId": "f30835cd-b28a-4c83-a77a-315a8325973e"
      },
      "execution_count": 32,
      "outputs": [
        {
          "output_type": "execute_result",
          "data": {
            "text/plain": [
              "[1, 100, 20, 3, 40, 7, 100]"
            ]
          },
          "metadata": {},
          "execution_count": 32
        }
      ]
    },
    {
      "cell_type": "markdown",
      "source": [
        "`list.extend(iterable)`\n",
        "\n",
        "리스트 이어 붙이기(concatenate). `+` 연산과 동일한 기능."
      ],
      "metadata": {
        "id": "uLwRAKT66Yh7"
      }
    },
    {
      "cell_type": "code",
      "source": [
        "numbers.extend([2, 4, 6])  # numbers + [2, 4, 6]"
      ],
      "metadata": {
        "id": "kmrVzSq86New"
      },
      "execution_count": 33,
      "outputs": []
    },
    {
      "cell_type": "code",
      "source": [
        "numbers"
      ],
      "metadata": {
        "colab": {
          "base_uri": "https://localhost:8080/"
        },
        "id": "-hShWFbO6uyP",
        "outputId": "e228a92b-1ab8-4f33-fb77-3b989a081cc2"
      },
      "execution_count": 34,
      "outputs": [
        {
          "output_type": "execute_result",
          "data": {
            "text/plain": [
              "[1, 100, 20, 3, 40, 7, 100, 2, 4, 6]"
            ]
          },
          "metadata": {},
          "execution_count": 34
        }
      ]
    },
    {
      "cell_type": "code",
      "source": [
        "# 주의!!!\n",
        "numbers.append([1, 3, 5])  #> 리스트의 가장 마지막에 다른 리스트가 원소로 추가."
      ],
      "metadata": {
        "id": "HWp8kt3H6vr2"
      },
      "execution_count": 35,
      "outputs": []
    },
    {
      "cell_type": "code",
      "source": [
        "numbers"
      ],
      "metadata": {
        "colab": {
          "base_uri": "https://localhost:8080/"
        },
        "id": "BZjzEZd77L0J",
        "outputId": "a2435a81-57df-477f-8597-3d5d455be39c"
      },
      "execution_count": 36,
      "outputs": [
        {
          "output_type": "execute_result",
          "data": {
            "text/plain": [
              "[1, 100, 20, 3, 40, 7, 100, 2, 4, 6, [1, 3, 5]]"
            ]
          },
          "metadata": {},
          "execution_count": 36
        }
      ]
    },
    {
      "cell_type": "markdown",
      "source": [
        "## element 삭제"
      ],
      "metadata": {
        "id": "ZKwTj97BNL_8"
      }
    },
    {
      "cell_type": "markdown",
      "source": [
        "`list.remove(value)`\n",
        "\n",
        "list에서 처음 등장하는 value 한 개를 삭제."
      ],
      "metadata": {
        "id": "SJCAH28GNrNQ"
      }
    },
    {
      "cell_type": "code",
      "source": [
        "numbers.remove(100)"
      ],
      "metadata": {
        "id": "MRzDej887OMM"
      },
      "execution_count": 37,
      "outputs": []
    },
    {
      "cell_type": "code",
      "source": [
        "numbers"
      ],
      "metadata": {
        "colab": {
          "base_uri": "https://localhost:8080/"
        },
        "id": "TRN3-i2NNyFq",
        "outputId": "cea900be-086f-402a-f612-54d9a382c833"
      },
      "execution_count": 38,
      "outputs": [
        {
          "output_type": "execute_result",
          "data": {
            "text/plain": [
              "[1, 20, 3, 40, 7, 100, 2, 4, 6, [1, 3, 5]]"
            ]
          },
          "metadata": {},
          "execution_count": 38
        }
      ]
    },
    {
      "cell_type": "markdown",
      "source": [
        "`list.pop(index)`\n",
        "\n",
        "list에서 index 위치에 있는 값을 삭제하고, 삭제한 값을 리턴. index를 전달하지 않으면, list에서 *가장 마지막 원소*를 삭제."
      ],
      "metadata": {
        "id": "ABqmNJGwN5k9"
      }
    },
    {
      "cell_type": "code",
      "source": [
        "numbers.pop(0)"
      ],
      "metadata": {
        "colab": {
          "base_uri": "https://localhost:8080/"
        },
        "id": "qd1FEoZ7OKWD",
        "outputId": "f46abef3-b382-4258-b701-d0e2bc3b5148"
      },
      "execution_count": 39,
      "outputs": [
        {
          "output_type": "execute_result",
          "data": {
            "text/plain": [
              "1"
            ]
          },
          "metadata": {},
          "execution_count": 39
        }
      ]
    },
    {
      "cell_type": "code",
      "source": [
        "numbers"
      ],
      "metadata": {
        "colab": {
          "base_uri": "https://localhost:8080/"
        },
        "id": "lif7rnIuOYUX",
        "outputId": "83739fd2-93db-429e-adef-ceb2a2ad0e01"
      },
      "execution_count": 40,
      "outputs": [
        {
          "output_type": "execute_result",
          "data": {
            "text/plain": [
              "[20, 3, 40, 7, 100, 2, 4, 6, [1, 3, 5]]"
            ]
          },
          "metadata": {},
          "execution_count": 40
        }
      ]
    },
    {
      "cell_type": "code",
      "source": [
        "numbers.pop()"
      ],
      "metadata": {
        "colab": {
          "base_uri": "https://localhost:8080/"
        },
        "id": "k8_HRuU9OcgT",
        "outputId": "bdeb2f5e-d13a-47ff-fba3-c2420adbfce9"
      },
      "execution_count": 41,
      "outputs": [
        {
          "output_type": "execute_result",
          "data": {
            "text/plain": [
              "[1, 3, 5]"
            ]
          },
          "metadata": {},
          "execution_count": 41
        }
      ]
    },
    {
      "cell_type": "code",
      "source": [
        "numbers"
      ],
      "metadata": {
        "colab": {
          "base_uri": "https://localhost:8080/"
        },
        "id": "4lsjIpXmOmLl",
        "outputId": "82e4598c-407f-4558-f72f-14a1a683ef97"
      },
      "execution_count": 42,
      "outputs": [
        {
          "output_type": "execute_result",
          "data": {
            "text/plain": [
              "[20, 3, 40, 7, 100, 2, 4, 6]"
            ]
          },
          "metadata": {},
          "execution_count": 42
        }
      ]
    },
    {
      "cell_type": "markdown",
      "source": [
        "`list.clear()`\n",
        "\n",
        "list의 모든 원소들을 삭제."
      ],
      "metadata": {
        "id": "D9yrkQ-DO8qB"
      }
    },
    {
      "cell_type": "code",
      "source": [
        "numbers.clear()"
      ],
      "metadata": {
        "id": "B0Hdwx5tOrMI"
      },
      "execution_count": 43,
      "outputs": []
    },
    {
      "cell_type": "code",
      "source": [
        "numbers  #> empty list(빈 리스트)"
      ],
      "metadata": {
        "colab": {
          "base_uri": "https://localhost:8080/"
        },
        "id": "fwY99P7uPLrx",
        "outputId": "f49d9f94-6fe8-43b4-946c-68d96a212ece"
      },
      "execution_count": 44,
      "outputs": [
        {
          "output_type": "execute_result",
          "data": {
            "text/plain": [
              "[]"
            ]
          },
          "metadata": {},
          "execution_count": 44
        }
      ]
    },
    {
      "cell_type": "markdown",
      "source": [
        "## list의 값 수정\n",
        "\n",
        "```\n",
        "list[index] = value\n",
        "```"
      ],
      "metadata": {
        "id": "GdNCxocRPppb"
      }
    },
    {
      "cell_type": "code",
      "source": [
        "numbers = [1, 3, 5, 7]\n",
        "numbers"
      ],
      "metadata": {
        "colab": {
          "base_uri": "https://localhost:8080/"
        },
        "id": "q3BAeSxxPN6f",
        "outputId": "e6c61818-90a9-4766-f99d-038e4f860570"
      },
      "execution_count": 45,
      "outputs": [
        {
          "output_type": "execute_result",
          "data": {
            "text/plain": [
              "[1, 3, 5, 7]"
            ]
          },
          "metadata": {},
          "execution_count": 45
        }
      ]
    },
    {
      "cell_type": "code",
      "source": [
        "numbers[1] = 100  # 인덱스 1 위치의 값(3)을 100으로 변경"
      ],
      "metadata": {
        "id": "qHFC8cBjP5KD"
      },
      "execution_count": 46,
      "outputs": []
    },
    {
      "cell_type": "code",
      "source": [
        "numbers"
      ],
      "metadata": {
        "colab": {
          "base_uri": "https://localhost:8080/"
        },
        "id": "AFm18TbZQIOI",
        "outputId": "b99f9330-8713-4da8-9291-46f8053f292e"
      },
      "execution_count": 47,
      "outputs": [
        {
          "output_type": "execute_result",
          "data": {
            "text/plain": [
              "[1, 100, 5, 7]"
            ]
          },
          "metadata": {},
          "execution_count": 47
        }
      ]
    },
    {
      "cell_type": "markdown",
      "source": [
        "# list와 for 반복문"
      ],
      "metadata": {
        "id": "jt8bMaXlQSR_"
      }
    },
    {
      "cell_type": "code",
      "source": [
        "for x in 'hello':\n",
        "    print(x)"
      ],
      "metadata": {
        "colab": {
          "base_uri": "https://localhost:8080/"
        },
        "id": "6x86lVZLQVc5",
        "outputId": "ccd381af-c655-4800-f9d1-d52260b62aa7"
      },
      "execution_count": 48,
      "outputs": [
        {
          "output_type": "stream",
          "name": "stdout",
          "text": [
            "h\n",
            "e\n",
            "l\n",
            "l\n",
            "o\n"
          ]
        }
      ]
    },
    {
      "cell_type": "code",
      "source": [
        "for x in numbers:\n",
        "    print(x)"
      ],
      "metadata": {
        "colab": {
          "base_uri": "https://localhost:8080/"
        },
        "id": "p7hsxtt2Qljt",
        "outputId": "b7a19934-3a59-49db-f7f5-2e9294fb3fb4"
      },
      "execution_count": 49,
      "outputs": [
        {
          "output_type": "stream",
          "name": "stdout",
          "text": [
            "1\n",
            "100\n",
            "5\n",
            "7\n"
          ]
        }
      ]
    },
    {
      "cell_type": "markdown",
      "source": [
        "리스트에서 인덱스와 그 인덱스의 원소가 모두 필요한 경우"
      ],
      "metadata": {
        "id": "D-ZpBwWiR4pT"
      }
    },
    {
      "cell_type": "code",
      "source": [
        "len(numbers)  # 리스트 numbers의 원소의 개수를 리턴."
      ],
      "metadata": {
        "colab": {
          "base_uri": "https://localhost:8080/"
        },
        "id": "MNNOQ-s6Qw7W",
        "outputId": "11bd5f21-915b-417c-fb73-467e2cd69248"
      },
      "execution_count": 50,
      "outputs": [
        {
          "output_type": "execute_result",
          "data": {
            "text/plain": [
              "4"
            ]
          },
          "metadata": {},
          "execution_count": 50
        }
      ]
    },
    {
      "cell_type": "code",
      "source": [
        "for i in range(len(numbers)):\n",
        "    print(i, ':', numbers[i])"
      ],
      "metadata": {
        "colab": {
          "base_uri": "https://localhost:8080/"
        },
        "id": "oZdzZ3nTSKZS",
        "outputId": "982825fd-73ff-4b90-e088-6f2a46f90615"
      },
      "execution_count": 51,
      "outputs": [
        {
          "output_type": "stream",
          "name": "stdout",
          "text": [
            "0 : 1\n",
            "1 : 100\n",
            "2 : 5\n",
            "3 : 7\n"
          ]
        }
      ]
    },
    {
      "cell_type": "code",
      "source": [
        "# list에서 리스트의 인덱스와 그 인덱스 위치의 값을 동시에 반복(iteration)\n",
        "for index, value in enumerate(numbers):\n",
        "    print(index, ':', value)"
      ],
      "metadata": {
        "colab": {
          "base_uri": "https://localhost:8080/"
        },
        "id": "jRhaea8WSUrB",
        "outputId": "d0a25b43-b614-487b-d34a-e8551f1e5d46"
      },
      "execution_count": 52,
      "outputs": [
        {
          "output_type": "stream",
          "name": "stdout",
          "text": [
            "0 : 1\n",
            "1 : 100\n",
            "2 : 5\n",
            "3 : 7\n"
          ]
        }
      ]
    },
    {
      "cell_type": "markdown",
      "source": [
        "# Exercises"
      ],
      "metadata": {
        "id": "FCdhacxWU0YH"
      }
    },
    {
      "cell_type": "markdown",
      "source": [
        "Python에서 난수(random number) 생성: `random` 모듈을 import하고, `random` 모듈에 있는 함수들을 사용."
      ],
      "metadata": {
        "id": "LThUpBDCVh6E"
      }
    },
    {
      "cell_type": "code",
      "source": [
        "import random  # random 모듈 임포트(사용)"
      ],
      "metadata": {
        "id": "UILIqlD_VmZR"
      },
      "execution_count": 53,
      "outputs": []
    },
    {
      "cell_type": "code",
      "source": [
        "random.random()  # o <= x < 1 범위의 실수(float) 난수를 리턴."
      ],
      "metadata": {
        "colab": {
          "base_uri": "https://localhost:8080/"
        },
        "id": "cD-NIMipVvGn",
        "outputId": "68aabdf2-1a4b-4abc-b680-d1d3bda61b7d"
      },
      "execution_count": 54,
      "outputs": [
        {
          "output_type": "execute_result",
          "data": {
            "text/plain": [
              "0.6281758264601897"
            ]
          },
          "metadata": {},
          "execution_count": 54
        }
      ]
    },
    {
      "cell_type": "code",
      "source": [
        "random.randrange(1, 5)  # 1 <= x < 5 범위의 정수(int) 난수를 리턴."
      ],
      "metadata": {
        "colab": {
          "base_uri": "https://localhost:8080/"
        },
        "id": "LeafT4ToWh_F",
        "outputId": "29125ffa-51fa-4345-b4ca-d7d7d03fc675"
      },
      "execution_count": 55,
      "outputs": [
        {
          "output_type": "execute_result",
          "data": {
            "text/plain": [
              "4"
            ]
          },
          "metadata": {},
          "execution_count": 55
        }
      ]
    },
    {
      "cell_type": "code",
      "source": [
        "random.randrange(5)  # 0 <= x < 5 범위의 정수 난수를 리턴."
      ],
      "metadata": {
        "colab": {
          "base_uri": "https://localhost:8080/"
        },
        "id": "8QJaGIImXarf",
        "outputId": "326fe740-eb48-43ca-ef09-4ebd041f9255"
      },
      "execution_count": 56,
      "outputs": [
        {
          "output_type": "execute_result",
          "data": {
            "text/plain": [
              "1"
            ]
          },
          "metadata": {},
          "execution_count": 56
        }
      ]
    },
    {
      "cell_type": "code",
      "source": [
        "random.randint(1, 5)  # 1 <= x <= 5 범위의 정수 난수를 리턴."
      ],
      "metadata": {
        "id": "d2Tc8V8ZX1m4",
        "colab": {
          "base_uri": "https://localhost:8080/"
        },
        "outputId": "e1b0a2a4-dce6-4692-818d-5107738ca8ec"
      },
      "execution_count": 57,
      "outputs": [
        {
          "output_type": "execute_result",
          "data": {
            "text/plain": [
              "4"
            ]
          },
          "metadata": {},
          "execution_count": 57
        }
      ]
    },
    {
      "cell_type": "markdown",
      "source": [
        "## Ex 1\n",
        "\n",
        "1. 빈 리스트를 생성.\n",
        "1. 1 이상 10 이하의 정수 난수 5개를 저장.\n",
        "1. 리스트에 저장된 모든 정수들의 합을 계산, 출력.\n",
        "1. 리스트에 저장된 모든 정수들의 평균을 계산, 출력."
      ],
      "metadata": {
        "id": "ZP88umlyU4J_"
      }
    },
    {
      "cell_type": "code",
      "source": [
        "numbers = []\n",
        "numbers"
      ],
      "metadata": {
        "colab": {
          "base_uri": "https://localhost:8080/"
        },
        "id": "cfq-EanMTehg",
        "outputId": "8d2dc186-696b-4f50-fdd3-55840511f015"
      },
      "execution_count": 58,
      "outputs": [
        {
          "output_type": "execute_result",
          "data": {
            "text/plain": [
              "[]"
            ]
          },
          "metadata": {},
          "execution_count": 58
        }
      ]
    },
    {
      "cell_type": "code",
      "source": [
        "for _ in range(5):\n",
        "    numbers.append(random.randrange(1, 11))\n",
        "    print(numbers)\n"
      ],
      "metadata": {
        "colab": {
          "base_uri": "https://localhost:8080/"
        },
        "id": "d2qhFsOjXRUA",
        "outputId": "d4844f96-3cf4-4464-9f0b-da85db03c351"
      },
      "execution_count": 59,
      "outputs": [
        {
          "output_type": "stream",
          "name": "stdout",
          "text": [
            "[8]\n",
            "[8, 9]\n",
            "[8, 9, 2]\n",
            "[8, 9, 2, 2]\n",
            "[8, 9, 2, 2, 10]\n"
          ]
        }
      ]
    },
    {
      "cell_type": "code",
      "source": [
        "sum(numbers)  # sum(iterable): 타입 객체의 모든 원소들의 합을 리턴."
      ],
      "metadata": {
        "colab": {
          "base_uri": "https://localhost:8080/"
        },
        "id": "Wn7YVvVVelxr",
        "outputId": "1be3ffc3-b8a9-4763-a621-533d0b0ac355"
      },
      "execution_count": 60,
      "outputs": [
        {
          "output_type": "execute_result",
          "data": {
            "text/plain": [
              "31"
            ]
          },
          "metadata": {},
          "execution_count": 60
        }
      ]
    },
    {
      "cell_type": "code",
      "source": [
        "total = 0\n",
        "for x in numbers:\n",
        "    total += x\n",
        "\n",
        "total"
      ],
      "metadata": {
        "colab": {
          "base_uri": "https://localhost:8080/"
        },
        "id": "D964061le0aZ",
        "outputId": "ed95b2ce-6c91-4ebe-c62d-6b1860a3df46"
      },
      "execution_count": 61,
      "outputs": [
        {
          "output_type": "execute_result",
          "data": {
            "text/plain": [
              "31"
            ]
          },
          "metadata": {},
          "execution_count": 61
        }
      ]
    },
    {
      "cell_type": "code",
      "source": [
        "total / len(numbers)"
      ],
      "metadata": {
        "colab": {
          "base_uri": "https://localhost:8080/"
        },
        "id": "GC3mZrn9fb7n",
        "outputId": "05378e26-6bf7-4ff6-a892-1429cddcea58"
      },
      "execution_count": 62,
      "outputs": [
        {
          "output_type": "execute_result",
          "data": {
            "text/plain": [
              "6.2"
            ]
          },
          "metadata": {},
          "execution_count": 62
        }
      ]
    },
    {
      "cell_type": "markdown",
      "source": [
        "## Ex 2.\n",
        "\n",
        "1. 빈 리스트(numbers) 생성.\n",
        "1. [10, 100) 범위의 난수 10개를 빈 numbers에 저장.\n",
        "1. numbers에서 짝수들만 선택해서 evens 리스트에 저장.\n",
        "1. numbers에서 홀수들만 선택해서 odds 리스트에 저장."
      ],
      "metadata": {
        "id": "IjxEEfB9glMO"
      }
    },
    {
      "cell_type": "code",
      "source": [
        "numbers = []  # 빈 리스트 생성\n",
        "for _ in range(10):  #10번 반복하면서\n",
        "    numbers.append(random.randrange(10, 100))  # 10 이상 100 미만의 난수를 리스트에 추가\n",
        "\n",
        "numbers  # 리스트 내용 출력"
      ],
      "metadata": {
        "colab": {
          "base_uri": "https://localhost:8080/"
        },
        "id": "JGFVsQ9nfgsW",
        "outputId": "1d516eab-d575-48c9-8c1d-4575c780d52a"
      },
      "execution_count": 63,
      "outputs": [
        {
          "output_type": "execute_result",
          "data": {
            "text/plain": [
              "[54, 89, 71, 39, 50, 68, 85, 49, 65, 64]"
            ]
          },
          "metadata": {},
          "execution_count": 63
        }
      ]
    },
    {
      "cell_type": "code",
      "source": [
        "evens = []  # numbers의 짝수들을 저장할 리스트\n",
        "for x in numbers:  # numbers의 원소들을 반복(iteration)하면서\n",
        "    if x % 2 == 0:  # 리스트에서 꺼낸 원소가 짝수이면\n",
        "        evens.append(x)  # 리스트 evens에 추가\n",
        "\n",
        "evens        "
      ],
      "metadata": {
        "colab": {
          "base_uri": "https://localhost:8080/"
        },
        "id": "BRTsA_urhaOw",
        "outputId": "c51f1e31-c7c6-4276-d078-7ece54caa5f8"
      },
      "execution_count": 64,
      "outputs": [
        {
          "output_type": "execute_result",
          "data": {
            "text/plain": [
              "[54, 50, 68, 64]"
            ]
          },
          "metadata": {},
          "execution_count": 64
        }
      ]
    },
    {
      "cell_type": "code",
      "source": [
        "odds = []  # numbers의 홀수들을 저장할 리스트\n",
        "for x in numbers:\n",
        "    if x % 2:  # numbers에서 꺼낸 원소가 홀수이면\n",
        "        odds.append(x)  # odds에 홀수를 추가\n",
        "\n",
        "odds        "
      ],
      "metadata": {
        "colab": {
          "base_uri": "https://localhost:8080/"
        },
        "id": "g_KNqL-1lOVy",
        "outputId": "c00d6205-6c77-4b1b-801b-38ed03f34e55"
      },
      "execution_count": 65,
      "outputs": [
        {
          "output_type": "execute_result",
          "data": {
            "text/plain": [
              "[89, 71, 39, 85, 49, 65]"
            ]
          },
          "metadata": {},
          "execution_count": 65
        }
      ]
    },
    {
      "cell_type": "markdown",
      "source": [
        "## Ex 3.\n",
        "\n",
        "1. 빈 리스트(numbers)를 생성.\n",
        "1. [-10, 10] 범위의 난수 10개를 numbers에 저장.\n",
        "1. numbers의 원소가 양수이면 True, 그렇지 않으면 False를 저장하는 리스트 is_positives를 만들고 출력.\n",
        "\n"
      ],
      "metadata": {
        "id": "BXRk63BPqPTw"
      }
    },
    {
      "cell_type": "code",
      "source": [
        "numbers = []\n",
        "for _ in range(10):\n",
        "    numbers.append(random.randrange(-10, 11))\n",
        "print(numbers)\n",
        "\n",
        "is_positives = []\n",
        "for x in numbers:\n",
        "    if x > 0:\n",
        "        is_positives.append(True)\n",
        "    else:\n",
        "        is_positives.append(False)       \n",
        "print(is_positives)"
      ],
      "metadata": {
        "colab": {
          "base_uri": "https://localhost:8080/"
        },
        "id": "WEcVAdOCqOfe",
        "outputId": "f2a8e429-8c93-45e1-bc37-da56ef7d511d"
      },
      "execution_count": 66,
      "outputs": [
        {
          "output_type": "stream",
          "name": "stdout",
          "text": [
            "[10, 3, -9, 5, -3, -6, -8, 3, -4, -6]\n",
            "[True, True, False, True, False, False, False, True, False, False]\n"
          ]
        }
      ]
    },
    {
      "cell_type": "code",
      "source": [
        "numbers = []\n",
        "is_positives = []\n",
        "\n",
        "for _ in range(10):  # 10번 반복하면서\n",
        "    rand_num = random.randrange(-10, 11)  # [-10, 11) 범위의 난수 생성\n",
        "    numbers.append(rand_num)  # 생성된 난수를 numbers에 추가\n",
        "    if rand_num > 0:  # 생성된 난수가 양수이면\n",
        "        is_positives.append(True)  # True를 is_positives에 추가.\n",
        "    else:  # 생성된 난수가 음수이면\n",
        "        is_positives.append(False)  # False를 is_positives에 추가.\n",
        "\n",
        "print(numbers)    \n",
        "print(is_positives)         "
      ],
      "metadata": {
        "colab": {
          "base_uri": "https://localhost:8080/"
        },
        "id": "GRF3hRgluLQ5",
        "outputId": "2c37fcf9-3085-4d38-f9b8-47c9c34ffe70"
      },
      "execution_count": 67,
      "outputs": [
        {
          "output_type": "stream",
          "name": "stdout",
          "text": [
            "[-2, 8, -5, -5, 1, -1, 7, 4, -4, 7]\n",
            "[False, True, False, False, True, False, True, True, False, True]\n"
          ]
        }
      ]
    },
    {
      "cell_type": "markdown",
      "source": [
        "## Ex 4.\n",
        "\n",
        "1. 빈 리스트 gender_codes를 생성.\n",
        "1. gender_codes에 0 또는 1을 랜덤하게 10번 저장.\n",
        "1. gender_codes의 값이 0이면 'Male', 1이면 'Female'을 저장하는 리스트 genders를 만들고 출력."
      ],
      "metadata": {
        "id": "BDhYPv_qt9dB"
      }
    },
    {
      "cell_type": "code",
      "source": [
        "gender_codes = []\n",
        "for _ in range(10):\n",
        "    gender_codes.append(random.randrange(0, 2))\n",
        "print(gender_codes)    "
      ],
      "metadata": {
        "colab": {
          "base_uri": "https://localhost:8080/"
        },
        "id": "9b7nXccXrUJg",
        "outputId": "0272f803-ed84-4bf4-d466-97bd499294a9"
      },
      "execution_count": 68,
      "outputs": [
        {
          "output_type": "stream",
          "name": "stdout",
          "text": [
            "[1, 1, 1, 1, 0, 1, 0, 0, 0, 0]\n"
          ]
        }
      ]
    },
    {
      "cell_type": "code",
      "source": [
        "genders = []\n",
        "for x in gender_codes:\n",
        "    if x == 0:\n",
        "        genders.append('Male')\n",
        "    else:\n",
        "        genders.append('Female')\n",
        "print(genders)"
      ],
      "metadata": {
        "colab": {
          "base_uri": "https://localhost:8080/"
        },
        "id": "OZatfykBr0GZ",
        "outputId": "73db561a-cb4e-444b-89ac-16d3cf7d3b95"
      },
      "execution_count": 69,
      "outputs": [
        {
          "output_type": "stream",
          "name": "stdout",
          "text": [
            "['Female', 'Female', 'Female', 'Female', 'Male', 'Female', 'Male', 'Male', 'Male', 'Male']\n"
          ]
        }
      ]
    },
    {
      "cell_type": "markdown",
      "source": [
        "# List Comprehension(리스트 내포)"
      ],
      "metadata": {
        "id": "LsTAvaZEwCfD"
      }
    },
    {
      "cell_type": "markdown",
      "source": [
        "1 ~ 10까지 정수를 차례로 저장하고 있는 리스트: `[1, 2, 3, ..., 9, 10]`"
      ],
      "metadata": {
        "id": "_FA9PTXBwfvn"
      }
    },
    {
      "cell_type": "code",
      "source": [
        "numbers = []\n",
        "for x in range(1, 11):\n",
        "    numbers.append(x)\n",
        "numbers    "
      ],
      "metadata": {
        "colab": {
          "base_uri": "https://localhost:8080/"
        },
        "id": "RURd9w7Kwsar",
        "outputId": "a22dab07-f54d-4b7c-c2cb-e0597d6a2bd6"
      },
      "execution_count": 70,
      "outputs": [
        {
          "output_type": "execute_result",
          "data": {
            "text/plain": [
              "[1, 2, 3, 4, 5, 6, 7, 8, 9, 10]"
            ]
          },
          "metadata": {},
          "execution_count": 70
        }
      ]
    },
    {
      "cell_type": "code",
      "source": [
        "numbers = [x for x in range(1, 11)]\n",
        "numbers"
      ],
      "metadata": {
        "colab": {
          "base_uri": "https://localhost:8080/"
        },
        "id": "5ZsGJ8iCw5EM",
        "outputId": "5e9675c4-915b-4f11-c9ed-d1a86b92c200"
      },
      "execution_count": 71,
      "outputs": [
        {
          "output_type": "execute_result",
          "data": {
            "text/plain": [
              "[1, 2, 3, 4, 5, 6, 7, 8, 9, 10]"
            ]
          },
          "metadata": {},
          "execution_count": 71
        }
      ]
    },
    {
      "cell_type": "markdown",
      "source": [
        "1부터 10까지 정수들의 제곱을 저장하는 리스트: `[1, 4, 9, 16, ..., 64, 81, 100]` "
      ],
      "metadata": {
        "id": "8f6kWc-ox8Mf"
      }
    },
    {
      "cell_type": "code",
      "source": [
        "squares = []\n",
        "for x in range(1, 11):\n",
        "    squares.append(x ** 2)\n",
        "squares    "
      ],
      "metadata": {
        "colab": {
          "base_uri": "https://localhost:8080/"
        },
        "id": "iJjA4zTCy2oP",
        "outputId": "758742d1-e6b8-41a5-da3d-e9c9f24cae1d"
      },
      "execution_count": 72,
      "outputs": [
        {
          "output_type": "execute_result",
          "data": {
            "text/plain": [
              "[1, 4, 9, 16, 25, 36, 49, 64, 81, 100]"
            ]
          },
          "metadata": {},
          "execution_count": 72
        }
      ]
    },
    {
      "cell_type": "code",
      "source": [
        "squares2 = [x ** 2 for x in range(1, 11)]\n",
        "squares2"
      ],
      "metadata": {
        "colab": {
          "base_uri": "https://localhost:8080/"
        },
        "id": "SCGcTVEgx6kg",
        "outputId": "22d01481-29ad-4119-885e-e80022f8bf9c"
      },
      "execution_count": 73,
      "outputs": [
        {
          "output_type": "execute_result",
          "data": {
            "text/plain": [
              "[1, 4, 9, 16, 25, 36, 49, 64, 81, 100]"
            ]
          },
          "metadata": {},
          "execution_count": 73
        }
      ]
    },
    {
      "cell_type": "markdown",
      "source": [
        "0 이상 10 이하의 짝수들을 저장하는 리스트: `[0, 2, 4, 6, 8, 10]`"
      ],
      "metadata": {
        "id": "QJTpaqwczgFQ"
      }
    },
    {
      "cell_type": "code",
      "source": [
        "evens = [x for x in range(0, 11, 2)]\n",
        "print(evens)"
      ],
      "metadata": {
        "colab": {
          "base_uri": "https://localhost:8080/"
        },
        "id": "CPtsszYSzdNA",
        "outputId": "aaa2f7d3-7942-4875-decf-86f2cfe9cffd"
      },
      "execution_count": 74,
      "outputs": [
        {
          "output_type": "stream",
          "name": "stdout",
          "text": [
            "[0, 2, 4, 6, 8, 10]\n"
          ]
        }
      ]
    },
    {
      "cell_type": "markdown",
      "source": [
        "0 이상 10 이하의 홀수들을 저장하는 리스트: `[1, 3, 5, 7, 9]`"
      ],
      "metadata": {
        "id": "xQKrb6wr0NIA"
      }
    },
    {
      "cell_type": "code",
      "source": [
        "odds = [x for x in range(1, 10, 2)]\n",
        "odds"
      ],
      "metadata": {
        "colab": {
          "base_uri": "https://localhost:8080/"
        },
        "id": "WJIOegX00LqW",
        "outputId": "7a202953-2ab5-447a-f67a-3a502b8ef64f"
      },
      "execution_count": 75,
      "outputs": [
        {
          "output_type": "execute_result",
          "data": {
            "text/plain": [
              "[1, 3, 5, 7, 9]"
            ]
          },
          "metadata": {},
          "execution_count": 75
        }
      ]
    },
    {
      "cell_type": "code",
      "source": [
        "# 10 이상 100 미만의 정수 난수 10개를 저장하는 리스트\n",
        "numbers = [random.randrange(10, 100) for _ in range(10)]\n",
        "numbers"
      ],
      "metadata": {
        "colab": {
          "base_uri": "https://localhost:8080/"
        },
        "id": "98wEcild0iCX",
        "outputId": "2f417e7d-0004-41ae-bf0f-1935640d5c57"
      },
      "execution_count": 76,
      "outputs": [
        {
          "output_type": "execute_result",
          "data": {
            "text/plain": [
              "[20, 38, 17, 14, 45, 94, 25, 48, 99, 47]"
            ]
          },
          "metadata": {},
          "execution_count": 76
        }
      ]
    },
    {
      "cell_type": "code",
      "source": [
        "# numbers에서 짝수들만 선택해서 저장한 리스트\n",
        "evens = [x for x in numbers if x % 2 == 0]\n",
        "evens"
      ],
      "metadata": {
        "colab": {
          "base_uri": "https://localhost:8080/"
        },
        "id": "V89u9gEF5arq",
        "outputId": "0ddb1cf1-869a-4877-a5e1-5f2a02ff3712"
      },
      "execution_count": 77,
      "outputs": [
        {
          "output_type": "execute_result",
          "data": {
            "text/plain": [
              "[20, 38, 14, 94, 48]"
            ]
          },
          "metadata": {},
          "execution_count": 77
        }
      ]
    },
    {
      "cell_type": "code",
      "source": [
        "# numbers에서 홀수들만 선택해서 저장한 리스트\n",
        "odds = [x for x in numbers if x % 2]\n",
        "odds"
      ],
      "metadata": {
        "colab": {
          "base_uri": "https://localhost:8080/"
        },
        "id": "KNkoY6J65wd7",
        "outputId": "0a8bbbd6-e6e3-4c9f-dc04-a9da36e59e3d"
      },
      "execution_count": 78,
      "outputs": [
        {
          "output_type": "execute_result",
          "data": {
            "text/plain": [
              "[17, 45, 25, 99, 47]"
            ]
          },
          "metadata": {},
          "execution_count": 78
        }
      ]
    },
    {
      "cell_type": "code",
      "source": [
        "# numbers의 숫자가 짝수이면 'even', 홀수이면 'odd'를 저장하는 리스트\n",
        "is_even = ['even' if x % 2 == 0 else 'odd' \n",
        "           for x in numbers]\n",
        "is_even"
      ],
      "metadata": {
        "colab": {
          "base_uri": "https://localhost:8080/"
        },
        "id": "iUViXdw16p68",
        "outputId": "61c40684-aa4d-4d0d-e75d-f0ddff7041f9"
      },
      "execution_count": 79,
      "outputs": [
        {
          "output_type": "execute_result",
          "data": {
            "text/plain": [
              "['even', 'even', 'odd', 'even', 'odd', 'even', 'odd', 'even', 'odd', 'odd']"
            ]
          },
          "metadata": {},
          "execution_count": 79
        }
      ]
    },
    {
      "cell_type": "code",
      "source": [
        "x = -100\n",
        "is_positive = True if x > 0 else False  # if-else 표현식 - Java의 삼항 연산자(if 조건 ? 값1 : 값2)\n",
        "is_positive"
      ],
      "metadata": {
        "colab": {
          "base_uri": "https://localhost:8080/"
        },
        "id": "PbSCFtOX7ggY",
        "outputId": "f4f01327-ebab-4998-919d-4a3d3a0aae54"
      },
      "execution_count": 80,
      "outputs": [
        {
          "output_type": "execute_result",
          "data": {
            "text/plain": [
              "False"
            ]
          },
          "metadata": {},
          "execution_count": 80
        }
      ]
    },
    {
      "cell_type": "code",
      "source": [
        "# -10 이상 10 이하의 정수 난수 10개를 저장하는 리스트\n",
        "numbers = [random.randrange(-10, 11) for _ in range(10)]\n",
        "numbers"
      ],
      "metadata": {
        "colab": {
          "base_uri": "https://localhost:8080/"
        },
        "id": "D4mwcsmd-aVP",
        "outputId": "69b613e6-f05a-4956-e95e-da7f822186e6"
      },
      "execution_count": 81,
      "outputs": [
        {
          "output_type": "execute_result",
          "data": {
            "text/plain": [
              "[-9, -1, 2, 8, -1, -4, 1, -8, 7, -6]"
            ]
          },
          "metadata": {},
          "execution_count": 81
        }
      ]
    },
    {
      "cell_type": "code",
      "source": [
        "# numbers의 원소들 중에서 양수들만 저장하는 리스트\n",
        "positives = [x for x in numbers if x > 0]\n",
        "positives"
      ],
      "metadata": {
        "colab": {
          "base_uri": "https://localhost:8080/"
        },
        "id": "nU9MOoua-jGs",
        "outputId": "0e23c427-b206-4014-c59c-298da624bc9b"
      },
      "execution_count": 82,
      "outputs": [
        {
          "output_type": "execute_result",
          "data": {
            "text/plain": [
              "[2, 8, 1, 7]"
            ]
          },
          "metadata": {},
          "execution_count": 82
        }
      ]
    },
    {
      "cell_type": "code",
      "source": [
        "# numbers의 원소들 중에서 양수가 아닌(음수 또는 0) 숫자들만 저장하는 리스트\n",
        "not_positives = [x for x in numbers if x <= 0]\n",
        "not_positives"
      ],
      "metadata": {
        "colab": {
          "base_uri": "https://localhost:8080/"
        },
        "id": "5iFLbHTv-pKp",
        "outputId": "ebf61f79-d876-4a8c-9549-6e7e01d2df6e"
      },
      "execution_count": 83,
      "outputs": [
        {
          "output_type": "execute_result",
          "data": {
            "text/plain": [
              "[-9, -1, -1, -4, -8, -6]"
            ]
          },
          "metadata": {},
          "execution_count": 83
        }
      ]
    },
    {
      "cell_type": "code",
      "source": [
        "# numbers의 원소가 양수이면 True, 그렇지 않으면 False를 저장하는 리스트\n",
        "is_positives = [True if x > 0 else False \n",
        "                for x in numbers]\n",
        "is_positives"
      ],
      "metadata": {
        "colab": {
          "base_uri": "https://localhost:8080/"
        },
        "id": "p-hAEGuj-ze4",
        "outputId": "74b864bd-f593-4d5d-f96f-981713fe6273"
      },
      "execution_count": 84,
      "outputs": [
        {
          "output_type": "execute_result",
          "data": {
            "text/plain": [
              "[False, False, True, True, False, False, True, False, True, False]"
            ]
          },
          "metadata": {},
          "execution_count": 84
        }
      ]
    },
    {
      "cell_type": "markdown",
      "source": [
        "# List Comprehension 연습"
      ],
      "metadata": {
        "id": "hPXLtI9JHI5O"
      }
    },
    {
      "cell_type": "markdown",
      "source": [
        "## Ex 1.\n",
        "\n",
        "1. 0 또는 1을 랜덤하게 10개를 저장하는 리스트 gender_codes를 만들고 출력.\n",
        "1. gender_codes의 값이 0이면 'Male', 1이면 'Female'을 저장하는 리스트 genders를 만들고 출력"
      ],
      "metadata": {
        "id": "LWQvgc6lGcik"
      }
    },
    {
      "cell_type": "code",
      "source": [
        "gender_codes = [random.randrange(0, 2) for _ in range(10)]\n",
        "gender_codes"
      ],
      "metadata": {
        "id": "btlnCYiEGj6v",
        "colab": {
          "base_uri": "https://localhost:8080/"
        },
        "outputId": "a5b303ab-ddda-4315-9186-35fe608ea1a0"
      },
      "execution_count": 85,
      "outputs": [
        {
          "output_type": "execute_result",
          "data": {
            "text/plain": [
              "[0, 0, 0, 0, 1, 0, 0, 0, 0, 1]"
            ]
          },
          "metadata": {},
          "execution_count": 85
        }
      ]
    },
    {
      "cell_type": "code",
      "source": [
        "genders = ['Male' if x == 0 else 'Female' \n",
        "           for x in gender_codes]\n",
        "print(genders)"
      ],
      "metadata": {
        "colab": {
          "base_uri": "https://localhost:8080/"
        },
        "id": "uaiE6gvWGwhV",
        "outputId": "4b4c524e-2ae6-43e2-b8c3-9f56f8690d47"
      },
      "execution_count": 86,
      "outputs": [
        {
          "output_type": "stream",
          "name": "stdout",
          "text": [
            "['Male', 'Male', 'Male', 'Male', 'Female', 'Male', 'Male', 'Male', 'Male', 'Female']\n"
          ]
        }
      ]
    },
    {
      "cell_type": "markdown",
      "source": [
        "## Ex 2.\n",
        "\n",
        "1. 0, 1, 2를 랜덤하게 10개 저장하는 리스트 gender_codes를 만들고 출력.\n",
        "1. gender_codes의 값이 0이면 'Male', 1이면 'Female', 2이면 'Unknown'을 저장하는 리스트 genders를 만들고 출력."
      ],
      "metadata": {
        "id": "cvEBKOU4HOoP"
      }
    },
    {
      "cell_type": "code",
      "source": [
        "gender_codes = [random.randrange(0, 3) for _ in range(10)]\n",
        "gender_codes"
      ],
      "metadata": {
        "id": "KS8x68jeHSv8",
        "colab": {
          "base_uri": "https://localhost:8080/"
        },
        "outputId": "fe8ad348-5972-42c9-defd-70a00598af5d"
      },
      "execution_count": 87,
      "outputs": [
        {
          "output_type": "execute_result",
          "data": {
            "text/plain": [
              "[2, 0, 2, 2, 1, 1, 1, 1, 2, 2]"
            ]
          },
          "metadata": {},
          "execution_count": 87
        }
      ]
    },
    {
      "cell_type": "code",
      "source": [
        "genders = ['Male' if x == 0 else ('Female' if x == 1 else 'Unknown') \n",
        "           for x in gender_codes]\n",
        "print(genders)"
      ],
      "metadata": {
        "colab": {
          "base_uri": "https://localhost:8080/"
        },
        "id": "W1FoK0NmHQHP",
        "outputId": "9e253ef0-f75d-4b06-9d96-bd7f47a05951"
      },
      "execution_count": 88,
      "outputs": [
        {
          "output_type": "stream",
          "name": "stdout",
          "text": [
            "['Unknown', 'Male', 'Unknown', 'Unknown', 'Female', 'Female', 'Female', 'Female', 'Unknown', 'Unknown']\n"
          ]
        }
      ]
    },
    {
      "cell_type": "markdown",
      "source": [
        "## Ex 3.\n",
        "\n",
        "1. 0 이상 10 미만의 정수 난수 10개를 저장하는 리스트 numbers1을 만들고 출력.\n",
        "1. 0 이상 10 미만의 정수 난수 10개를 저장하는 리스트 numbers2을 만들고 출력.\n",
        "1. numbers1과 numbers2에서 같은 인덱스의 원소들끼리의 합을 저장하는 리스트 adds를 만들고 출력.\n",
        "1. numbers1과 numbers2에서 같은 인덱스의 원소들끼리의 곱을 저장하는 리스트 mutiplicatoins를 만들고 출력.\n",
        "1. mutiplications의 모든 원소들의 합을 계산하고 출력."
      ],
      "metadata": {
        "id": "NlIuVqODHVSh"
      }
    },
    {
      "cell_type": "code",
      "source": [
        "numbers1 = [random.randrange(0, 10) for _ in range(10)]\n",
        "numbers1"
      ],
      "metadata": {
        "id": "eKEST2ELHW5x",
        "colab": {
          "base_uri": "https://localhost:8080/"
        },
        "outputId": "c4156a79-8996-49de-d881-715033aadea3"
      },
      "execution_count": 89,
      "outputs": [
        {
          "output_type": "execute_result",
          "data": {
            "text/plain": [
              "[4, 5, 7, 1, 5, 8, 7, 9, 3, 8]"
            ]
          },
          "metadata": {},
          "execution_count": 89
        }
      ]
    },
    {
      "cell_type": "code",
      "source": [
        "numbers2 = [random.randrange(0, 10) for _ in range(10)]\n",
        "numbers2"
      ],
      "metadata": {
        "colab": {
          "base_uri": "https://localhost:8080/"
        },
        "id": "ZZG9gVcxMKV3",
        "outputId": "77ca23e8-5e56-4a1f-f32e-01847295e75e"
      },
      "execution_count": 90,
      "outputs": [
        {
          "output_type": "execute_result",
          "data": {
            "text/plain": [
              "[8, 7, 5, 9, 9, 9, 2, 0, 0, 3]"
            ]
          },
          "metadata": {},
          "execution_count": 90
        }
      ]
    },
    {
      "cell_type": "code",
      "source": [
        "adds = [numbers1[i] + numbers2[i] for i in range(10)]\n",
        "adds"
      ],
      "metadata": {
        "colab": {
          "base_uri": "https://localhost:8080/"
        },
        "id": "LE-YZ6KBMihq",
        "outputId": "55758096-5f8b-456f-9801-4263997dbe1c"
      },
      "execution_count": 94,
      "outputs": [
        {
          "output_type": "execute_result",
          "data": {
            "text/plain": [
              "[12, 12, 12, 10, 14, 17, 9, 9, 3, 11]"
            ]
          },
          "metadata": {},
          "execution_count": 94
        }
      ]
    },
    {
      "cell_type": "code",
      "source": [
        "adds = [x + y for x, y in zip(numbers1, numbers2)]\n",
        "adds"
      ],
      "metadata": {
        "colab": {
          "base_uri": "https://localhost:8080/"
        },
        "id": "chjFfILb586B",
        "outputId": "859589c9-335c-460b-8751-8b78adbcd852"
      },
      "execution_count": 96,
      "outputs": [
        {
          "output_type": "execute_result",
          "data": {
            "text/plain": [
              "[12, 12, 12, 10, 14, 17, 9, 9, 3, 11]"
            ]
          },
          "metadata": {},
          "execution_count": 96
        }
      ]
    },
    {
      "cell_type": "code",
      "source": [
        "mutiplicatoins = [x * y for x, y in zip(numbers1, numbers2)]\n",
        "mutiplicatoins"
      ],
      "metadata": {
        "colab": {
          "base_uri": "https://localhost:8080/"
        },
        "id": "QqfJ_NUYQA9k",
        "outputId": "bc6d611d-5c84-4d41-d007-bbc8e97c3f01"
      },
      "execution_count": 97,
      "outputs": [
        {
          "output_type": "execute_result",
          "data": {
            "text/plain": [
              "[32, 35, 35, 9, 45, 72, 14, 0, 0, 24]"
            ]
          },
          "metadata": {},
          "execution_count": 97
        }
      ]
    },
    {
      "cell_type": "code",
      "source": [
        "sum(mutiplicatoins)"
      ],
      "metadata": {
        "colab": {
          "base_uri": "https://localhost:8080/"
        },
        "id": "0hLPbnfXQNKO",
        "outputId": "a3b0d460-36e2-45ef-8ae4-4937d2670e0f"
      },
      "execution_count": 98,
      "outputs": [
        {
          "output_type": "execute_result",
          "data": {
            "text/plain": [
              "266"
            ]
          },
          "metadata": {},
          "execution_count": 98
        }
      ]
    },
    {
      "cell_type": "code",
      "source": [
        "total = 0\n",
        "for x in mutiplicatoins:\n",
        "    total += x\n",
        "\n",
        "total"
      ],
      "metadata": {
        "colab": {
          "base_uri": "https://localhost:8080/"
        },
        "id": "gyXEvfm87uVu",
        "outputId": "16b68648-938b-499e-9776-3d2c19e91274"
      },
      "execution_count": 99,
      "outputs": [
        {
          "output_type": "execute_result",
          "data": {
            "text/plain": [
              "266"
            ]
          },
          "metadata": {},
          "execution_count": 99
        }
      ]
    },
    {
      "cell_type": "markdown",
      "source": [
        "# 다차원 리스트\n"
      ],
      "metadata": {
        "id": "LnfVkw4g8PJi"
      }
    },
    {
      "cell_type": "code",
      "source": [
        "matrix = [ [1, 2, 3], \n",
        "          [4, 5, 6],\n",
        "          [7, 8, 9] ]\n",
        "matrix          "
      ],
      "metadata": {
        "colab": {
          "base_uri": "https://localhost:8080/"
        },
        "id": "P6drIe7v8b6o",
        "outputId": "0928ba3b-25f3-455c-fb1d-29bdc56778dc"
      },
      "execution_count": 100,
      "outputs": [
        {
          "output_type": "execute_result",
          "data": {
            "text/plain": [
              "[[1, 2, 3], [4, 5, 6], [7, 8, 9]]"
            ]
          },
          "metadata": {},
          "execution_count": 100
        }
      ]
    },
    {
      "cell_type": "markdown",
      "source": [
        "## 2타원 리스트의 indexing"
      ],
      "metadata": {
        "id": "JZQ6FC8_8wEl"
      }
    },
    {
      "cell_type": "code",
      "source": [
        "matrix[0]  #> 1차원 리스트"
      ],
      "metadata": {
        "colab": {
          "base_uri": "https://localhost:8080/"
        },
        "id": "A2QxOzVb8ovF",
        "outputId": "60cdf327-0789-403e-eb3d-0fc2d1129639"
      },
      "execution_count": 101,
      "outputs": [
        {
          "output_type": "execute_result",
          "data": {
            "text/plain": [
              "[1, 2, 3]"
            ]
          },
          "metadata": {},
          "execution_count": 101
        }
      ]
    },
    {
      "cell_type": "code",
      "source": [
        "matrix[0][0]"
      ],
      "metadata": {
        "colab": {
          "base_uri": "https://localhost:8080/"
        },
        "id": "p0T2GF83864n",
        "outputId": "d1121e46-5615-4f0f-9519-f4f4d33433b6"
      },
      "execution_count": 102,
      "outputs": [
        {
          "output_type": "execute_result",
          "data": {
            "text/plain": [
              "1"
            ]
          },
          "metadata": {},
          "execution_count": 102
        }
      ]
    },
    {
      "cell_type": "code",
      "source": [
        "matrix[1][2]  #> 6"
      ],
      "metadata": {
        "colab": {
          "base_uri": "https://localhost:8080/"
        },
        "id": "cW4XC7eh9YSZ",
        "outputId": "23d3b872-d384-4bc8-a1d5-062000084787"
      },
      "execution_count": 103,
      "outputs": [
        {
          "output_type": "execute_result",
          "data": {
            "text/plain": [
              "6"
            ]
          },
          "metadata": {},
          "execution_count": 103
        }
      ]
    },
    {
      "cell_type": "markdown",
      "source": [
        "## 2차원 리스트와 for 반복문"
      ],
      "metadata": {
        "id": "ecp4WfkR9puI"
      }
    },
    {
      "cell_type": "code",
      "source": [
        "for row in matrix:\n",
        "    print(row)"
      ],
      "metadata": {
        "colab": {
          "base_uri": "https://localhost:8080/"
        },
        "id": "08Qc2RQC9eFd",
        "outputId": "c9f285a0-0640-4119-9f8d-b3975b49f7c6"
      },
      "execution_count": 105,
      "outputs": [
        {
          "output_type": "stream",
          "name": "stdout",
          "text": [
            "[1, 2, 3]\n",
            "[4, 5, 6]\n",
            "[7, 8, 9]\n"
          ]
        }
      ]
    },
    {
      "cell_type": "code",
      "source": [
        "for row in matrix:\n",
        "    for x in row:\n",
        "        print(x)"
      ],
      "metadata": {
        "colab": {
          "base_uri": "https://localhost:8080/"
        },
        "id": "tjR1caeE9zjx",
        "outputId": "3fae4ab1-f6b6-4e09-9a59-62fc5c2d7435"
      },
      "execution_count": 106,
      "outputs": [
        {
          "output_type": "stream",
          "name": "stdout",
          "text": [
            "1\n",
            "2\n",
            "3\n",
            "4\n",
            "5\n",
            "6\n",
            "7\n",
            "8\n",
            "9\n"
          ]
        }
      ]
    },
    {
      "cell_type": "code",
      "source": [
        "for row in matrix:\n",
        "    for x in row:\n",
        "        print(x, end=' ')\n",
        "    print()  # 줄바꿈      "
      ],
      "metadata": {
        "colab": {
          "base_uri": "https://localhost:8080/"
        },
        "id": "vvpu3Ym2-XR4",
        "outputId": "65d07283-589a-4332-a890-7b550ae80451"
      },
      "execution_count": 108,
      "outputs": [
        {
          "output_type": "stream",
          "name": "stdout",
          "text": [
            "1 2 3 \n",
            "4 5 6 \n",
            "7 8 9 \n"
          ]
        }
      ]
    },
    {
      "cell_type": "markdown",
      "source": [
        "## 2차원 리스트와 list comprehension"
      ],
      "metadata": {
        "id": "7repGKt2DZG7"
      }
    },
    {
      "cell_type": "code",
      "source": [
        "# 3x3 모양의 정수 난수 9개를 저장하는 2차원 리스트를 생성.\n",
        "matrix1 = []  # 빈 리스트 - 1차원 리스트들을 저장하기 위한 리스트.\n",
        "for _ in range(3):\n",
        "    row = []  # 빈 리스트 - 3개의 난수를 저장하기 위한 리스트.\n",
        "    for _ in range(3):\n",
        "        row.append(random.randrange(10))\n",
        "    matrix1.append(row)\n",
        "\n",
        "matrix1        "
      ],
      "metadata": {
        "colab": {
          "base_uri": "https://localhost:8080/"
        },
        "id": "xe4sdAh0-3TO",
        "outputId": "348ea908-edd7-4592-f582-bd3913894809"
      },
      "execution_count": 109,
      "outputs": [
        {
          "output_type": "execute_result",
          "data": {
            "text/plain": [
              "[[4, 1, 7], [1, 0, 3], [0, 9, 3]]"
            ]
          },
          "metadata": {},
          "execution_count": 109
        }
      ]
    },
    {
      "cell_type": "code",
      "source": [
        "matrix2 = []\n",
        "for _ in range(3):\n",
        "    row = [random.randrange(10) for _ in range(3)]\n",
        "    matrix2.append(row)\n",
        "\n",
        "matrix2    "
      ],
      "metadata": {
        "colab": {
          "base_uri": "https://localhost:8080/"
        },
        "id": "1dDqGxHmEv30",
        "outputId": "b0cbaade-e169-4847-d903-c7fbb0878139"
      },
      "execution_count": 110,
      "outputs": [
        {
          "output_type": "execute_result",
          "data": {
            "text/plain": [
              "[[6, 3, 2], [2, 8, 4], [9, 6, 9]]"
            ]
          },
          "metadata": {},
          "execution_count": 110
        }
      ]
    },
    {
      "cell_type": "code",
      "source": [
        "matrix3 = [ [random.randrange(10) for _ in range(3)] \n",
        "           for _ in range(3) ]\n",
        "\n",
        "matrix3           "
      ],
      "metadata": {
        "colab": {
          "base_uri": "https://localhost:8080/"
        },
        "id": "U-kekC3cGEJ2",
        "outputId": "3b7d3654-5317-4983-f6f6-4856cc5fab49"
      },
      "execution_count": 111,
      "outputs": [
        {
          "output_type": "execute_result",
          "data": {
            "text/plain": [
              "[[6, 1, 1], [5, 7, 3], [2, 6, 7]]"
            ]
          },
          "metadata": {},
          "execution_count": 111
        }
      ]
    },
    {
      "cell_type": "code",
      "source": [
        "# matrix1, matrix2의 같은 인덱스에 있는 원소들끼리의 합을 원소로 갖는 리스트.\n",
        "adds = []  # 각 원소들끼리의 합을 저장할 (2차원) 리스트\n",
        "for row1, row2 in zip(matrix1, matrix2):\n",
        "    temp = []  # 각 행에 있는 원소들끼리의 합을 저장할 (1차원) 리스트\n",
        "    for x, y in zip(row1, row2):\n",
        "        temp.append(x + y)\n",
        "    adds.append(temp)\n",
        "    \n",
        "adds"
      ],
      "metadata": {
        "colab": {
          "base_uri": "https://localhost:8080/"
        },
        "id": "jwiDZxWoHA99",
        "outputId": "2d354ae3-bbe5-4146-f4f4-b47c2ef8e3fa"
      },
      "execution_count": 122,
      "outputs": [
        {
          "output_type": "execute_result",
          "data": {
            "text/plain": [
              "[[10, 4, 9], [3, 8, 7], [9, 15, 12]]"
            ]
          },
          "metadata": {},
          "execution_count": 122
        }
      ]
    },
    {
      "cell_type": "code",
      "source": [
        "adds = []\n",
        "for row1, row2 in zip(matrix1, matrix2):\n",
        "    temp = [x + y for x, y in zip(row1, row2)]\n",
        "    adds.append(temp)\n",
        "\n",
        "adds"
      ],
      "metadata": {
        "colab": {
          "base_uri": "https://localhost:8080/"
        },
        "id": "604E7h1WLFoi",
        "outputId": "7d97286a-19aa-4be8-9999-ff80f9ab8617"
      },
      "execution_count": 123,
      "outputs": [
        {
          "output_type": "execute_result",
          "data": {
            "text/plain": [
              "[[10, 4, 9], [3, 8, 7], [9, 15, 12]]"
            ]
          },
          "metadata": {},
          "execution_count": 123
        }
      ]
    },
    {
      "cell_type": "code",
      "source": [
        "adds = [ [ x + y for x, y in zip(row1, row2) ] \n",
        "        for row1, row2 in zip(matrix1, matrix2)]\n",
        "\n",
        "adds        "
      ],
      "metadata": {
        "colab": {
          "base_uri": "https://localhost:8080/"
        },
        "id": "nSQe4h1HLnqi",
        "outputId": "730ae4ba-bc44-48d3-cfc7-4b27a23c3462"
      },
      "execution_count": 124,
      "outputs": [
        {
          "output_type": "execute_result",
          "data": {
            "text/plain": [
              "[[10, 4, 9], [3, 8, 7], [9, 15, 12]]"
            ]
          },
          "metadata": {},
          "execution_count": 124
        }
      ]
    }
  ]
}