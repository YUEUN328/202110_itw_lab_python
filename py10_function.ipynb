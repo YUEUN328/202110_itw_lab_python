{
  "nbformat": 4,
  "nbformat_minor": 0,
  "metadata": {
    "colab": {
      "name": "py10_function.ipynb",
      "provenance": [],
      "collapsed_sections": [],
      "authorship_tag": "ABX9TyNXPHBf4G1ynfvgDHpOdmyu",
      "include_colab_link": true
    },
    "kernelspec": {
      "name": "python3",
      "display_name": "Python 3"
    },
    "language_info": {
      "name": "python"
    }
  },
  "cells": [
    {
      "cell_type": "markdown",
      "metadata": {
        "id": "view-in-github",
        "colab_type": "text"
      },
      "source": [
        "<a href=\"https://colab.research.google.com/github/YUEUN328/202110_itw_lab_python/blob/main/py10_function.ipynb\" target=\"_parent\"><img src=\"https://colab.research.google.com/assets/colab-badge.svg\" alt=\"Open In Colab\"/></a>"
      ]
    },
    {
      "cell_type": "markdown",
      "source": [
        "# 함수(Function)\n",
        "\n",
        "* **함수(function)**: 기능을 수행하는 코드 블록.\n",
        "* **인수(argument)**: 함수를 호출할 때, 함수에게 전달하는 값(들).\n",
        "* **매개변수(parameter)**: argument를 저장하기 위해서, 함수를 정의할 때 선언하는 (지역) 변수.\n",
        "* **반환 값(return value)**: 함수가 기능 수행의 결과로 반환하는 값.\n",
        "    * 반환 값이 있는 함수\n",
        "    * 반환 값이 없는 함수"
      ],
      "metadata": {
        "id": "HLUnsr03OPec"
      }
    },
    {
      "cell_type": "code",
      "execution_count": 1,
      "metadata": {
        "id": "Rxij_CPhN_2N"
      },
      "outputs": [],
      "source": [
        "result = len([1, 2, 3, 4, 5])\n",
        "# function: len\n",
        "# argument: [1, 2, 3, 4, 5]\n",
        "# 함수 호출(call, invoke): len([1, 2, 3, 4, 5])\n",
        "# return value: 5"
      ]
    },
    {
      "cell_type": "code",
      "source": [
        "result"
      ],
      "metadata": {
        "colab": {
          "base_uri": "https://localhost:8080/"
        },
        "id": "QkpvZtliQKe8",
        "outputId": "98243474-55c0-4ae4-8875-fc1f3564fe26"
      },
      "execution_count": 2,
      "outputs": [
        {
          "output_type": "execute_result",
          "data": {
            "text/plain": [
              "5"
            ]
          },
          "metadata": {},
          "execution_count": 2
        }
      ]
    },
    {
      "cell_type": "markdown",
      "source": [
        "# 함수 정의(선언) 방법\n",
        "\n",
        "```\n",
        "def function_name([param1, ...]):\n",
        "    [\"\"\"문서화 주석(documentation comment): 함수에 대한 설명\"\"\"]\n",
        "    함수 기능 작성(코드)\n",
        "    [return 반환 값]\n",
        "```"
      ],
      "metadata": {
        "id": "rwuFRzibU0rl"
      }
    },
    {
      "cell_type": "code",
      "source": [
        "def subtract(x, y):\n",
        "    \"\"\"숫자 2개(x, y)를 전달받아서, x - y를 반환하는 함수.\n",
        "    \"\"\"\n",
        "    return x - y"
      ],
      "metadata": {
        "id": "VUFEWfXDQLxI"
      },
      "execution_count": 3,
      "outputs": []
    },
    {
      "cell_type": "code",
      "source": [
        "result = subtract(1, 2)\n",
        "result"
      ],
      "metadata": {
        "colab": {
          "base_uri": "https://localhost:8080/"
        },
        "id": "s6rl2JrLXZRV",
        "outputId": "9007644d-cab3-481c-b8d8-94c92022f090"
      },
      "execution_count": 4,
      "outputs": [
        {
          "output_type": "execute_result",
          "data": {
            "text/plain": [
              "-1"
            ]
          },
          "metadata": {},
          "execution_count": 4
        }
      ]
    },
    {
      "cell_type": "markdown",
      "source": [
        "파이썬은 2개 이상의 값을 반환하는 함수를 정의할 수 있음."
      ],
      "metadata": {
        "id": "a4QyTAcLYtLJ"
      }
    },
    {
      "cell_type": "code",
      "source": [
        "def plus_and_minus(x, y):\n",
        "    \"\"\"2개의 숫자 x, y를 전달받아서, x+y와 x-y를 반환하는 함수.\n",
        "    \"\"\"\n",
        "    return x + y, x - y"
      ],
      "metadata": {
        "id": "FJOLVd1FX2yS"
      },
      "execution_count": 5,
      "outputs": []
    },
    {
      "cell_type": "code",
      "source": [
        "result = plus_and_minus(1, 2)\n",
        "result  #> tuple"
      ],
      "metadata": {
        "colab": {
          "base_uri": "https://localhost:8080/"
        },
        "id": "woFNTTXSZKBz",
        "outputId": "54d87cab-7fac-47fc-8234-0b06b6b0e6b2"
      },
      "execution_count": 6,
      "outputs": [
        {
          "output_type": "execute_result",
          "data": {
            "text/plain": [
              "(3, -1)"
            ]
          },
          "metadata": {},
          "execution_count": 6
        }
      ]
    },
    {
      "cell_type": "code",
      "source": [
        "# tuple decomposition(분해): x, y = (3, -1)\n",
        "plus, minus = plus_and_minus(1, 2)\n",
        "print(plus)\n",
        "print(minus)"
      ],
      "metadata": {
        "colab": {
          "base_uri": "https://localhost:8080/"
        },
        "id": "iSxYEyqLZj78",
        "outputId": "94837233-28be-4e30-ae6b-2d5aaa0f169f"
      },
      "execution_count": 7,
      "outputs": [
        {
          "output_type": "stream",
          "name": "stdout",
          "text": [
            "3\n",
            "-1\n"
          ]
        }
      ]
    },
    {
      "cell_type": "markdown",
      "source": [
        "# 값을 반환하지 않는 함수"
      ],
      "metadata": {
        "id": "FUnpQzv7aqKe"
      }
    },
    {
      "cell_type": "code",
      "source": [
        "def repeat_messages(message, n):\n",
        "    \"\"\"문자열 message와 양의 정수 n을 전달받아서, \n",
        "    전달받은 문자열을 n번 반복해서 출력하는 함수.\n",
        "    \"\"\"\n",
        "    for _ in range(n):\n",
        "        print(message)\n",
        "\n",
        "    # return None  # 반환 값이 없다는 것을 명시적으로 작성.\n",
        "    # 반환 값이 없는 경우 return None 문장을 보통 생략함.    "
      ],
      "metadata": {
        "id": "cDVz5zMDaQcf"
      },
      "execution_count": 8,
      "outputs": []
    },
    {
      "cell_type": "code",
      "source": [
        "result = repeat_messages('안녕하세요', 3)"
      ],
      "metadata": {
        "colab": {
          "base_uri": "https://localhost:8080/"
        },
        "id": "G-f45SvbbjpS",
        "outputId": "c9fbde6d-8277-411e-a2b4-94f8f3a0cdd7"
      },
      "execution_count": 9,
      "outputs": [
        {
          "output_type": "stream",
          "name": "stdout",
          "text": [
            "안녕하세요\n",
            "안녕하세요\n",
            "안녕하세요\n"
          ]
        }
      ]
    },
    {
      "cell_type": "code",
      "source": [
        "print(result)  #> None: 값이 없음."
      ],
      "metadata": {
        "colab": {
          "base_uri": "https://localhost:8080/"
        },
        "id": "Ma1vPfL_cAMb",
        "outputId": "721d2485-730c-4cb8-8339-fbdc4694f8a5"
      },
      "execution_count": 10,
      "outputs": [
        {
          "output_type": "stream",
          "name": "stdout",
          "text": [
            "None\n"
          ]
        }
      ]
    },
    {
      "cell_type": "markdown",
      "source": [
        "# 함수 정의/호출 연습"
      ],
      "metadata": {
        "id": "5NtxJn8_feMz"
      }
    },
    {
      "cell_type": "code",
      "source": [
        "import random  # 난수 관련 함수들을 사용하기 위해서\n",
        "import math  # 수학 함수들을 사용하기 위해서"
      ],
      "metadata": {
        "id": "WCHCnwUtcIk7"
      },
      "execution_count": 11,
      "outputs": []
    },
    {
      "cell_type": "markdown",
      "source": [
        "## Ex 1.\n",
        "\n",
        "* 함수 이름: make_list\n",
        "* 기능: start 이상 end 미만의 정수 난수 n개를 갖는 리스트를 반환."
      ],
      "metadata": {
        "id": "NsGM96S4fo98"
      }
    },
    {
      "cell_type": "code",
      "source": [
        "def make_list(start, end, n):\n",
        "    # array = []  # 빈 리스트\n",
        "    # for _ in range(n):  # n번 반복하면서\n",
        "    #     array.append(random.randrange(start, end))  # 난수를 생성해서 리스트에 추가\n",
        "    # return array  # 리스트를 리턴.  \n",
        "\n",
        "    return [random.randrange(start, end) for _ in range(n)]  "
      ],
      "metadata": {
        "id": "YZLHBzdo_ZMw"
      },
      "execution_count": null,
      "outputs": []
    },
    {
      "cell_type": "code",
      "source": [
        "num_list = make_list(0, 10, 5)\n",
        "num_list"
      ],
      "metadata": {
        "colab": {
          "base_uri": "https://localhost:8080/"
        },
        "id": "g9MlBNg0ADFh",
        "outputId": "f4dcbaa9-7d6f-4af9-98e5-8c70b247600c"
      },
      "execution_count": 29,
      "outputs": [
        {
          "output_type": "execute_result",
          "data": {
            "text/plain": [
              "[1, 5, 1, 8, 3]"
            ]
          },
          "metadata": {},
          "execution_count": 29
        }
      ]
    },
    {
      "cell_type": "markdown",
      "source": [
        "## Ex 2.\n",
        "\n",
        "* 함수 이름: calc_sum\n",
        "* 기능: 숫자들을 저장하고 있는 리스트의 모든 원소들의 합을 반환."
      ],
      "metadata": {
        "id": "pB9JhNMqfrn7"
      }
    },
    {
      "cell_type": "code",
      "source": [
        "def calc_sum(numbers):\n",
        "    # return sum(numbers)\n",
        "    \n",
        "    total = 0\n",
        "    for x in numbers:\n",
        "        total += x\n",
        "    return total     "
      ],
      "metadata": {
        "id": "iXEKzRKmfuWd"
      },
      "execution_count": 31,
      "outputs": []
    },
    {
      "cell_type": "code",
      "source": [
        "total = calc_sum(num_list)\n",
        "total"
      ],
      "metadata": {
        "colab": {
          "base_uri": "https://localhost:8080/"
        },
        "id": "uJUmTa6fi_hv",
        "outputId": "3d7bc83d-64ee-4394-add9-5c7807c361eb"
      },
      "execution_count": 32,
      "outputs": [
        {
          "output_type": "execute_result",
          "data": {
            "text/plain": [
              "18"
            ]
          },
          "metadata": {},
          "execution_count": 32
        }
      ]
    },
    {
      "cell_type": "markdown",
      "source": [
        "## Ex 3.\n",
        "\n",
        "* 함수 이름: calc_mean\n",
        "* 기능: 숫자들을 저장하고 있는 리스트의 모든 원소들의 평균을 반환."
      ],
      "metadata": {
        "id": "CseIk9spfxEi"
      }
    },
    {
      "cell_type": "code",
      "source": [
        "def calc_mean(numbers):\n",
        "    return calc_sum(numbers) / len(numbers)"
      ],
      "metadata": {
        "id": "3hzBmzsNfxuP"
      },
      "execution_count": 33,
      "outputs": []
    },
    {
      "cell_type": "code",
      "source": [
        "mean = calc_mean(num_list)\n",
        "mean"
      ],
      "metadata": {
        "colab": {
          "base_uri": "https://localhost:8080/"
        },
        "id": "_aopGLU1kuMT",
        "outputId": "e27b5d8b-3245-40ed-d8cc-ad019e915416"
      },
      "execution_count": 34,
      "outputs": [
        {
          "output_type": "execute_result",
          "data": {
            "text/plain": [
              "3.6"
            ]
          },
          "metadata": {},
          "execution_count": 34
        }
      ]
    },
    {
      "cell_type": "markdown",
      "source": [
        "## Ex 4.\n",
        "\n",
        "* 함수 이름: calc_variance\n",
        "* 기능: 숫자들을 저장하고 있는 리스트의 원소들의 분산을 반환."
      ],
      "metadata": {
        "id": "HAfq2paPf0MZ"
      }
    },
    {
      "cell_type": "code",
      "source": [
        "def calc_variance(numbers):\n",
        "    mean = calc_mean(numbers)  # 평균\n",
        "    squares = [(x - mean) ** 2 for x in numbers] \n",
        "    var = calc_sum(squares) / (len(numbers) - 1)\n",
        "    return var"
      ],
      "metadata": {
        "id": "cVyiw6aBf1Rt"
      },
      "execution_count": 35,
      "outputs": []
    },
    {
      "cell_type": "code",
      "source": [
        "var = calc_variance(num_list)\n",
        "var"
      ],
      "metadata": {
        "colab": {
          "base_uri": "https://localhost:8080/"
        },
        "id": "WjXU4-95llg6",
        "outputId": "aa28cbb5-8eba-4ebb-ed50-f016be8925d4"
      },
      "execution_count": 36,
      "outputs": [
        {
          "output_type": "execute_result",
          "data": {
            "text/plain": [
              "8.8"
            ]
          },
          "metadata": {},
          "execution_count": 36
        }
      ]
    },
    {
      "cell_type": "markdown",
      "source": [
        "## Ex 5.\n",
        "\n",
        "* 함수 이름: calc_stddev\n",
        "* 기능: 숫자들을 저장하고 있는 리스트의 원소들의 표준편차를 반환."
      ],
      "metadata": {
        "id": "7oQw9U_5f4Vf"
      }
    },
    {
      "cell_type": "code",
      "source": [
        "def calc_stddev(numbers):\n",
        "    return math.sqrt(calc_variance(numbers))"
      ],
      "metadata": {
        "id": "KzW2HaGHf5fi"
      },
      "execution_count": 37,
      "outputs": []
    },
    {
      "cell_type": "code",
      "source": [
        "stddev = calc_stddev(num_list)\n",
        "stddev"
      ],
      "metadata": {
        "colab": {
          "base_uri": "https://localhost:8080/"
        },
        "id": "eEqKZoFvmLX6",
        "outputId": "16d9b96d-669b-4097-90a4-e3faaf9ae220"
      },
      "execution_count": 38,
      "outputs": [
        {
          "output_type": "execute_result",
          "data": {
            "text/plain": [
              "2.9664793948382653"
            ]
          },
          "metadata": {},
          "execution_count": 38
        }
      ]
    },
    {
      "cell_type": "markdown",
      "source": [
        "## Ex 6.\n",
        "\n",
        "* 함수 이름: find_max_and_min\n",
        "* 기능: 숫자들을 저장하고 있는 리스트에서 최댓값과 최솟값을 반환."
      ],
      "metadata": {
        "id": "GoKzPn5xf_wk"
      }
    },
    {
      "cell_type": "code",
      "source": [
        "def find_max_and_min(numbers):    \n",
        "    # return max(numbers), min(numbers)\n",
        "    \n",
        "    max_numbers = numbers[0]\n",
        "    min_numbers = numbers[0]\n",
        "    for x in numbers:\n",
        "        if x > max_numbers:\n",
        "            max_numbers = x\n",
        "        if x < min_numbers:\n",
        "            min_numbers = x\n",
        "    return max_numbers, min_numbers            "
      ],
      "metadata": {
        "id": "cqxM-huFgAcn"
      },
      "execution_count": 39,
      "outputs": []
    },
    {
      "cell_type": "code",
      "source": [
        "num_list"
      ],
      "metadata": {
        "colab": {
          "base_uri": "https://localhost:8080/"
        },
        "id": "EE4OmdVTGsBo",
        "outputId": "2e7f7965-2ceb-4388-ed53-730946599907"
      },
      "execution_count": 40,
      "outputs": [
        {
          "output_type": "execute_result",
          "data": {
            "text/plain": [
              "[1, 5, 1, 8, 3]"
            ]
          },
          "metadata": {},
          "execution_count": 40
        }
      ]
    },
    {
      "cell_type": "code",
      "source": [
        "find_max_and_min(num_list)"
      ],
      "metadata": {
        "colab": {
          "base_uri": "https://localhost:8080/"
        },
        "id": "wEuEqau3n1H1",
        "outputId": "94fef293-5c45-42cd-849b-db4e36581ea0"
      },
      "execution_count": 42,
      "outputs": [
        {
          "output_type": "execute_result",
          "data": {
            "text/plain": [
              "(8, 1)"
            ]
          },
          "metadata": {},
          "execution_count": 42
        }
      ]
    },
    {
      "cell_type": "markdown",
      "source": [
        "# Default argument(기본 인수)\n",
        "\n",
        "* 함수를 정의할 때 파라미터(parameter)에 설정된 기본값.\n",
        "* 함수를 호출할 때 default argument를 갖는 파라미터에 값을 전달하지 않으면, default argument가 함수 내부에서 사용됨.\n",
        "* 함수를 호출할 때 default argument를 갖는 파라미터에 값을 전달하면, default argument는 무시되고 전달된 값이 함수 내부에서 사용됨.\n",
        "* **(주의)** 함수를 정의할 때, default parameter들은 반드시 default 값을 갖지 않는 파라미터들 뒤에 선언해야 함!"
      ],
      "metadata": {
        "id": "eM67ASUsLnj-"
      }
    },
    {
      "cell_type": "code",
      "source": [
        "def repeat_messages(message, n=1):\n",
        "    for _ in range(n):\n",
        "        print(message)"
      ],
      "metadata": {
        "id": "zpy_sTlLMs9G"
      },
      "execution_count": 43,
      "outputs": []
    },
    {
      "cell_type": "code",
      "source": [
        "repeat_messages('안녕하세요')\n",
        "# 파라미터 n에 값을 전달하지 않은 경우, n은 기본값 1을 갖게 됨."
      ],
      "metadata": {
        "colab": {
          "base_uri": "https://localhost:8080/"
        },
        "id": "Qb8gEb2sNxSJ",
        "outputId": "06eea7ed-107b-48e1-df46-7fd3091615db"
      },
      "execution_count": 45,
      "outputs": [
        {
          "output_type": "stream",
          "name": "stdout",
          "text": [
            "안녕하세요\n"
          ]
        }
      ]
    },
    {
      "cell_type": "code",
      "source": [
        "repeat_messages('안녕하세요', 3)"
      ],
      "metadata": {
        "colab": {
          "base_uri": "https://localhost:8080/"
        },
        "id": "W_wLEVPSN1mI",
        "outputId": "fc3e9d94-a032-4691-99f0-be237c1ac155"
      },
      "execution_count": 46,
      "outputs": [
        {
          "output_type": "stream",
          "name": "stdout",
          "text": [
            "안녕하세요\n",
            "안녕하세요\n",
            "안녕하세요\n"
          ]
        }
      ]
    },
    {
      "cell_type": "markdown",
      "source": [
        "# argument 전달 방법:\n",
        "\n",
        "함수를 호출할 때, 함수에 값(argument)를 전달하는 방법:\n",
        "* **positional argument**: 함수를 정의할 때 선언된 파라미터 순서대로 값을 전달하는 방식.\n",
        "* **keyword argument**: 'param_name=value'과 같은 형식으로 값을 전달하는 방식.\n",
        "    * keyword argument 방식으로 값을 전달할 때는 함수 정의의 파라미터 순서를 지키지 않아도 됨.\n",
        "* **(주의)** 함수를 호출할 때 positional 방식과 keyword 방식을 함께 사용하는 경우에는 반드시 positional argument가 먼저, keyword argument가 나중에 와야 함!    "
      ],
      "metadata": {
        "id": "hqXS8hz9PWyQ"
      }
    },
    {
      "cell_type": "code",
      "source": [
        "def minus(x, y):\n",
        "    return x - y"
      ],
      "metadata": {
        "id": "VKnH5rhWOL6h"
      },
      "execution_count": 48,
      "outputs": []
    },
    {
      "cell_type": "code",
      "source": [
        "# positional argument 방식의 함수 호출\n",
        "minus(1, 2)"
      ],
      "metadata": {
        "colab": {
          "base_uri": "https://localhost:8080/"
        },
        "id": "khGi9Vx7Q2MH",
        "outputId": "f9031834-8700-455f-cfa2-3a5813b5e090"
      },
      "execution_count": 49,
      "outputs": [
        {
          "output_type": "execute_result",
          "data": {
            "text/plain": [
              "-1"
            ]
          },
          "metadata": {},
          "execution_count": 49
        }
      ]
    },
    {
      "cell_type": "code",
      "source": [
        "# keyword argument 방식의 함수 호출\n",
        "minus(x=1, y=2)"
      ],
      "metadata": {
        "colab": {
          "base_uri": "https://localhost:8080/"
        },
        "id": "4g0vWSkhSBcV",
        "outputId": "aae1a619-1693-4467-cd11-eb49297e5402"
      },
      "execution_count": 50,
      "outputs": [
        {
          "output_type": "execute_result",
          "data": {
            "text/plain": [
              "-1"
            ]
          },
          "metadata": {},
          "execution_count": 50
        }
      ]
    },
    {
      "cell_type": "code",
      "source": [
        "# keyword argument 방식의 함수 호출에서는 파라미터의 순서를 지키지 않아도 됨.\n",
        "minus(y=1, x=2)"
      ],
      "metadata": {
        "colab": {
          "base_uri": "https://localhost:8080/"
        },
        "id": "CzyDdgQhSagG",
        "outputId": "ec69107c-a5a4-4a7a-eb6f-ae89632ea2f8"
      },
      "execution_count": 53,
      "outputs": [
        {
          "output_type": "execute_result",
          "data": {
            "text/plain": [
              "1"
            ]
          },
          "metadata": {},
          "execution_count": 53
        }
      ]
    },
    {
      "cell_type": "code",
      "source": [
        "minus(1, y=2)\n",
        "# positional argument를 먼저, keyword argument를 나중에 전달하는 것은 가능."
      ],
      "metadata": {
        "colab": {
          "base_uri": "https://localhost:8080/"
        },
        "id": "uYcG6v4WSoc0",
        "outputId": "ded6fc67-c39e-4aed-bb19-2d0bab6a2a28"
      },
      "execution_count": 54,
      "outputs": [
        {
          "output_type": "execute_result",
          "data": {
            "text/plain": [
              "-1"
            ]
          },
          "metadata": {},
          "execution_count": 54
        }
      ]
    },
    {
      "cell_type": "code",
      "source": [
        "# minus(x=1, 2)\n",
        "#> positional argument가 keyword argument보다 나중에 나오면 안 됨!"
      ],
      "metadata": {
        "id": "ShjbcJmzTmnL"
      },
      "execution_count": 55,
      "outputs": []
    },
    {
      "cell_type": "markdown",
      "source": [
        "# 가변길이 인수(variable-length arguments)"
      ],
      "metadata": {
        "id": "9KN6NboxT8DU"
      }
    },
    {
      "cell_type": "code",
      "source": [
        "print('hello')  # argument 1개"
      ],
      "metadata": {
        "colab": {
          "base_uri": "https://localhost:8080/"
        },
        "id": "KORbLmioT7AB",
        "outputId": "a0d6f2a0-593a-43d1-d8e8-559db88e4a40"
      },
      "execution_count": 56,
      "outputs": [
        {
          "output_type": "stream",
          "name": "stdout",
          "text": [
            "hello\n"
          ]
        }
      ]
    },
    {
      "cell_type": "code",
      "source": [
        "print('hello', 'python')  # argument 2개"
      ],
      "metadata": {
        "colab": {
          "base_uri": "https://localhost:8080/"
        },
        "id": "AoQ-gVD1UJ-m",
        "outputId": "3661155d-156a-40b1-86c2-e66321b88f56"
      },
      "execution_count": 57,
      "outputs": [
        {
          "output_type": "stream",
          "name": "stdout",
          "text": [
            "hello python\n"
          ]
        }
      ]
    },
    {
      "cell_type": "code",
      "source": [
        "max([1, 2, 3])  # argument 1개"
      ],
      "metadata": {
        "colab": {
          "base_uri": "https://localhost:8080/"
        },
        "id": "plHPwPuxUW4X",
        "outputId": "20f4c78e-0883-4cbc-b2ff-71027f4f69dc"
      },
      "execution_count": 58,
      "outputs": [
        {
          "output_type": "execute_result",
          "data": {
            "text/plain": [
              "3"
            ]
          },
          "metadata": {},
          "execution_count": 58
        }
      ]
    },
    {
      "cell_type": "code",
      "source": [
        "max(1, 2, 3, 10, 5, 7)  # argument 6개"
      ],
      "metadata": {
        "colab": {
          "base_uri": "https://localhost:8080/"
        },
        "id": "aXu470fXUetf",
        "outputId": "108e8236-ee81-4251-81c1-4403fd63ea62"
      },
      "execution_count": 59,
      "outputs": [
        {
          "output_type": "execute_result",
          "data": {
            "text/plain": [
              "10"
            ]
          },
          "metadata": {},
          "execution_count": 59
        }
      ]
    },
    {
      "cell_type": "markdown",
      "source": [
        "**가변길이 인수(variable-length arguments)**\n",
        "\n",
        "* 함수를 호출할 때 전달하는 값(argument)의 개수가 임의로 변할 수 있는 것.\n",
        "    * argument 개수의 제한이 없다.\n",
        "    * argument를 전달하지 않아도 됨.\n",
        "* 함수를 정의할 때, 파라미터 이름 앞에 `*`를 사용하면 가변길이 인수를 전달받는 파라미터가 됨.\n",
        "* 함수 내부에서 가변길이 인수는 tuple로 취급.\n",
        "    * 가변길이 인수는 인덱스를 사용할 수 있음.\n",
        "    * 가변길이 인수는 for-in 구문에서 사용할 수 있음.\n",
        "* **(주의)**\n",
        "    * 가변길이 인수는 keyword argument 방식으로 전달할 수 없음.\n",
        "    * 함수를 선언할 때, 가변길이 인수를 갖는 파라미터는 **하나**만 선언할 수 있음.        "
      ],
      "metadata": {
        "id": "qtgvbl3AYry8"
      }
    },
    {
      "cell_type": "code",
      "source": [
        "def add_all(*values):\n",
        "    total = 0\n",
        "    for x in values:\n",
        "        total += x\n",
        "    return total    "
      ],
      "metadata": {
        "id": "1Q6OMGdIUs6O"
      },
      "execution_count": 63,
      "outputs": []
    },
    {
      "cell_type": "code",
      "source": [
        "add_all(1)"
      ],
      "metadata": {
        "colab": {
          "base_uri": "https://localhost:8080/"
        },
        "id": "tI4VvJPqaWNT",
        "outputId": "ea39df5e-b629-4ded-dc37-f0643ba3dea6"
      },
      "execution_count": 64,
      "outputs": [
        {
          "output_type": "execute_result",
          "data": {
            "text/plain": [
              "1"
            ]
          },
          "metadata": {},
          "execution_count": 64
        }
      ]
    },
    {
      "cell_type": "code",
      "source": [
        "add_all(1, 2, 3)"
      ],
      "metadata": {
        "colab": {
          "base_uri": "https://localhost:8080/"
        },
        "id": "ogLvQ1IHaYw0",
        "outputId": "20191438-f498-4849-c563-0643490ea60f"
      },
      "execution_count": 65,
      "outputs": [
        {
          "output_type": "execute_result",
          "data": {
            "text/plain": [
              "6"
            ]
          },
          "metadata": {},
          "execution_count": 65
        }
      ]
    },
    {
      "cell_type": "code",
      "source": [
        "add_all()"
      ],
      "metadata": {
        "colab": {
          "base_uri": "https://localhost:8080/"
        },
        "id": "GrQqRPPiarV7",
        "outputId": "ccea4127-a7ea-4178-8938-4086a6b1d8a3"
      },
      "execution_count": 66,
      "outputs": [
        {
          "output_type": "execute_result",
          "data": {
            "text/plain": [
              "0"
            ]
          },
          "metadata": {},
          "execution_count": 66
        }
      ]
    },
    {
      "cell_type": "code",
      "source": [
        "def test1(a, *b):\n",
        "    print('a = ', a)\n",
        "    print('b = ', b)"
      ],
      "metadata": {
        "id": "tVmKeBwfbesW"
      },
      "execution_count": 67,
      "outputs": []
    },
    {
      "cell_type": "code",
      "source": [
        "test1(1, 2)"
      ],
      "metadata": {
        "colab": {
          "base_uri": "https://localhost:8080/"
        },
        "id": "bnv2sv1_c6DR",
        "outputId": "0f4018f9-79ee-442b-d504-e7a73d69c908"
      },
      "execution_count": 68,
      "outputs": [
        {
          "output_type": "stream",
          "name": "stdout",
          "text": [
            "a =  1\n",
            "b =  (2,)\n"
          ]
        }
      ]
    },
    {
      "cell_type": "code",
      "source": [
        "test1(1, 2, 3)"
      ],
      "metadata": {
        "colab": {
          "base_uri": "https://localhost:8080/"
        },
        "id": "AffM7meRc7qs",
        "outputId": "a8cccfff-534a-4f56-c1e6-bbe7cb40f142"
      },
      "execution_count": 69,
      "outputs": [
        {
          "output_type": "stream",
          "name": "stdout",
          "text": [
            "a =  1\n",
            "b =  (2, 3)\n"
          ]
        }
      ]
    },
    {
      "cell_type": "markdown",
      "source": [
        "`test1()` 함수는 positional argument 방식으로만 값을 전달할 수 있는 함수."
      ],
      "metadata": {
        "id": "zWd-EexjdzqP"
      }
    },
    {
      "cell_type": "code",
      "source": [
        "def test2(*a, b):\n",
        "    print('a = ', a)\n",
        "    print('b = ', b)"
      ],
      "metadata": {
        "id": "MW0WgaVzdDwU"
      },
      "execution_count": 70,
      "outputs": []
    },
    {
      "cell_type": "code",
      "source": [
        "test2(1, 2, b=3)"
      ],
      "metadata": {
        "colab": {
          "base_uri": "https://localhost:8080/"
        },
        "id": "lJcLV9mLeIQo",
        "outputId": "0af1d8c6-9dcf-4280-d198-55a1cda730ca"
      },
      "execution_count": 71,
      "outputs": [
        {
          "output_type": "stream",
          "name": "stdout",
          "text": [
            "a =  (1, 2)\n",
            "b =  3\n"
          ]
        }
      ]
    },
    {
      "cell_type": "markdown",
      "source": [
        "`test2()` 함수에서 파라미터 b는 반드시 keyword argument 방식으로만 값을 전달할 수 있음."
      ],
      "metadata": {
        "id": "Elmvezz20yBO"
      }
    },
    {
      "cell_type": "code",
      "source": [
        "def test3(*a, b=0):\n",
        "    print('a = ', a)\n",
        "    print('b = ', b)"
      ],
      "metadata": {
        "id": "Idsg-TwifTY2"
      },
      "execution_count": 72,
      "outputs": []
    },
    {
      "cell_type": "code",
      "source": [
        "test3(1)"
      ],
      "metadata": {
        "colab": {
          "base_uri": "https://localhost:8080/"
        },
        "id": "X5201QSDf09j",
        "outputId": "bdcbda09-238a-4ac2-b3ed-48e775fa3d9f"
      },
      "execution_count": 73,
      "outputs": [
        {
          "output_type": "stream",
          "name": "stdout",
          "text": [
            "a =  (1,)\n",
            "b =  0\n"
          ]
        }
      ]
    },
    {
      "cell_type": "code",
      "source": [
        "test3(1, 2, 3)"
      ],
      "metadata": {
        "colab": {
          "base_uri": "https://localhost:8080/"
        },
        "id": "g95JxVTEf3mu",
        "outputId": "afe247bc-35a0-40b6-d81d-3821d00b99aa"
      },
      "execution_count": 74,
      "outputs": [
        {
          "output_type": "stream",
          "name": "stdout",
          "text": [
            "a =  (1, 2, 3)\n",
            "b =  0\n"
          ]
        }
      ]
    },
    {
      "cell_type": "code",
      "source": [
        "test3(1, 2, 3, b=100)"
      ],
      "metadata": {
        "colab": {
          "base_uri": "https://localhost:8080/"
        },
        "id": "xy4IH-Tnf55p",
        "outputId": "a99096af-05c3-4046-abe6-07473e0f3c10"
      },
      "execution_count": 75,
      "outputs": [
        {
          "output_type": "stream",
          "name": "stdout",
          "text": [
            "a =  (1, 2, 3)\n",
            "b =  100\n"
          ]
        }
      ]
    },
    {
      "cell_type": "code",
      "source": [
        "def calculate(*values, op):\n",
        "    \"\"\"\n",
        "    values: 임의의 개수의 숫자들.\n",
        "    op: 문자열. ('+', 또는 '*')\n",
        "    op가 '+'인 경우에는 모든 값들의 합을 리턴. values에 전달된 값이 없으면 0을 리턴.\n",
        "    op가 '*'인 경우에는 모든 값들의 곱을 리턴. values에 전달된 값이 없으면 1을 리턴.\n",
        "    \"\"\"\n",
        "    if op == '+':\n",
        "        result = 0\n",
        "        for x in values:\n",
        "            result += x\n",
        "    elif op == '*':\n",
        "        result = 1\n",
        "        for x in values:\n",
        "            result *= x\n",
        "    else: \n",
        "        result = None\n",
        "            \n",
        "    return result"
      ],
      "metadata": {
        "id": "wMkFyPDqgd5c"
      },
      "execution_count": 79,
      "outputs": []
    },
    {
      "cell_type": "code",
      "source": [
        "calculate(1, 2, 3, 4, 5, op='+')"
      ],
      "metadata": {
        "colab": {
          "base_uri": "https://localhost:8080/"
        },
        "id": "Z3cwJYA9iErs",
        "outputId": "d66b67b2-477b-4236-b74d-0144842b7a08"
      },
      "execution_count": 83,
      "outputs": [
        {
          "output_type": "execute_result",
          "data": {
            "text/plain": [
              "15"
            ]
          },
          "metadata": {},
          "execution_count": 83
        }
      ]
    },
    {
      "cell_type": "code",
      "source": [
        "calculate(1, 2, 3, 4, 5, op='*')"
      ],
      "metadata": {
        "colab": {
          "base_uri": "https://localhost:8080/"
        },
        "id": "zefo-fqjiJPj",
        "outputId": "98992463-a2ba-4948-c352-e38f0662caf8"
      },
      "execution_count": 84,
      "outputs": [
        {
          "output_type": "execute_result",
          "data": {
            "text/plain": [
              "120"
            ]
          },
          "metadata": {},
          "execution_count": 84
        }
      ]
    },
    {
      "cell_type": "code",
      "source": [
        "calculate(op='+')"
      ],
      "metadata": {
        "colab": {
          "base_uri": "https://localhost:8080/"
        },
        "id": "6tQr9eHEi5PD",
        "outputId": "d0d1210e-e87c-4384-d660-3da5b3c8505b"
      },
      "execution_count": 85,
      "outputs": [
        {
          "output_type": "execute_result",
          "data": {
            "text/plain": [
              "0"
            ]
          },
          "metadata": {},
          "execution_count": 85
        }
      ]
    },
    {
      "cell_type": "code",
      "source": [
        "calculate(op='*')"
      ],
      "metadata": {
        "colab": {
          "base_uri": "https://localhost:8080/"
        },
        "id": "xGEXpeOKi-KD",
        "outputId": "2e4fc8a4-79a0-4749-9325-22dbacf4ae4a"
      },
      "execution_count": 86,
      "outputs": [
        {
          "output_type": "execute_result",
          "data": {
            "text/plain": [
              "1"
            ]
          },
          "metadata": {},
          "execution_count": 86
        }
      ]
    },
    {
      "cell_type": "markdown",
      "source": [
        "# 가변길이 키워드 인수(variable-length keyword argument)\n",
        "\n",
        "* variable-length + keyword\n",
        "    * variable-length argument: 함수를 호출할 때, 임의의 개수의 argument를 전달할 수 있음.\n",
        "    * keyword argument: 함수를 호출할 때 반드시 `param_name=value` 형식으로 값을 전달.\n",
        "* 함수를 정의할 때, 파라미터 이름 앞에 `**`를 사용.\n",
        "* 함수를 호출할 때, 임의의 개수의 keyword argument를 전달하면 됨.\n",
        "    * 파라미터 이름 제한 없음.\n",
        "    * 값의 개수 제한 없음.\n",
        "* 함수 내부에서 가변길이 키워드 인수는 dict로 취급됨.\n",
        "    * 함수 호출할 때 사용한 파라미터 이름이 dict의 키(key)가 됨.\n",
        "    * 함수 호출할 때 파라미터에 전달한 값(argument)이 dict의 값(value)이 됨.\n",
        "* 가변길이 키워드 인수는 함수 정의에서 오직 한번만 가능.        "
      ],
      "metadata": {
        "id": "1TH0iFr815Yl"
      }
    },
    {
      "cell_type": "code",
      "source": [
        "def test4(**kwargs):\n",
        "    print(kwargs)"
      ],
      "metadata": {
        "id": "LOnLgRN0jAcf"
      },
      "execution_count": 87,
      "outputs": []
    },
    {
      "cell_type": "code",
      "source": [
        "test4()"
      ],
      "metadata": {
        "colab": {
          "base_uri": "https://localhost:8080/"
        },
        "id": "x8Mh--Le3i3K",
        "outputId": "b361e139-b4d3-4298-bf6f-f741dfdd7b57"
      },
      "execution_count": 88,
      "outputs": [
        {
          "output_type": "stream",
          "name": "stdout",
          "text": [
            "{}\n"
          ]
        }
      ]
    },
    {
      "cell_type": "code",
      "source": [
        "test4(a=1)"
      ],
      "metadata": {
        "colab": {
          "base_uri": "https://localhost:8080/"
        },
        "id": "HaxepqYy3kab",
        "outputId": "e7b1ca24-6e21-4f8f-e278-d3eec1d5e4ef"
      },
      "execution_count": 89,
      "outputs": [
        {
          "output_type": "stream",
          "name": "stdout",
          "text": [
            "{'a': 1}\n"
          ]
        }
      ]
    },
    {
      "cell_type": "code",
      "source": [
        "test4(a=1, b='hello')"
      ],
      "metadata": {
        "colab": {
          "base_uri": "https://localhost:8080/"
        },
        "id": "YjmY6JfJ4RjZ",
        "outputId": "0ea75d6d-6f7c-436a-fe16-a8673d177ef5"
      },
      "execution_count": 90,
      "outputs": [
        {
          "output_type": "stream",
          "name": "stdout",
          "text": [
            "{'a': 1, 'b': 'hello'}\n"
          ]
        }
      ]
    },
    {
      "cell_type": "code",
      "source": [
        "def test5(*args, **kwargs):\n",
        "    print('args =', args)  # args: 가변길이 인수 -> tuple\n",
        "    print('kwargs =', kwargs)  # kwargs: 가변길이 키워드 인수 -> dict"
      ],
      "metadata": {
        "id": "LtLnZOyS4XmP"
      },
      "execution_count": 91,
      "outputs": []
    },
    {
      "cell_type": "code",
      "source": [
        "test5(1, 2, 'a', 'b')"
      ],
      "metadata": {
        "colab": {
          "base_uri": "https://localhost:8080/"
        },
        "id": "QR7gmRR65UKn",
        "outputId": "86af28fa-ab80-4761-f7c3-26de90d61c1e"
      },
      "execution_count": 92,
      "outputs": [
        {
          "output_type": "stream",
          "name": "stdout",
          "text": [
            "args = (1, 2, 'a', 'b')\n",
            "kwargs = {}\n"
          ]
        }
      ]
    },
    {
      "cell_type": "code",
      "source": [
        "test5(1, 2, a=100, b=200)"
      ],
      "metadata": {
        "colab": {
          "base_uri": "https://localhost:8080/"
        },
        "id": "w7APAA6A5ebr",
        "outputId": "623a20dd-82fd-4335-e579-42f01cb18ca1"
      },
      "execution_count": 94,
      "outputs": [
        {
          "output_type": "stream",
          "name": "stdout",
          "text": [
            "args = (1, 2)\n",
            "kwargs = {'a': 100, 'b': 200}\n"
          ]
        }
      ]
    },
    {
      "cell_type": "code",
      "source": [
        "def make_employee(emp_no, emp_name, **kwargs):\n",
        "    emp = {'emp no': emp_no, 'emp_name': emp_name}\n",
        "    for k, v in kwargs.items():\n",
        "        # kwargs의 키(파라미터 이름)이 email 또는 phone인 경우에만 dict에 추가.\n",
        "        # 그 이외의 파라미터들은 모두 무시.\n",
        "        if k == 'email' or k == 'phone':\n",
        "            emp[k] = v\n",
        "    return emp        "
      ],
      "metadata": {
        "id": "QypcQoCY50sq"
      },
      "execution_count": 95,
      "outputs": []
    },
    {
      "cell_type": "code",
      "source": [
        "make_employee(101, 'Scott', tel='010-1111-2222')"
      ],
      "metadata": {
        "colab": {
          "base_uri": "https://localhost:8080/"
        },
        "id": "V3sVKmYD8HQr",
        "outputId": "bc0e30ae-c0f0-4691-fb02-7d86e2235a2e"
      },
      "execution_count": 97,
      "outputs": [
        {
          "output_type": "execute_result",
          "data": {
            "text/plain": [
              "{'emp no': 101, 'emp_name': 'Scott'}"
            ]
          },
          "metadata": {},
          "execution_count": 97
        }
      ]
    },
    {
      "cell_type": "code",
      "source": [
        "make_employee(101, 'Scott', phone='010-1111-2222')"
      ],
      "metadata": {
        "colab": {
          "base_uri": "https://localhost:8080/"
        },
        "id": "--CzjCme8VEC",
        "outputId": "8f28a3c8-b7b5-4a07-db87-052d5a0d3e28"
      },
      "execution_count": 98,
      "outputs": [
        {
          "output_type": "execute_result",
          "data": {
            "text/plain": [
              "{'emp no': 101, 'emp_name': 'Scott', 'phone': '010-1111-2222'}"
            ]
          },
          "metadata": {},
          "execution_count": 98
        }
      ]
    },
    {
      "cell_type": "markdown",
      "source": [
        "# 재귀 함수(recursive function)\n",
        "\n",
        "함수 내부에서 자기 자신을 다시 호출하는 함수"
      ],
      "metadata": {
        "id": "QBZVaxnw9PKV"
      }
    },
    {
      "cell_type": "code",
      "source": [
        "def factorial(n):\n",
        "    \"\"\"\n",
        "    0! = 1 (정의)\n",
        "    1! = 1 = 0! x 1\n",
        "    2! = 1 x 2 = 2 = 1! x 2\n",
        "    3! = 1 x 2 x 3 = 6 = 2! x 3\n",
        "    ...\n",
        "    n! = 1 x 2 x ... x (n-1) x n = (n-1)! x n, n >= 1\n",
        "    \"\"\"\n",
        "    result = None\n",
        "    if n == 0:\n",
        "        result = 1\n",
        "    elif n > 0:\n",
        "        result = factorial(n - 1) * n\n",
        "    return result"
      ],
      "metadata": {
        "id": "n0Zs4VP_80DL"
      },
      "execution_count": 103,
      "outputs": []
    },
    {
      "cell_type": "code",
      "source": [
        "for n in range(6):\n",
        "    print(factorial(n))"
      ],
      "metadata": {
        "colab": {
          "base_uri": "https://localhost:8080/"
        },
        "id": "lLGDfOZk_KEL",
        "outputId": "800ccc40-b5a7-440a-b0bf-0b0ced6cbde6"
      },
      "execution_count": 104,
      "outputs": [
        {
          "output_type": "stream",
          "name": "stdout",
          "text": [
            "1\n",
            "1\n",
            "2\n",
            "6\n",
            "24\n",
            "120\n"
          ]
        }
      ]
    }
  ]
}