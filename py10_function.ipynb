{
  "nbformat": 4,
  "nbformat_minor": 0,
  "metadata": {
    "colab": {
      "name": "py10_function.ipynb",
      "provenance": [],
      "collapsed_sections": [],
      "authorship_tag": "ABX9TyP1XiIt7orGcvYUchKoKumW",
      "include_colab_link": true
    },
    "kernelspec": {
      "name": "python3",
      "display_name": "Python 3"
    },
    "language_info": {
      "name": "python"
    }
  },
  "cells": [
    {
      "cell_type": "markdown",
      "metadata": {
        "id": "view-in-github",
        "colab_type": "text"
      },
      "source": [
        "<a href=\"https://colab.research.google.com/github/YUEUN328/202110_itw_lab_python/blob/main/py10_function.ipynb\" target=\"_parent\"><img src=\"https://colab.research.google.com/assets/colab-badge.svg\" alt=\"Open In Colab\"/></a>"
      ]
    },
    {
      "cell_type": "markdown",
      "source": [
        "# 함수(Function)\n",
        "\n",
        "* **함수(function)**: 기능을 수행하는 코드 블록.\n",
        "* **인수(argument)**: 함수를 호출할 때, 함수에게 전달하는 값(들).\n",
        "* **매개변수(parameter)**: argument를 저장하기 위해서, 함수를 정의할 때 선언하는 (지역) 변수.\n",
        "* **반환 값(return value)**: 함수가 기능 수행의 결과로 반환하는 값.\n",
        "    * 반환 값이 있는 함수\n",
        "    * 반환 값이 없는 함수"
      ],
      "metadata": {
        "id": "HLUnsr03OPec"
      }
    },
    {
      "cell_type": "code",
      "execution_count": 1,
      "metadata": {
        "id": "Rxij_CPhN_2N"
      },
      "outputs": [],
      "source": [
        "result = len([1, 2, 3, 4, 5])\n",
        "# function: len\n",
        "# argument: [1, 2, 3, 4, 5]\n",
        "# 함수 호출(call, invoke): len([1, 2, 3, 4, 5])\n",
        "# return value: 5"
      ]
    },
    {
      "cell_type": "code",
      "source": [
        "result"
      ],
      "metadata": {
        "colab": {
          "base_uri": "https://localhost:8080/"
        },
        "id": "QkpvZtliQKe8",
        "outputId": "98243474-55c0-4ae4-8875-fc1f3564fe26"
      },
      "execution_count": 2,
      "outputs": [
        {
          "output_type": "execute_result",
          "data": {
            "text/plain": [
              "5"
            ]
          },
          "metadata": {},
          "execution_count": 2
        }
      ]
    },
    {
      "cell_type": "markdown",
      "source": [
        "# 함수 정의(선언) 방법\n",
        "\n",
        "```\n",
        "def function_name([param1, ...]):\n",
        "    [\"\"\"문서화 주석(documentation comment): 함수에 대한 설명\"\"\"]\n",
        "    함수 기능 작성(코드)\n",
        "    [return 반환 값]\n",
        "```"
      ],
      "metadata": {
        "id": "rwuFRzibU0rl"
      }
    },
    {
      "cell_type": "code",
      "source": [
        "def subtract(x, y):\n",
        "    \"\"\"숫자 2개(x, y)를 전달받아서, x - y를 반환하는 함수.\n",
        "    \"\"\"\n",
        "    return x - y"
      ],
      "metadata": {
        "id": "VUFEWfXDQLxI"
      },
      "execution_count": 3,
      "outputs": []
    },
    {
      "cell_type": "code",
      "source": [
        "result = subtract(1, 2)\n",
        "result"
      ],
      "metadata": {
        "colab": {
          "base_uri": "https://localhost:8080/"
        },
        "id": "s6rl2JrLXZRV",
        "outputId": "9007644d-cab3-481c-b8d8-94c92022f090"
      },
      "execution_count": 4,
      "outputs": [
        {
          "output_type": "execute_result",
          "data": {
            "text/plain": [
              "-1"
            ]
          },
          "metadata": {},
          "execution_count": 4
        }
      ]
    },
    {
      "cell_type": "markdown",
      "source": [
        "파이썬은 2개 이상의 값을 반환하는 함수를 정의할 수 있음."
      ],
      "metadata": {
        "id": "a4QyTAcLYtLJ"
      }
    },
    {
      "cell_type": "code",
      "source": [
        "def plus_and_minus(x, y):\n",
        "    \"\"\"2개의 숫자 x, y를 전달받아서, x+y와 x-y를 반환하는 함수.\n",
        "    \"\"\"\n",
        "    return x + y, x - y"
      ],
      "metadata": {
        "id": "FJOLVd1FX2yS"
      },
      "execution_count": 5,
      "outputs": []
    },
    {
      "cell_type": "code",
      "source": [
        "result = plus_and_minus(1, 2)\n",
        "result  #> tuple"
      ],
      "metadata": {
        "colab": {
          "base_uri": "https://localhost:8080/"
        },
        "id": "woFNTTXSZKBz",
        "outputId": "54d87cab-7fac-47fc-8234-0b06b6b0e6b2"
      },
      "execution_count": 6,
      "outputs": [
        {
          "output_type": "execute_result",
          "data": {
            "text/plain": [
              "(3, -1)"
            ]
          },
          "metadata": {},
          "execution_count": 6
        }
      ]
    },
    {
      "cell_type": "code",
      "source": [
        "# tuple decomposition(분해): x, y = (3, -1)\n",
        "plus, minus = plus_and_minus(1, 2)\n",
        "print(plus)\n",
        "print(minus)"
      ],
      "metadata": {
        "colab": {
          "base_uri": "https://localhost:8080/"
        },
        "id": "iSxYEyqLZj78",
        "outputId": "94837233-28be-4e30-ae6b-2d5aaa0f169f"
      },
      "execution_count": 7,
      "outputs": [
        {
          "output_type": "stream",
          "name": "stdout",
          "text": [
            "3\n",
            "-1\n"
          ]
        }
      ]
    },
    {
      "cell_type": "markdown",
      "source": [
        "# 값을 반환하지 않는 함수"
      ],
      "metadata": {
        "id": "FUnpQzv7aqKe"
      }
    },
    {
      "cell_type": "code",
      "source": [
        "def repeat_messages(message, n):\n",
        "    \"\"\"문자열 message와 양의 정수 n을 전달받아서, \n",
        "    전달받은 문자열을 n번 반복해서 출력하는 함수.\n",
        "    \"\"\"\n",
        "    for _ in range(n):\n",
        "        print(message)\n",
        "\n",
        "    # return None  # 반환 값이 없다는 것을 명시적으로 작성.\n",
        "    # 반환 값이 없는 경우 return None 문장을 보통 생략함.    "
      ],
      "metadata": {
        "id": "cDVz5zMDaQcf"
      },
      "execution_count": 8,
      "outputs": []
    },
    {
      "cell_type": "code",
      "source": [
        "result = repeat_messages('안녕하세요', 3)"
      ],
      "metadata": {
        "colab": {
          "base_uri": "https://localhost:8080/"
        },
        "id": "G-f45SvbbjpS",
        "outputId": "c9fbde6d-8277-411e-a2b4-94f8f3a0cdd7"
      },
      "execution_count": 9,
      "outputs": [
        {
          "output_type": "stream",
          "name": "stdout",
          "text": [
            "안녕하세요\n",
            "안녕하세요\n",
            "안녕하세요\n"
          ]
        }
      ]
    },
    {
      "cell_type": "code",
      "source": [
        "print(result)  #> None: 값이 없음."
      ],
      "metadata": {
        "colab": {
          "base_uri": "https://localhost:8080/"
        },
        "id": "Ma1vPfL_cAMb",
        "outputId": "721d2485-730c-4cb8-8339-fbdc4694f8a5"
      },
      "execution_count": 10,
      "outputs": [
        {
          "output_type": "stream",
          "name": "stdout",
          "text": [
            "None\n"
          ]
        }
      ]
    },
    {
      "cell_type": "markdown",
      "source": [
        "# 함수 정의/호출 연습"
      ],
      "metadata": {
        "id": "5NtxJn8_feMz"
      }
    },
    {
      "cell_type": "code",
      "source": [
        "import random  # 난수 관련 함수들을 사용하기 위해서\n",
        "import math  # 수학 함수들을 사용하기 위해서"
      ],
      "metadata": {
        "id": "WCHCnwUtcIk7"
      },
      "execution_count": 11,
      "outputs": []
    },
    {
      "cell_type": "markdown",
      "source": [
        "## Ex 1.\n",
        "\n",
        "* 함수 이름: make_list\n",
        "* 기능: start 이상 end 미만의 정수 난수 n개를 갖는 리스트를 반환."
      ],
      "metadata": {
        "id": "NsGM96S4fo98"
      }
    },
    {
      "cell_type": "code",
      "source": [
        "def make_list(start, end, n):\n",
        "    # array = []  # 빈 리스트\n",
        "    # for _ in range(n):  # n번 반복하면서\n",
        "    #     array.append(random.randrange(start, end))  # 난수를 생성해서 리스트에 추가\n",
        "    # return array  # 리스트를 리턴.  \n",
        "\n",
        "    return [random.randrange(start, end) for _ in range(n)]  "
      ],
      "metadata": {
        "id": "YZLHBzdo_ZMw"
      },
      "execution_count": null,
      "outputs": []
    },
    {
      "cell_type": "code",
      "source": [
        "num_list = make_list(0, 10, 5)\n",
        "num_list"
      ],
      "metadata": {
        "colab": {
          "base_uri": "https://localhost:8080/"
        },
        "id": "g9MlBNg0ADFh",
        "outputId": "f4dcbaa9-7d6f-4af9-98e5-8c70b247600c"
      },
      "execution_count": 29,
      "outputs": [
        {
          "output_type": "execute_result",
          "data": {
            "text/plain": [
              "[1, 5, 1, 8, 3]"
            ]
          },
          "metadata": {},
          "execution_count": 29
        }
      ]
    },
    {
      "cell_type": "markdown",
      "source": [
        "## Ex 2.\n",
        "\n",
        "* 함수 이름: calc_sum\n",
        "* 기능: 숫자들을 저장하고 있는 리스트의 모든 원소들의 합을 반환."
      ],
      "metadata": {
        "id": "pB9JhNMqfrn7"
      }
    },
    {
      "cell_type": "code",
      "source": [
        "def calc_sum(numbers):\n",
        "    # return sum(numbers)\n",
        "    \n",
        "    total = 0\n",
        "    for x in numbers:\n",
        "        total += x\n",
        "    return total     "
      ],
      "metadata": {
        "id": "iXEKzRKmfuWd"
      },
      "execution_count": 31,
      "outputs": []
    },
    {
      "cell_type": "code",
      "source": [
        "total = calc_sum(num_list)\n",
        "total"
      ],
      "metadata": {
        "colab": {
          "base_uri": "https://localhost:8080/"
        },
        "id": "uJUmTa6fi_hv",
        "outputId": "3d7bc83d-64ee-4394-add9-5c7807c361eb"
      },
      "execution_count": 32,
      "outputs": [
        {
          "output_type": "execute_result",
          "data": {
            "text/plain": [
              "18"
            ]
          },
          "metadata": {},
          "execution_count": 32
        }
      ]
    },
    {
      "cell_type": "markdown",
      "source": [
        "## Ex 3.\n",
        "\n",
        "* 함수 이름: calc_mean\n",
        "* 기능: 숫자들을 저장하고 있는 리스트의 모든 원소들의 평균을 반환."
      ],
      "metadata": {
        "id": "CseIk9spfxEi"
      }
    },
    {
      "cell_type": "code",
      "source": [
        "def calc_mean(numbers):\n",
        "    return calc_sum(numbers) / len(numbers)"
      ],
      "metadata": {
        "id": "3hzBmzsNfxuP"
      },
      "execution_count": 33,
      "outputs": []
    },
    {
      "cell_type": "code",
      "source": [
        "mean = calc_mean(num_list)\n",
        "mean"
      ],
      "metadata": {
        "colab": {
          "base_uri": "https://localhost:8080/"
        },
        "id": "_aopGLU1kuMT",
        "outputId": "e27b5d8b-3245-40ed-d8cc-ad019e915416"
      },
      "execution_count": 34,
      "outputs": [
        {
          "output_type": "execute_result",
          "data": {
            "text/plain": [
              "3.6"
            ]
          },
          "metadata": {},
          "execution_count": 34
        }
      ]
    },
    {
      "cell_type": "markdown",
      "source": [
        "## Ex 4.\n",
        "\n",
        "* 함수 이름: calc_variance\n",
        "* 기능: 숫자들을 저장하고 있는 리스트의 원소들의 분산을 반환."
      ],
      "metadata": {
        "id": "HAfq2paPf0MZ"
      }
    },
    {
      "cell_type": "code",
      "source": [
        "def calc_variance(numbers):\n",
        "    mean = calc_mean(numbers)  # 평균\n",
        "    squares = [(x - mean) ** 2 for x in numbers] \n",
        "    var = calc_sum(squares) / (len(numbers) - 1)\n",
        "    return var"
      ],
      "metadata": {
        "id": "cVyiw6aBf1Rt"
      },
      "execution_count": 35,
      "outputs": []
    },
    {
      "cell_type": "code",
      "source": [
        "var = calc_variance(num_list)\n",
        "var"
      ],
      "metadata": {
        "colab": {
          "base_uri": "https://localhost:8080/"
        },
        "id": "WjXU4-95llg6",
        "outputId": "aa28cbb5-8eba-4ebb-ed50-f016be8925d4"
      },
      "execution_count": 36,
      "outputs": [
        {
          "output_type": "execute_result",
          "data": {
            "text/plain": [
              "8.8"
            ]
          },
          "metadata": {},
          "execution_count": 36
        }
      ]
    },
    {
      "cell_type": "markdown",
      "source": [
        "## Ex 5.\n",
        "\n",
        "* 함수 이름: calc_stddev\n",
        "* 기능: 숫자들을 저장하고 있는 리스트의 원소들의 표준편차를 반환."
      ],
      "metadata": {
        "id": "7oQw9U_5f4Vf"
      }
    },
    {
      "cell_type": "code",
      "source": [
        "def calc_stddev(numbers):\n",
        "    return math.sqrt(calc_variance(numbers))"
      ],
      "metadata": {
        "id": "KzW2HaGHf5fi"
      },
      "execution_count": 37,
      "outputs": []
    },
    {
      "cell_type": "code",
      "source": [
        "stddev = calc_stddev(num_list)\n",
        "stddev"
      ],
      "metadata": {
        "colab": {
          "base_uri": "https://localhost:8080/"
        },
        "id": "eEqKZoFvmLX6",
        "outputId": "16d9b96d-669b-4097-90a4-e3faaf9ae220"
      },
      "execution_count": 38,
      "outputs": [
        {
          "output_type": "execute_result",
          "data": {
            "text/plain": [
              "2.9664793948382653"
            ]
          },
          "metadata": {},
          "execution_count": 38
        }
      ]
    },
    {
      "cell_type": "markdown",
      "source": [
        "## Ex 6.\n",
        "\n",
        "* 함수 이름: find_max_and_min\n",
        "* 기능: 숫자들을 저장하고 있는 리스트에서 최댓값과 최솟값을 반환."
      ],
      "metadata": {
        "id": "GoKzPn5xf_wk"
      }
    },
    {
      "cell_type": "code",
      "source": [
        "def find_max_and_min(numbers):    \n",
        "    # return max(numbers), min(numbers)\n",
        "    \n",
        "    max_numbers = numbers[0]\n",
        "    min_numbers = numbers[0]\n",
        "    for x in numbers:\n",
        "        if x > max_numbers:\n",
        "            max_numbers = x\n",
        "        if x < min_numbers:\n",
        "            min_numbers = x\n",
        "    return max_numbers, min_numbers            "
      ],
      "metadata": {
        "id": "cqxM-huFgAcn"
      },
      "execution_count": 39,
      "outputs": []
    },
    {
      "cell_type": "code",
      "source": [
        "num_list"
      ],
      "metadata": {
        "colab": {
          "base_uri": "https://localhost:8080/"
        },
        "id": "EE4OmdVTGsBo",
        "outputId": "2e7f7965-2ceb-4388-ed53-730946599907"
      },
      "execution_count": 40,
      "outputs": [
        {
          "output_type": "execute_result",
          "data": {
            "text/plain": [
              "[1, 5, 1, 8, 3]"
            ]
          },
          "metadata": {},
          "execution_count": 40
        }
      ]
    },
    {
      "cell_type": "code",
      "source": [
        "find_max_and_min(num_list)"
      ],
      "metadata": {
        "colab": {
          "base_uri": "https://localhost:8080/"
        },
        "id": "wEuEqau3n1H1",
        "outputId": "94fef293-5c45-42cd-849b-db4e36581ea0"
      },
      "execution_count": 42,
      "outputs": [
        {
          "output_type": "execute_result",
          "data": {
            "text/plain": [
              "(8, 1)"
            ]
          },
          "metadata": {},
          "execution_count": 42
        }
      ]
    }
  ]
}