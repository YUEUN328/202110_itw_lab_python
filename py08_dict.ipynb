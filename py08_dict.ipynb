{
  "nbformat": 4,
  "nbformat_minor": 0,
  "metadata": {
    "colab": {
      "name": "py08_dict.ipynb",
      "provenance": [],
      "collapsed_sections": [],
      "authorship_tag": "ABX9TyOUGzlgNJmhrmQzR5LP8eEe",
      "include_colab_link": true
    },
    "kernelspec": {
      "name": "python3",
      "display_name": "Python 3"
    },
    "language_info": {
      "name": "python"
    }
  },
  "cells": [
    {
      "cell_type": "markdown",
      "metadata": {
        "id": "view-in-github",
        "colab_type": "text"
      },
      "source": [
        "<a href=\"https://colab.research.google.com/github/YUEUN328/202110_itw_lab_python/blob/main/py08_dict.ipynb\" target=\"_parent\"><img src=\"https://colab.research.google.com/assets/colab-badge.svg\" alt=\"Open In Colab\"/></a>"
      ]
    },
    {
      "cell_type": "markdown",
      "source": [
        "# dict\n",
        "\n",
        "* dictionary(사전) 형식의 데이터 타입.\n",
        "* 키(key)를 기반으로 값(value)를 저장하는 데이터 타입.\n",
        "    * list, tuple: index를 기반으로 값을 저장하는 데이터 타입.\n",
        "    * key의 역할은 list 또는 tuple에서 인덱스의 역할과 마찬가지로, dict 타입에 저장되어 있는 유일한 1개의 값을 참조하기 위한 용도."
      ],
      "metadata": {
        "id": "tZ8iUTz0qTD7"
      }
    },
    {
      "cell_type": "code",
      "execution_count": 3,
      "metadata": {
        "colab": {
          "base_uri": "https://localhost:8080/"
        },
        "id": "uc0tQsHEqOFj",
        "outputId": "8e07590d-e693-4e99-ba9d-8bacf35d7dea"
      },
      "outputs": [
        {
          "output_type": "execute_result",
          "data": {
            "text/plain": [
              "{1: '홍길동', 2: 'Scott', 10: '김길동'}"
            ]
          },
          "metadata": {},
          "execution_count": 3
        }
      ],
      "source": [
        "students = {1: '홍길동', 2: 'Scott', 10: '김길동'}\n",
        "students"
      ]
    },
    {
      "cell_type": "code",
      "source": [
        "type(students)"
      ],
      "metadata": {
        "colab": {
          "base_uri": "https://localhost:8080/"
        },
        "id": "bs0Y-y9argk2",
        "outputId": "642b5d2a-6f7e-4430-c474-42ba9fed4e89"
      },
      "execution_count": 4,
      "outputs": [
        {
          "output_type": "execute_result",
          "data": {
            "text/plain": [
              "dict"
            ]
          },
          "metadata": {},
          "execution_count": 4
        }
      ]
    },
    {
      "cell_type": "code",
      "source": [
        "len(students)"
      ],
      "metadata": {
        "colab": {
          "base_uri": "https://localhost:8080/"
        },
        "id": "pwxrSN1oriEy",
        "outputId": "f99b5865-bada-41a4-e725-d629a3a955c6"
      },
      "execution_count": 5,
      "outputs": [
        {
          "output_type": "execute_result",
          "data": {
            "text/plain": [
              "3"
            ]
          },
          "metadata": {},
          "execution_count": 5
        }
      ]
    },
    {
      "cell_type": "code",
      "source": [
        "# dict의 저장된 값(value)을 참조할 때 인덱스 연산자([])와 키(key)를 사용.\n",
        "students[1]"
      ],
      "metadata": {
        "colab": {
          "base_uri": "https://localhost:8080/",
          "height": 36
        },
        "id": "wyHyWws-r0l8",
        "outputId": "cb60948d-1a69-452f-9444-2361adc70ebc"
      },
      "execution_count": 6,
      "outputs": [
        {
          "output_type": "execute_result",
          "data": {
            "application/vnd.google.colaboratory.intrinsic+json": {
              "type": "string"
            },
            "text/plain": [
              "'홍길동'"
            ]
          },
          "metadata": {},
          "execution_count": 6
        }
      ]
    },
    {
      "cell_type": "code",
      "source": [
        "# dict에 새로운 아이템 추가: dict[new_key] = value\n",
        "students[11] = 'Tiger'\n",
        "students"
      ],
      "metadata": {
        "colab": {
          "base_uri": "https://localhost:8080/"
        },
        "id": "aJ38OBWRsa0B",
        "outputId": "52011c12-1e94-49b2-9624-d11e9f314fee"
      },
      "execution_count": 7,
      "outputs": [
        {
          "output_type": "execute_result",
          "data": {
            "text/plain": [
              "{1: '홍길동', 2: 'Scott', 10: '김길동', 11: 'Tiger'}"
            ]
          },
          "metadata": {},
          "execution_count": 7
        }
      ]
    },
    {
      "cell_type": "code",
      "source": [
        "# dict에서 해당 키의 값을 변경: dict[key] = new_value\n",
        "students[10] = 'King'\n",
        "students"
      ],
      "metadata": {
        "colab": {
          "base_uri": "https://localhost:8080/"
        },
        "id": "cxc5yfU1tNZO",
        "outputId": "0f03f837-d4dc-4c26-a32e-9de00924649e"
      },
      "execution_count": 8,
      "outputs": [
        {
          "output_type": "execute_result",
          "data": {
            "text/plain": [
              "{1: '홍길동', 2: 'Scott', 10: 'King', 11: 'Tiger'}"
            ]
          },
          "metadata": {},
          "execution_count": 8
        }
      ]
    },
    {
      "cell_type": "markdown",
      "source": [
        "# dict의 메서드(기능)"
      ],
      "metadata": {
        "id": "ND4kqqJlt2oY"
      }
    },
    {
      "cell_type": "code",
      "source": [
        "book = {'title': '점프 투 파이썬', \n",
        "        'author': '박응용',\n",
        "        'price': 10_000}\n",
        "book        "
      ],
      "metadata": {
        "colab": {
          "base_uri": "https://localhost:8080/"
        },
        "id": "kVK6ZxXKt7RD",
        "outputId": "21e99fdb-264f-4856-eb05-6f41d926d8a0"
      },
      "execution_count": 9,
      "outputs": [
        {
          "output_type": "execute_result",
          "data": {
            "text/plain": [
              "{'author': '박응용', 'price': 10000, 'title': '점프 투 파이썬'}"
            ]
          },
          "metadata": {},
          "execution_count": 9
        }
      ]
    },
    {
      "cell_type": "code",
      "source": [
        "# dict의 key들의 집합\n",
        "book.keys()"
      ],
      "metadata": {
        "colab": {
          "base_uri": "https://localhost:8080/"
        },
        "id": "uETqYDZSuVwE",
        "outputId": "4efc2940-9256-41b4-90c1-1a66b8d70a93"
      },
      "execution_count": 10,
      "outputs": [
        {
          "output_type": "execute_result",
          "data": {
            "text/plain": [
              "dict_keys(['title', 'author', 'price'])"
            ]
          },
          "metadata": {},
          "execution_count": 10
        }
      ]
    },
    {
      "cell_type": "code",
      "source": [
        "# dict의 value들의 집합\n",
        "book.values()"
      ],
      "metadata": {
        "colab": {
          "base_uri": "https://localhost:8080/"
        },
        "id": "OGRCWKRyvNKm",
        "outputId": "75a05e84-5a58-4b67-8961-7a1a83c8517a"
      },
      "execution_count": 11,
      "outputs": [
        {
          "output_type": "execute_result",
          "data": {
            "text/plain": [
              "dict_values(['점프 투 파이썬', '박응용', 10000])"
            ]
          },
          "metadata": {},
          "execution_count": 11
        }
      ]
    },
    {
      "cell_type": "code",
      "source": [
        "# dict의 item(key, value)들의 집합\n",
        "book.items()"
      ],
      "metadata": {
        "colab": {
          "base_uri": "https://localhost:8080/"
        },
        "id": "93Ioigc0vhoC",
        "outputId": "1de2a14d-995c-4a51-9ebb-15af71f88694"
      },
      "execution_count": 12,
      "outputs": [
        {
          "output_type": "execute_result",
          "data": {
            "text/plain": [
              "dict_items([('title', '점프 투 파이썬'), ('author', '박응용'), ('price', 10000)])"
            ]
          },
          "metadata": {},
          "execution_count": 12
        }
      ]
    },
    {
      "cell_type": "code",
      "source": [
        "# dict에서 해당 key의 value를 리턴.\n",
        "book['title']  # 인덱스 연산자 + 키"
      ],
      "metadata": {
        "colab": {
          "base_uri": "https://localhost:8080/",
          "height": 36
        },
        "id": "9uTXZDDDv4oT",
        "outputId": "5d52f17a-5785-45ed-a0c5-f11c3129e8de"
      },
      "execution_count": 13,
      "outputs": [
        {
          "output_type": "execute_result",
          "data": {
            "application/vnd.google.colaboratory.intrinsic+json": {
              "type": "string"
            },
            "text/plain": [
              "'점프 투 파이썬'"
            ]
          },
          "metadata": {},
          "execution_count": 13
        }
      ]
    },
    {
      "cell_type": "code",
      "source": [
        "book.get('title')  # 메서드를 호출하면서 키를 argument로 전달."
      ],
      "metadata": {
        "colab": {
          "base_uri": "https://localhost:8080/",
          "height": 36
        },
        "id": "fnkwuiCSw7dE",
        "outputId": "13f2d2ef-e168-4487-ce22-8a50917cea80"
      },
      "execution_count": 14,
      "outputs": [
        {
          "output_type": "execute_result",
          "data": {
            "application/vnd.google.colaboratory.intrinsic+json": {
              "type": "string"
            },
            "text/plain": [
              "'점프 투 파이썬'"
            ]
          },
          "metadata": {},
          "execution_count": 14
        }
      ]
    },
    {
      "cell_type": "code",
      "source": [
        "# 인덱스 연산자를 사용하는 경우, dict에 없는 키를 사용하면 KeyError가 발생함.\n",
        "# print(book['isbn'])\n",
        "\n",
        "# get() 메서드를 호출할 때는 dict에 없는 키인 경우 None을 리턴.\n",
        "print(book.get('isbn'))"
      ],
      "metadata": {
        "colab": {
          "base_uri": "https://localhost:8080/"
        },
        "id": "qrA-rxctxXOM",
        "outputId": "177d7dac-a565-449c-8b8d-b507b7ba5900"
      },
      "execution_count": 16,
      "outputs": [
        {
          "output_type": "stream",
          "name": "stdout",
          "text": [
            "None\n"
          ]
        }
      ]
    },
    {
      "cell_type": "code",
      "source": [
        "# dict에서 아이템 삭제\n",
        "book.pop('price')"
      ],
      "metadata": {
        "colab": {
          "base_uri": "https://localhost:8080/"
        },
        "id": "wAUwMnrxxsO_",
        "outputId": "916f1b31-7bb4-4000-c7c1-975af2058ad6"
      },
      "execution_count": 17,
      "outputs": [
        {
          "output_type": "execute_result",
          "data": {
            "text/plain": [
              "10000"
            ]
          },
          "metadata": {},
          "execution_count": 17
        }
      ]
    },
    {
      "cell_type": "code",
      "source": [
        "book"
      ],
      "metadata": {
        "colab": {
          "base_uri": "https://localhost:8080/"
        },
        "id": "ZlVJ0mSqy8tW",
        "outputId": "107b61cc-b1b4-4ee6-eb43-371e1e06f277"
      },
      "execution_count": 18,
      "outputs": [
        {
          "output_type": "execute_result",
          "data": {
            "text/plain": [
              "{'author': '박응용', 'title': '점프 투 파이썬'}"
            ]
          },
          "metadata": {},
          "execution_count": 18
        }
      ]
    },
    {
      "cell_type": "markdown",
      "source": [
        "dict는 키(key)와 값(value) 모두 다양한 타입의 자료들을 사용할 수 있음."
      ],
      "metadata": {
        "id": "Bi6cdNNH3eJc"
      }
    },
    {
      "cell_type": "code",
      "source": [
        "contact = {\n",
        "    'no': 1, \n",
        "    'name': '오쌤', \n",
        "    'phone': ['010-1111-2222', '02-1234-5678'],\n",
        "    'email': {'personal': 'jake@gmail.com', 'company': 'jake@itwill.co.kr'}\n",
        "}\n",
        "contact"
      ],
      "metadata": {
        "colab": {
          "base_uri": "https://localhost:8080/"
        },
        "id": "pX3Ptd_lzDrr",
        "outputId": "e5286959-015a-4aab-87d4-a9de765e7d66"
      },
      "execution_count": 21,
      "outputs": [
        {
          "output_type": "execute_result",
          "data": {
            "text/plain": [
              "{'email': {'company': 'jake@itwill.co.kr', 'personal': 'jake@gmail.com'},\n",
              " 'name': '오쌤',\n",
              " 'no': 1,\n",
              " 'phone': ['010-1111-2222', '02-1234-5678']}"
            ]
          },
          "metadata": {},
          "execution_count": 21
        }
      ]
    },
    {
      "cell_type": "code",
      "source": [
        "contact['no']  #> int"
      ],
      "metadata": {
        "colab": {
          "base_uri": "https://localhost:8080/"
        },
        "id": "isnJmd_R5HSO",
        "outputId": "bd23c90b-99f9-4f49-9b71-d818c25bc945"
      },
      "execution_count": 22,
      "outputs": [
        {
          "output_type": "execute_result",
          "data": {
            "text/plain": [
              "1"
            ]
          },
          "metadata": {},
          "execution_count": 22
        }
      ]
    },
    {
      "cell_type": "code",
      "source": [
        "contact['phone']  #> list"
      ],
      "metadata": {
        "colab": {
          "base_uri": "https://localhost:8080/"
        },
        "id": "xYwj55II4ycu",
        "outputId": "a02daa31-3ccf-4987-dcb2-b02a62ff3103"
      },
      "execution_count": 23,
      "outputs": [
        {
          "output_type": "execute_result",
          "data": {
            "text/plain": [
              "['010-1111-2222', '02-1234-5678']"
            ]
          },
          "metadata": {},
          "execution_count": 23
        }
      ]
    },
    {
      "cell_type": "code",
      "source": [
        "contact['phone'][0]"
      ],
      "metadata": {
        "colab": {
          "base_uri": "https://localhost:8080/",
          "height": 36
        },
        "id": "aJ12pa-O441w",
        "outputId": "bb8d8a5b-db94-46e9-d940-39b91d60da5f"
      },
      "execution_count": 24,
      "outputs": [
        {
          "output_type": "execute_result",
          "data": {
            "application/vnd.google.colaboratory.intrinsic+json": {
              "type": "string"
            },
            "text/plain": [
              "'010-1111-2222'"
            ]
          },
          "metadata": {},
          "execution_count": 24
        }
      ]
    },
    {
      "cell_type": "code",
      "source": [
        "contact['email']"
      ],
      "metadata": {
        "colab": {
          "base_uri": "https://localhost:8080/"
        },
        "id": "mbmmvGm55RvG",
        "outputId": "edf8fa78-4925-436a-c2f3-63ab2d40f74e"
      },
      "execution_count": 25,
      "outputs": [
        {
          "output_type": "execute_result",
          "data": {
            "text/plain": [
              "{'company': 'jake@itwill.co.kr', 'personal': 'jake@gmail.com'}"
            ]
          },
          "metadata": {},
          "execution_count": 25
        }
      ]
    },
    {
      "cell_type": "code",
      "source": [
        "contact['email']['company']"
      ],
      "metadata": {
        "colab": {
          "base_uri": "https://localhost:8080/",
          "height": 36
        },
        "id": "wzfpHp7N5VDc",
        "outputId": "274cfc2a-b6b3-4641-86f4-d676c382d972"
      },
      "execution_count": 26,
      "outputs": [
        {
          "output_type": "execute_result",
          "data": {
            "application/vnd.google.colaboratory.intrinsic+json": {
              "type": "string"
            },
            "text/plain": [
              "'jake@itwill.co.kr'"
            ]
          },
          "metadata": {},
          "execution_count": 26
        }
      ]
    },
    {
      "cell_type": "markdown",
      "source": [
        "# dict와 for 반복문"
      ],
      "metadata": {
        "id": "n9vEPwsM5yMa"
      }
    },
    {
      "cell_type": "markdown",
      "source": [
        "for-in 구문에 dict 타입 객체를 사용하면, key에 대해서 반복(iteration)을 함."
      ],
      "metadata": {
        "id": "6ZStE8m66THi"
      }
    },
    {
      "cell_type": "code",
      "source": [
        "for k in contact:\n",
        "    print(k) "
      ],
      "metadata": {
        "colab": {
          "base_uri": "https://localhost:8080/"
        },
        "id": "cN6SiPx75v-o",
        "outputId": "d92c47ec-d023-4bfc-c2d6-6c2228199f8e"
      },
      "execution_count": 28,
      "outputs": [
        {
          "output_type": "stream",
          "name": "stdout",
          "text": [
            "no\n",
            "name\n",
            "phone\n",
            "email\n"
          ]
        }
      ]
    },
    {
      "cell_type": "code",
      "source": [
        "for k in contact:\n",
        "    print(k, ':', contact[k])"
      ],
      "metadata": {
        "colab": {
          "base_uri": "https://localhost:8080/"
        },
        "id": "ICqSqF1B6A4j",
        "outputId": "bb12a7cc-3e40-4d75-8932-dd2f33dfd43b"
      },
      "execution_count": 29,
      "outputs": [
        {
          "output_type": "stream",
          "name": "stdout",
          "text": [
            "no : 1\n",
            "name : 오쌤\n",
            "phone : ['010-1111-2222', '02-1234-5678']\n",
            "email : {'personal': 'jake@gmail.com', 'company': 'jake@itwill.co.kr'}\n"
          ]
        }
      ]
    },
    {
      "cell_type": "code",
      "source": [
        "for item in contact.items():\n",
        "    print(item)"
      ],
      "metadata": {
        "colab": {
          "base_uri": "https://localhost:8080/"
        },
        "id": "j2ymZGG26vIc",
        "outputId": "41ae935a-2218-4ce9-e69b-8ad2387576e3"
      },
      "execution_count": 30,
      "outputs": [
        {
          "output_type": "stream",
          "name": "stdout",
          "text": [
            "('no', 1)\n",
            "('name', '오쌤')\n",
            "('phone', ['010-1111-2222', '02-1234-5678'])\n",
            "('email', {'personal': 'jake@gmail.com', 'company': 'jake@itwill.co.kr'})\n"
          ]
        }
      ]
    },
    {
      "cell_type": "code",
      "source": [
        "# tuple decomposition: k, v = ('no', 1)\n",
        "for k, v in contact.items():\n",
        "    print(k, ':', v)"
      ],
      "metadata": {
        "colab": {
          "base_uri": "https://localhost:8080/"
        },
        "id": "1DShw_wM7DUz",
        "outputId": "3812cfa8-834b-4a9b-edc8-a451b4817d17"
      },
      "execution_count": 31,
      "outputs": [
        {
          "output_type": "stream",
          "name": "stdout",
          "text": [
            "no : 1\n",
            "name : 오쌤\n",
            "phone : ['010-1111-2222', '02-1234-5678']\n",
            "email : {'personal': 'jake@gmail.com', 'company': 'jake@itwill.co.kr'}\n"
          ]
        }
      ]
    },
    {
      "cell_type": "markdown",
      "source": [
        "# Dictionary Comprehension"
      ],
      "metadata": {
        "id": "d2JhR4Qv7953"
      }
    },
    {
      "cell_type": "code",
      "source": [
        "emp_no = [101, 102, 103, 201, 202]  # 사번 리스트\n",
        "emp_name = ['King', 'Scott', 'Allen', 'Tiger', '오쌤']  # 직원 이름 리스트"
      ],
      "metadata": {
        "id": "ZKjlI-f27n9d"
      },
      "execution_count": 32,
      "outputs": []
    },
    {
      "cell_type": "code",
      "source": [
        "# 사번을 key로 하고, 이름을 value로 하는 dict 객체 생성.\n",
        "# 1) empty dict\n",
        "emp = {}\n",
        "\n",
        "# 2) dict[k] = v 추가 반복\n",
        "for i in range(5):\n",
        "    emp[emp_no[i]] = emp_name[i]\n",
        "\n",
        "print(emp)    "
      ],
      "metadata": {
        "colab": {
          "base_uri": "https://localhost:8080/"
        },
        "id": "4XDCsgIj8lAB",
        "outputId": "eda7797a-fa17-490b-8e2f-2c32430741db"
      },
      "execution_count": 34,
      "outputs": [
        {
          "output_type": "stream",
          "name": "stdout",
          "text": [
            "{101: 'King', 102: 'Scott', 103: 'Allen', 201: 'Tiger', 202: '오쌤'}\n"
          ]
        }
      ]
    },
    {
      "cell_type": "code",
      "source": [
        "emp = {}\n",
        "for x, y in zip(emp_no, emp_name):\n",
        "    emp[x] = y\n",
        "\n",
        "emp"
      ],
      "metadata": {
        "colab": {
          "base_uri": "https://localhost:8080/"
        },
        "id": "vIIWEKoH9331",
        "outputId": "ea4c20e3-413a-42ad-ffb8-cdfa8084b7d9"
      },
      "execution_count": 37,
      "outputs": [
        {
          "output_type": "execute_result",
          "data": {
            "text/plain": [
              "{101: 'King', 102: 'Scott', 103: 'Allen', 201: 'Tiger', 202: '오쌤'}"
            ]
          },
          "metadata": {},
          "execution_count": 37
        }
      ]
    },
    {
      "cell_type": "code",
      "source": [
        "# dictionary comprehension\n",
        "emp = {k: v for k, v in zip(emp_no, emp_name)}\n",
        "emp"
      ],
      "metadata": {
        "colab": {
          "base_uri": "https://localhost:8080/"
        },
        "id": "ttqUbmKh_QvR",
        "outputId": "34ef2c22-a39c-4a56-e9b1-6337e3b9ee39"
      },
      "execution_count": 38,
      "outputs": [
        {
          "output_type": "execute_result",
          "data": {
            "text/plain": [
              "{101: 'King', 102: 'Scott', 103: 'Allen', 201: 'Tiger', 202: '오쌤'}"
            ]
          },
          "metadata": {},
          "execution_count": 38
        }
      ]
    },
    {
      "cell_type": "code",
      "source": [
        "fruits = ['apple', 'banana', 'cherry', 'pineapple', 'watermelon']\n",
        "\n",
        "# {과일이름: 이름의 길이} 형식의 dict를 생성. {'apple': 5, 'banana': 6, ...}\n",
        "fruit_lengths = {}  # 빈 dict\n",
        "for x in fruits:\n",
        "    # print(x, len(x))\n",
        "    fruit_lengths[x] = len(x)\n",
        "\n",
        "fruit_lengths"
      ],
      "metadata": {
        "colab": {
          "base_uri": "https://localhost:8080/"
        },
        "id": "-sIgsmcuAJWN",
        "outputId": "ddcc9575-8300-43f1-d307-9c5e0ff064ee"
      },
      "execution_count": 42,
      "outputs": [
        {
          "output_type": "execute_result",
          "data": {
            "text/plain": [
              "{'apple': 5, 'banana': 6, 'cherry': 6, 'pineapple': 9, 'watermelon': 10}"
            ]
          },
          "metadata": {},
          "execution_count": 42
        }
      ]
    },
    {
      "cell_type": "code",
      "source": [
        "lengths = {k: len(k) for k in fruits}\n",
        "lengths"
      ],
      "metadata": {
        "colab": {
          "base_uri": "https://localhost:8080/"
        },
        "id": "t0McAvU5Bcra",
        "outputId": "cbb4ca71-e00d-4548-d241-ad15f6b424e3"
      },
      "execution_count": 44,
      "outputs": [
        {
          "output_type": "execute_result",
          "data": {
            "text/plain": [
              "{'apple': 5, 'banana': 6, 'cherry': 6, 'pineapple': 9, 'watermelon': 10}"
            ]
          },
          "metadata": {},
          "execution_count": 44
        }
      ]
    }
  ]
}