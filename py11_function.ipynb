{
  "nbformat": 4,
  "nbformat_minor": 0,
  "metadata": {
    "colab": {
      "name": "py11_function.ipynb",
      "provenance": [],
      "collapsed_sections": [],
      "authorship_tag": "ABX9TyNArPp2XmsCItQgTPNp7jpi",
      "include_colab_link": true
    },
    "kernelspec": {
      "name": "python3",
      "display_name": "Python 3"
    },
    "language_info": {
      "name": "python"
    }
  },
  "cells": [
    {
      "cell_type": "markdown",
      "metadata": {
        "id": "view-in-github",
        "colab_type": "text"
      },
      "source": [
        "<a href=\"https://colab.research.google.com/github/YUEUN328/202110_itw_lab_python/blob/main/py11_function.ipynb\" target=\"_parent\"><img src=\"https://colab.research.google.com/assets/colab-badge.svg\" alt=\"Open In Colab\"/></a>"
      ]
    },
    {
      "cell_type": "markdown",
      "source": [
        "# 1급 객체(first-class object)로서의 함수\n",
        "\n",
        "함수는 객체이다.\n",
        "* 함수는 변수에 할당할 수 있음.\n",
        "* 함수는 argument로 다른 함수에 전달할 수 있음.\n",
        "* 함수의 반환 값이 함수가 될 수 있음. 함수는 함수를 반환할 수 있음.\n",
        "* 함수 내부에서 다른 함수를 정의할 수 있음."
      ],
      "metadata": {
        "id": "NK8J9EXuD5vY"
      }
    },
    {
      "cell_type": "code",
      "execution_count": 1,
      "metadata": {
        "colab": {
          "base_uri": "https://localhost:8080/"
        },
        "id": "M1y_PO6_DO7v",
        "outputId": "6ac38043-7583-49be-cae6-fb9200b3d7d2"
      },
      "outputs": [
        {
          "output_type": "stream",
          "name": "stdout",
          "text": [
            "1\n"
          ]
        }
      ],
      "source": [
        "x = 1  # 객체는 변수에 할당(저장)할 수 있음.\n",
        "print(x)  # 객체는 함수의 argument로 전달할 수 있음.  "
      ]
    },
    {
      "cell_type": "code",
      "source": [
        "# 함수 정의\n",
        "def twice(x):\n",
        "    return 2 * x"
      ],
      "metadata": {
        "id": "Enxhe_xvFMG7"
      },
      "execution_count": 2,
      "outputs": []
    },
    {
      "cell_type": "code",
      "source": [
        "print(twice)  #> twice는 함수 객체(function object)"
      ],
      "metadata": {
        "colab": {
          "base_uri": "https://localhost:8080/"
        },
        "id": "6PnYoWh_FWtw",
        "outputId": "5fa21af7-8f70-46c6-c896-b184e65982f6"
      },
      "execution_count": 3,
      "outputs": [
        {
          "output_type": "stream",
          "name": "stdout",
          "text": [
            "<function twice at 0x7fce04156440>\n"
          ]
        }
      ]
    },
    {
      "cell_type": "code",
      "source": [
        "result = twice(5)  # 함수 호출 결과(리턴 값)를 변수 result에 저장.\n",
        "result"
      ],
      "metadata": {
        "colab": {
          "base_uri": "https://localhost:8080/"
        },
        "id": "Fez5k1vxFdom",
        "outputId": "d8e059af-9943-4e08-8c66-eb55d5d13f80"
      },
      "execution_count": 4,
      "outputs": [
        {
          "output_type": "execute_result",
          "data": {
            "text/plain": [
              "10"
            ]
          },
          "metadata": {},
          "execution_count": 4
        }
      ]
    },
    {
      "cell_type": "code",
      "source": [
        "double = twice  # 함수는 변수에 할당할 수 있음.\n",
        "print(double)"
      ],
      "metadata": {
        "colab": {
          "base_uri": "https://localhost:8080/"
        },
        "id": "bA6YiikpGA3M",
        "outputId": "9d2ef3a0-40e8-427b-dbe4-c9611aed8d70"
      },
      "execution_count": 5,
      "outputs": [
        {
          "output_type": "stream",
          "name": "stdout",
          "text": [
            "<function twice at 0x7fce04156440>\n"
          ]
        }
      ]
    },
    {
      "cell_type": "code",
      "source": [
        "double(5)  # double 함수 호출 결과는 twice 함수 호출 결과와 동일."
      ],
      "metadata": {
        "colab": {
          "base_uri": "https://localhost:8080/"
        },
        "id": "sX7TD5pvGwoJ",
        "outputId": "c1d8f3bb-49e1-441e-ace6-71ee042b96e5"
      },
      "execution_count": 6,
      "outputs": [
        {
          "output_type": "execute_result",
          "data": {
            "text/plain": [
              "10"
            ]
          },
          "metadata": {},
          "execution_count": 6
        }
      ]
    },
    {
      "cell_type": "markdown",
      "source": [
        "argument로 함수를 전달받는 함수"
      ],
      "metadata": {
        "id": "4kKmrPU0HcNi"
      }
    },
    {
      "cell_type": "code",
      "source": [
        "def calculator(x, y, fn):\n",
        "    \"\"\"\n",
        "    x, y: 숫자(int, float)\n",
        "    fn: 숫자 2개를 argument로 전달받고, 숫자를 리턴하는 함수\n",
        "    \"\"\"\n",
        "    result = fn(x, y)\n",
        "    return result"
      ],
      "metadata": {
        "id": "mJEIKgHkHCFY"
      },
      "execution_count": 7,
      "outputs": []
    },
    {
      "cell_type": "code",
      "source": [
        "def plus(x, y):\n",
        "    return x + y"
      ],
      "metadata": {
        "id": "uBaCPueYIYMj"
      },
      "execution_count": 8,
      "outputs": []
    },
    {
      "cell_type": "code",
      "source": [
        "calculator(1, 2, plus)"
      ],
      "metadata": {
        "colab": {
          "base_uri": "https://localhost:8080/"
        },
        "id": "lOaAAtL3IdOi",
        "outputId": "bb397f12-c9e0-4f99-b267-f1237cf4c17e"
      },
      "execution_count": 9,
      "outputs": [
        {
          "output_type": "execute_result",
          "data": {
            "text/plain": [
              "3"
            ]
          },
          "metadata": {},
          "execution_count": 9
        }
      ]
    },
    {
      "cell_type": "code",
      "source": [
        "def minus(x, y):\n",
        "    return x - y"
      ],
      "metadata": {
        "id": "Y0do8Gx5I1G7"
      },
      "execution_count": 10,
      "outputs": []
    },
    {
      "cell_type": "code",
      "source": [
        "calculator(1, 2, minus)"
      ],
      "metadata": {
        "colab": {
          "base_uri": "https://localhost:8080/"
        },
        "id": "fwGfQrP1JTXP",
        "outputId": "504cb635-4a56-4355-e9a0-984fce3bbbc4"
      },
      "execution_count": 11,
      "outputs": [
        {
          "output_type": "execute_result",
          "data": {
            "text/plain": [
              "-1"
            ]
          },
          "metadata": {},
          "execution_count": 11
        }
      ]
    },
    {
      "cell_type": "markdown",
      "source": [
        "함수 내부에서 함수를 정의(선언)하고, 함수를 리턴."
      ],
      "metadata": {
        "id": "9TyqknKWKJm4"
      }
    },
    {
      "cell_type": "code",
      "source": [
        "def make_increment(n):\n",
        "    # 내부 함수(inner function), 지역 함수(local function): 함수 내부에서 정의하는 함수\n",
        "    def add_n(x):\n",
        "        return x + n\n",
        "\n",
        "    # make_increment 함수는 add_n 함수(객체)를 리턴.\n",
        "    return add_n    "
      ],
      "metadata": {
        "id": "hazqefAGJXgb"
      },
      "execution_count": 12,
      "outputs": []
    },
    {
      "cell_type": "code",
      "source": [
        "increase_by_2 = make_increment(2)\n",
        "print(increase_by_2)"
      ],
      "metadata": {
        "colab": {
          "base_uri": "https://localhost:8080/"
        },
        "id": "yV8EOVaELcl-",
        "outputId": "bf3a3819-f58c-4ecc-f679-53b2d99e69ed"
      },
      "execution_count": 13,
      "outputs": [
        {
          "output_type": "stream",
          "name": "stdout",
          "text": [
            "<function make_increment.<locals>.add_n at 0x7fce04156560>\n"
          ]
        }
      ]
    },
    {
      "cell_type": "code",
      "source": [
        "increase_by_2(10)"
      ],
      "metadata": {
        "colab": {
          "base_uri": "https://localhost:8080/"
        },
        "id": "4Jfb1JuDLv2f",
        "outputId": "7fdc9165-ac77-464b-d072-f80adb99c7fa"
      },
      "execution_count": 14,
      "outputs": [
        {
          "output_type": "execute_result",
          "data": {
            "text/plain": [
              "12"
            ]
          },
          "metadata": {},
          "execution_count": 14
        }
      ]
    },
    {
      "cell_type": "code",
      "source": [
        "increase_by_10 = make_increment(10)\n",
        "print(increase_by_10)"
      ],
      "metadata": {
        "colab": {
          "base_uri": "https://localhost:8080/"
        },
        "id": "8ESbveCbL5mU",
        "outputId": "9ba9fbdd-68f4-40d9-8aae-c777611532ad"
      },
      "execution_count": 15,
      "outputs": [
        {
          "output_type": "stream",
          "name": "stdout",
          "text": [
            "<function make_increment.<locals>.add_n at 0x7fce04156b00>\n"
          ]
        }
      ]
    },
    {
      "cell_type": "code",
      "source": [
        "increase_by_10(10)"
      ],
      "metadata": {
        "colab": {
          "base_uri": "https://localhost:8080/"
        },
        "id": "YcXZLIr3MNOx",
        "outputId": "1e966a11-a04b-477d-edcc-17b887d8fd26"
      },
      "execution_count": 16,
      "outputs": [
        {
          "output_type": "execute_result",
          "data": {
            "text/plain": [
              "20"
            ]
          },
          "metadata": {},
          "execution_count": 16
        }
      ]
    },
    {
      "cell_type": "markdown",
      "source": [
        "# 람다 표현식(Lambda expression)"
      ],
      "metadata": {
        "id": "hmCwdSeyRyKX"
      }
    },
    {
      "cell_type": "markdown",
      "source": [
        "```\n",
        "lambda param1, param2, ...: expression(리턴 값)\n",
        "```\n",
        "\n",
        "* 이름이 없는 함수(anonymous function)\n",
        "* 함수 이름 없이, 함수의 파라미터 선언과 반환 값 또는 반환 식으로 함수를 정의하는 방법."
      ],
      "metadata": {
        "id": "VI7tGnZ-R57S"
      }
    },
    {
      "cell_type": "code",
      "source": [
        "plus_one = lambda x: x + 1  # x를 argument로 전달받아서 x+1을 리턴하는 함수"
      ],
      "metadata": {
        "id": "Gv0_C05bMlww"
      },
      "execution_count": 17,
      "outputs": []
    },
    {
      "cell_type": "code",
      "source": [
        "plus_one(1)  # 함수 호출"
      ],
      "metadata": {
        "colab": {
          "base_uri": "https://localhost:8080/"
        },
        "id": "mFppxwy6SuOo",
        "outputId": "97e0e7d9-623d-4b88-ad93-8ae1f4d66376"
      },
      "execution_count": 18,
      "outputs": [
        {
          "output_type": "execute_result",
          "data": {
            "text/plain": [
              "2"
            ]
          },
          "metadata": {},
          "execution_count": 18
        }
      ]
    },
    {
      "cell_type": "code",
      "source": [
        "plus = lambda x, y: x + y # argument x, y를 전달받아서 x+y를 리턴하는 함수"
      ],
      "metadata": {
        "id": "xWGDbqavTCj0"
      },
      "execution_count": 19,
      "outputs": []
    },
    {
      "cell_type": "code",
      "source": [
        "plus(1, 2)"
      ],
      "metadata": {
        "colab": {
          "base_uri": "https://localhost:8080/"
        },
        "id": "ft6BKN6bUHhh",
        "outputId": "2203a7a3-7f4b-409e-e834-c008beab75d8"
      },
      "execution_count": 20,
      "outputs": [
        {
          "output_type": "execute_result",
          "data": {
            "text/plain": [
              "3"
            ]
          },
          "metadata": {},
          "execution_count": 20
        }
      ]
    },
    {
      "cell_type": "markdown",
      "source": [
        "lambda 표현식은 함수의 argument로 전달하기 위해서 사용."
      ],
      "metadata": {
        "id": "BJWMNl7WUmSF"
      }
    },
    {
      "cell_type": "code",
      "source": [
        "calculator(1, 2, lambda x, y: x - y)"
      ],
      "metadata": {
        "colab": {
          "base_uri": "https://localhost:8080/"
        },
        "id": "W46hcH0fUJnz",
        "outputId": "b7abaf56-59ac-4183-8c5c-623880d41d5b"
      },
      "execution_count": 21,
      "outputs": [
        {
          "output_type": "execute_result",
          "data": {
            "text/plain": [
              "-1"
            ]
          },
          "metadata": {},
          "execution_count": 21
        }
      ]
    },
    {
      "cell_type": "code",
      "source": [
        "calculator(2, 3, lambda x, y: x * y)"
      ],
      "metadata": {
        "colab": {
          "base_uri": "https://localhost:8080/"
        },
        "id": "h4OeVevcUzOq",
        "outputId": "ac3082aa-4cf9-4081-f434-b03b43fd716d"
      },
      "execution_count": 22,
      "outputs": [
        {
          "output_type": "execute_result",
          "data": {
            "text/plain": [
              "6"
            ]
          },
          "metadata": {},
          "execution_count": 22
        }
      ]
    },
    {
      "cell_type": "code",
      "source": [
        "# calculator 함수에 x가 y보다 큰지(True) 아닌지(False)를 리턴하는 lambda를 전달.\n",
        "calculator(1, 2, lambda x, y: x > y)"
      ],
      "metadata": {
        "colab": {
          "base_uri": "https://localhost:8080/"
        },
        "id": "4B1NqN3vVCZl",
        "outputId": "199daef4-450c-4ff3-8835-916d4eb67c6c"
      },
      "execution_count": 23,
      "outputs": [
        {
          "output_type": "execute_result",
          "data": {
            "text/plain": [
              "False"
            ]
          },
          "metadata": {},
          "execution_count": 23
        }
      ]
    },
    {
      "cell_type": "code",
      "source": [
        "calculator(2, 1, lambda x, y: x > y)"
      ],
      "metadata": {
        "colab": {
          "base_uri": "https://localhost:8080/"
        },
        "id": "bW8Oq-zdVpXq",
        "outputId": "56e9d08f-f111-4c96-8174-5561bcf33b5d"
      },
      "execution_count": 24,
      "outputs": [
        {
          "output_type": "execute_result",
          "data": {
            "text/plain": [
              "True"
            ]
          },
          "metadata": {},
          "execution_count": 24
        }
      ]
    },
    {
      "cell_type": "code",
      "source": [
        "# calculator 함수에 x, y 중에서 더 큰 수를 리턴하는 lambda를 전달.\n",
        "calculator(1, 2, lambda x, y: max(x, y))"
      ],
      "metadata": {
        "colab": {
          "base_uri": "https://localhost:8080/"
        },
        "id": "AmrizV61WBJ8",
        "outputId": "0c8ea693-e9ca-4318-e0e9-19dd58b62d00"
      },
      "execution_count": 25,
      "outputs": [
        {
          "output_type": "execute_result",
          "data": {
            "text/plain": [
              "2"
            ]
          },
          "metadata": {},
          "execution_count": 25
        }
      ]
    },
    {
      "cell_type": "code",
      "source": [
        "# if-else 표현식: 값1 if 조건 else 값2\n",
        "calculator(1, 2, lambda x, y: x if x > y else y)"
      ],
      "metadata": {
        "id": "Dh-irz1OWdUK",
        "colab": {
          "base_uri": "https://localhost:8080/"
        },
        "outputId": "71a91947-87f8-4068-a9b6-2198020b2e6b"
      },
      "execution_count": 26,
      "outputs": [
        {
          "output_type": "execute_result",
          "data": {
            "text/plain": [
              "2"
            ]
          },
          "metadata": {},
          "execution_count": 26
        }
      ]
    },
    {
      "cell_type": "markdown",
      "source": [
        "## lambda 표현식 응용\n",
        "\n",
        "* filtering\n",
        "    * 성별 컬럼에서 값이 'Male' 또는 'Female'인 데이터들만 선택.\n",
        "* mapping\n",
        "    * 성별 컬럼의 값이 'Male'이면 1, 'Female'이면 0으로 매핑."
      ],
      "metadata": {
        "id": "fW0nTBb4X3aw"
      }
    },
    {
      "cell_type": "code",
      "source": [
        "numbers = [1, -2, 3, -4, -5, 6, 7, 8]"
      ],
      "metadata": {
        "id": "qCghVQvgZOxE"
      },
      "execution_count": 27,
      "outputs": []
    },
    {
      "cell_type": "code",
      "source": [
        "# numbers의 원소들 중에서 양수들만 선택한 리스트.\n",
        "# filter(True/False를 리턴하는 함수, 리스트)\n",
        "result = filter(lambda x: x > 0, numbers)\n",
        "result  # 필터링이 끝난 객체"
      ],
      "metadata": {
        "colab": {
          "base_uri": "https://localhost:8080/"
        },
        "id": "WEhRd2zAeyq9",
        "outputId": "a6adff28-1329-4753-e2f0-40449f112832"
      },
      "execution_count": 28,
      "outputs": [
        {
          "output_type": "execute_result",
          "data": {
            "text/plain": [
              "<filter at 0x7fce04177710>"
            ]
          },
          "metadata": {},
          "execution_count": 28
        }
      ]
    },
    {
      "cell_type": "code",
      "source": [
        "list(result)  # 필터링이 끝난 객체를 list 타입으로 변환"
      ],
      "metadata": {
        "colab": {
          "base_uri": "https://localhost:8080/"
        },
        "id": "DakAXkUse_1V",
        "outputId": "3fdef739-a9db-4f79-f48f-8ccc35793c5a"
      },
      "execution_count": 29,
      "outputs": [
        {
          "output_type": "execute_result",
          "data": {
            "text/plain": [
              "[1, 3, 6, 7, 8]"
            ]
          },
          "metadata": {},
          "execution_count": 29
        }
      ]
    },
    {
      "cell_type": "code",
      "source": [
        "# numbers에서 음수들만 선택한 리스트.\n",
        "result = filter(lambda x: x < 0, numbers)\n",
        "list(result)  # 필터링이 끝난 객체를 list 타입으로 변환"
      ],
      "metadata": {
        "colab": {
          "base_uri": "https://localhost:8080/"
        },
        "id": "JtBQbxIHfupp",
        "outputId": "e44d8e62-e044-4fb1-f227-f868e5d5be1d"
      },
      "execution_count": 30,
      "outputs": [
        {
          "output_type": "execute_result",
          "data": {
            "text/plain": [
              "[-2, -4, -5]"
            ]
          },
          "metadata": {},
          "execution_count": 30
        }
      ]
    },
    {
      "cell_type": "code",
      "source": [
        "# numbers에서 홀수들만 필터링.\n",
        "result = filter(lambda x: x % 2 == 1, numbers)\n",
        "list(result)"
      ],
      "metadata": {
        "colab": {
          "base_uri": "https://localhost:8080/"
        },
        "id": "If1QmH3Ag8Ik",
        "outputId": "810d3845-0e7d-49e0-f5c2-ab9d5cab2f7f"
      },
      "execution_count": 31,
      "outputs": [
        {
          "output_type": "execute_result",
          "data": {
            "text/plain": [
              "[1, 3, -5, 7]"
            ]
          },
          "metadata": {},
          "execution_count": 31
        }
      ]
    },
    {
      "cell_type": "code",
      "source": [
        "# numbers에서 짝수는 'even', 홀수는 'odd'로 매핑.\n",
        "result = map(lambda x: 'even' if x % 2 == 0 else 'odd', numbers)\n",
        "print(result)  # 매핑이 끝난 객체\n",
        "list(result)  # 매핑이 끝난 객체를 list 타입으로 변환"
      ],
      "metadata": {
        "colab": {
          "base_uri": "https://localhost:8080/"
        },
        "id": "8PTJ_3LghqLt",
        "outputId": "cf6e6d48-a45f-4b21-f873-8506a9fa3a06"
      },
      "execution_count": 32,
      "outputs": [
        {
          "output_type": "stream",
          "name": "stdout",
          "text": [
            "<map object at 0x7fce0416b9d0>\n"
          ]
        },
        {
          "output_type": "execute_result",
          "data": {
            "text/plain": [
              "['odd', 'even', 'odd', 'even', 'odd', 'even', 'odd', 'even']"
            ]
          },
          "metadata": {},
          "execution_count": 32
        }
      ]
    },
    {
      "cell_type": "code",
      "source": [
        "genders = ['Male', 'Female', 'Female', 'Male']"
      ],
      "metadata": {
        "id": "7Al0ukSji_xA"
      },
      "execution_count": 33,
      "outputs": []
    },
    {
      "cell_type": "code",
      "source": [
        "# genders에서 'Female'만 선택(filter)\n",
        "result = filter(lambda x: x == 'Female', genders)\n",
        "list(result)"
      ],
      "metadata": {
        "colab": {
          "base_uri": "https://localhost:8080/"
        },
        "id": "-bsJinlxjuQK",
        "outputId": "85608f78-11da-4b29-803c-8e7b6fb21ef7"
      },
      "execution_count": 34,
      "outputs": [
        {
          "output_type": "execute_result",
          "data": {
            "text/plain": [
              "['Female', 'Female']"
            ]
          },
          "metadata": {},
          "execution_count": 34
        }
      ]
    },
    {
      "cell_type": "code",
      "source": [
        "# genders의 원소가 'Male'이면 1, 'Female'이면 0을 매핑\n",
        "result = map(lambda x: 1 if x == 'Male' else 0, genders)\n",
        "list(result)"
      ],
      "metadata": {
        "colab": {
          "base_uri": "https://localhost:8080/"
        },
        "id": "5Y8fHr_Gjzsn",
        "outputId": "c0e0302b-0e5a-4d9e-91f6-df70499cdc89"
      },
      "execution_count": 35,
      "outputs": [
        {
          "output_type": "execute_result",
          "data": {
            "text/plain": [
              "[1, 0, 0, 1]"
            ]
          },
          "metadata": {},
          "execution_count": 35
        }
      ]
    },
    {
      "cell_type": "markdown",
      "source": [
        "filter 함수를 직접 구현"
      ],
      "metadata": {
        "id": "YjasnO_Il0-4"
      }
    },
    {
      "cell_type": "code",
      "source": [
        "def my_filter(iterable, fn):\n",
        "    \"\"\"리스트 iterable의 원소를 함수 fn의 argument로 전달했을 때, \n",
        "    fn이 True를 리턴하는 원소들로 이루어진 리스트를 리턴.\n",
        "    \n",
        "    iterable: 리스트.\n",
        "    fn: argument가 1개이고 리턴 타입은 bool인 함수.\n",
        "    \"\"\"\n",
        "    # result = []  # 조건을 만족하는 원소들(필터링한 원소들)을 저장할 빈 리스트\n",
        "    # for x in iterable:  # 리스트의 원소들을 차례로 반복하면서\n",
        "    #     if fn(x):  # 조건을 만족하면\n",
        "    #         result.append(x)  # 결과 리스트에 추가\n",
        "    # return result\n",
        "\n",
        "    return [x for x in iterable if fn(x)]"
      ],
      "metadata": {
        "id": "NW6R5XmRkYiv"
      },
      "execution_count": 36,
      "outputs": []
    },
    {
      "cell_type": "code",
      "source": [
        "numbers"
      ],
      "metadata": {
        "colab": {
          "base_uri": "https://localhost:8080/"
        },
        "id": "2oTSF8CnnjCe",
        "outputId": "b3b4ad03-d655-4d64-f338-ae4f00e82b77"
      },
      "execution_count": 37,
      "outputs": [
        {
          "output_type": "execute_result",
          "data": {
            "text/plain": [
              "[1, -2, 3, -4, -5, 6, 7, 8]"
            ]
          },
          "metadata": {},
          "execution_count": 37
        }
      ]
    },
    {
      "cell_type": "code",
      "source": [
        "# numbers에서 양수들만 필터링.\n",
        "my_filter(numbers, lambda x: x > 0)"
      ],
      "metadata": {
        "colab": {
          "base_uri": "https://localhost:8080/"
        },
        "id": "o9CntjfRnV-S",
        "outputId": "0ac9fd35-c726-432f-8dfb-85d5723c3d24"
      },
      "execution_count": 38,
      "outputs": [
        {
          "output_type": "execute_result",
          "data": {
            "text/plain": [
              "[1, 3, 6, 7, 8]"
            ]
          },
          "metadata": {},
          "execution_count": 38
        }
      ]
    },
    {
      "cell_type": "code",
      "source": [
        "languages = ['Java', 'HTML', 'CSS', 'JavaScript', 'Python']\n",
        "\n",
        "# my_filter 함수를 사용해서 글자수가 5글자 이상인 원소들만 필터링\n",
        "my_filter(languages, lambda x: len(x) >= 5)"
      ],
      "metadata": {
        "colab": {
          "base_uri": "https://localhost:8080/"
        },
        "id": "iKs8paKunmHr",
        "outputId": "cde94da5-d007-4377-e98c-159ab5050dd6"
      },
      "execution_count": 39,
      "outputs": [
        {
          "output_type": "execute_result",
          "data": {
            "text/plain": [
              "['JavaScript', 'Python']"
            ]
          },
          "metadata": {},
          "execution_count": 39
        }
      ]
    },
    {
      "cell_type": "code",
      "source": [
        "def my_mapper(iterable, fn):\n",
        "    \"\"\"iterable의 원소를 차례로 함수 fn의 argument로 전달해서, 함수 fn의 리턴값들로 이루어진 리스트를 리턴.\n",
        "\n",
        "    iterable: 리스트.\n",
        "    fn: argument가 1개이고 값을 반환하는 함수.\n",
        "    \"\"\"\n",
        "    # result = []  # 함수 fn의 리턴값들을 저장할 빈 리스트\n",
        "    # for x in iterable:  # 리스트의 원소들을 반복하면서\n",
        "    #     result.append(fn(x))  # 함수에 원소를 argument로 전달했을 때 리턴값을 리스트 result에 추가.\n",
        "    # return result     \n",
        "\n",
        "    return [fn(x) for x in iterable]"
      ],
      "metadata": {
        "id": "dUfDzs78qDdO"
      },
      "execution_count": 44,
      "outputs": []
    },
    {
      "cell_type": "code",
      "source": [
        "numbers"
      ],
      "metadata": {
        "colab": {
          "base_uri": "https://localhost:8080/"
        },
        "id": "ps7qenUmWIGa",
        "outputId": "993ed0a8-b392-4ee4-eca2-ea42c09efb54"
      },
      "execution_count": 45,
      "outputs": [
        {
          "output_type": "execute_result",
          "data": {
            "text/plain": [
              "[1, -2, 3, -4, -5, 6, 7, 8]"
            ]
          },
          "metadata": {},
          "execution_count": 45
        }
      ]
    },
    {
      "cell_type": "code",
      "source": [
        "# numbers의 원소가 짝수이면 '짝수', 홀수이면 '홀수'를 매핑한 리스트\n",
        "my_mapper(numbers, lambda x: '짝수' if x % 2 == 0 else '홀수')"
      ],
      "metadata": {
        "colab": {
          "base_uri": "https://localhost:8080/"
        },
        "id": "vHEbFcz2truG",
        "outputId": "ec472801-f4a1-4b4b-be39-779eb16348d2"
      },
      "execution_count": 46,
      "outputs": [
        {
          "output_type": "execute_result",
          "data": {
            "text/plain": [
              "['홀수', '짝수', '홀수', '짝수', '홀수', '짝수', '홀수', '짝수']"
            ]
          },
          "metadata": {},
          "execution_count": 46
        }
      ]
    },
    {
      "cell_type": "code",
      "source": [
        "genders = ['남성', '여성', '여성', '남성']\n",
        "# genders의 값이 '남성'이면 0, '여성'이면 1로 매핑시킨 리스트\n",
        "my_mapper(genders, lambda x: 0 if x == '남성' else 1)"
      ],
      "metadata": {
        "colab": {
          "base_uri": "https://localhost:8080/"
        },
        "id": "cG6tmnjDXK4u",
        "outputId": "b3b33a9c-d434-4828-cd5c-73d0e7ee34f4"
      },
      "execution_count": 47,
      "outputs": [
        {
          "output_type": "execute_result",
          "data": {
            "text/plain": [
              "[0, 1, 1, 0]"
            ]
          },
          "metadata": {},
          "execution_count": 47
        }
      ]
    },
    {
      "cell_type": "code",
      "source": [
        "def my_mapper2(iterable, fn):\n",
        "    \"\"\"iterable의 원소를 key로 하고, \n",
        "    iterable의 원소를 함수 fn의 argument로 사용했을 때의 리턴 값을 value로 하는 dict를 리턴.\n",
        "\n",
        "    iterable: 리스트.\n",
        "    fn: argument가 1개이고 값을 반환하는 함수.\n",
        "    \"\"\"\n",
        "    # result = {}  # 빈 사전(dictionary)\n",
        "    # for x in iterable:  # 리스트 iterable의 원소들을 하나씩 반복하면서\n",
        "    #     result[x] = fn(x)  # 원소를 key로 함수의 리턴값을 value로 해서 dict에 추가.\n",
        "    # return result    \n",
        "\n",
        "    return {x: fn(x) for x in iterable}"
      ],
      "metadata": {
        "id": "Oo39DqJ2tiKB"
      },
      "execution_count": 48,
      "outputs": []
    },
    {
      "cell_type": "code",
      "source": [
        "# numbers의 값을 키로 하고 짝수/홀수인지를 value로 하는 dict\n",
        "my_mapper2(numbers, lambda x: '짝수' if x % 2 == 0 else '홀수')"
      ],
      "metadata": {
        "colab": {
          "base_uri": "https://localhost:8080/"
        },
        "id": "SpsD2mkttsJb",
        "outputId": "d7a29007-2297-4a63-b401-77a2ec7c353a"
      },
      "execution_count": 49,
      "outputs": [
        {
          "output_type": "execute_result",
          "data": {
            "text/plain": [
              "{-5: '홀수', -4: '짝수', -2: '짝수', 1: '홀수', 3: '홀수', 6: '짝수', 7: '홀수', 8: '짝수'}"
            ]
          },
          "metadata": {},
          "execution_count": 49
        }
      ]
    },
    {
      "cell_type": "code",
      "source": [
        "# languages의 원소를 키로 하고, 그 원소(문자열)의 길이를 value로 하는 dict\n",
        "my_mapper2(languages, lambda x: len(x))"
      ],
      "metadata": {
        "colab": {
          "base_uri": "https://localhost:8080/"
        },
        "id": "rc6IKsyNaWPP",
        "outputId": "e81899e1-4fee-49e3-b013-1aaaab404a55"
      },
      "execution_count": 52,
      "outputs": [
        {
          "output_type": "execute_result",
          "data": {
            "text/plain": [
              "{'CSS': 3, 'HTML': 4, 'Java': 4, 'JavaScript': 10, 'Python': 6}"
            ]
          },
          "metadata": {},
          "execution_count": 52
        }
      ]
    }
  ]
}