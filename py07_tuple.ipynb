{
  "nbformat": 4,
  "nbformat_minor": 0,
  "metadata": {
    "colab": {
      "name": "py07_tuple.ipynb",
      "provenance": [],
      "collapsed_sections": [],
      "authorship_tag": "ABX9TyPrW9e6fEufEQ0h8rzllmuE",
      "include_colab_link": true
    },
    "kernelspec": {
      "name": "python3",
      "display_name": "Python 3"
    },
    "language_info": {
      "name": "python"
    }
  },
  "cells": [
    {
      "cell_type": "markdown",
      "metadata": {
        "id": "view-in-github",
        "colab_type": "text"
      },
      "source": [
        "<a href=\"https://colab.research.google.com/github/YUEUN328/202110_itw_lab_python/blob/main/py07_tuple.ipynb\" target=\"_parent\"><img src=\"https://colab.research.google.com/assets/colab-badge.svg\" alt=\"Open In Colab\"/></a>"
      ]
    },
    {
      "cell_type": "markdown",
      "source": [
        "# 튜플(Tuple)"
      ],
      "metadata": {
        "id": "vlt533aOQdd-"
      }
    },
    {
      "cell_type": "markdown",
      "source": [
        "* tuple: 저장된 원소(아이템)들을 변경할 수 없는 리스트.\n",
        "* 인덱스 기반의 데이터 타입. 인덱스를 사용해서 원소를 참조함. --> indexing, slicing\n",
        "* append(), insert(), extend(), remove(), pop()와 같은 기능(메서드)들은\n",
        "제공되지 않음."
      ],
      "metadata": {
        "id": "OOYAFjLNQi6h"
      }
    },
    {
      "cell_type": "code",
      "execution_count": null,
      "metadata": {
        "colab": {
          "base_uri": "https://localhost:8080/"
        },
        "id": "8JP013lnQNon",
        "outputId": "ad72800f-d9e1-4ac8-a471-fe07e66ba12c"
      },
      "outputs": [
        {
          "output_type": "execute_result",
          "data": {
            "text/plain": [
              "(1, 2, 10, 20, 100)"
            ]
          },
          "metadata": {},
          "execution_count": 1
        }
      ],
      "source": [
        "numbers = (1, 2, 10, 20, 100)\n",
        "numbers"
      ]
    },
    {
      "cell_type": "code",
      "source": [
        "type(numbers)"
      ],
      "metadata": {
        "colab": {
          "base_uri": "https://localhost:8080/"
        },
        "id": "u46fkTtjRVRp",
        "outputId": "8fecfee9-48d3-4b86-ba75-81baf739d9b2"
      },
      "execution_count": null,
      "outputs": [
        {
          "output_type": "execute_result",
          "data": {
            "text/plain": [
              "tuple"
            ]
          },
          "metadata": {},
          "execution_count": 2
        }
      ]
    },
    {
      "cell_type": "markdown",
      "source": [
        "# indexing"
      ],
      "metadata": {
        "id": "cKWfokJ2RtXO"
      }
    },
    {
      "cell_type": "code",
      "source": [
        "numbers[0]  # 시작 인덱스: 0"
      ],
      "metadata": {
        "colab": {
          "base_uri": "https://localhost:8080/"
        },
        "id": "I37EIoO4Ri9c",
        "outputId": "ef4b18da-6df9-4e77-8f90-79cb5fd79506"
      },
      "execution_count": null,
      "outputs": [
        {
          "output_type": "execute_result",
          "data": {
            "text/plain": [
              "1"
            ]
          },
          "metadata": {},
          "execution_count": 3
        }
      ]
    },
    {
      "cell_type": "code",
      "source": [
        "numbers[4]  # 마지막 인덱스: 원소 개수 -1"
      ],
      "metadata": {
        "colab": {
          "base_uri": "https://localhost:8080/"
        },
        "id": "8l54FlQLR17K",
        "outputId": "6e9209b9-5404-45a4-9f73-90d2805dbfd0"
      },
      "execution_count": null,
      "outputs": [
        {
          "output_type": "execute_result",
          "data": {
            "text/plain": [
              "100"
            ]
          },
          "metadata": {},
          "execution_count": 4
        }
      ]
    },
    {
      "cell_type": "code",
      "source": [
        "numbers[-1]  # 튜플의 가장 마지막 원소"
      ],
      "metadata": {
        "colab": {
          "base_uri": "https://localhost:8080/"
        },
        "id": "j4BMG1JpR4kx",
        "outputId": "8b488d47-c032-44e7-e49e-95e4a2528c0d"
      },
      "execution_count": null,
      "outputs": [
        {
          "output_type": "execute_result",
          "data": {
            "text/plain": [
              "100"
            ]
          },
          "metadata": {},
          "execution_count": 5
        }
      ]
    },
    {
      "cell_type": "markdown",
      "source": [
        "# slicing"
      ],
      "metadata": {
        "id": "fTzphJVkSt09"
      }
    },
    {
      "cell_type": "code",
      "source": [
        "numbers[1:4]  #> tuple "
      ],
      "metadata": {
        "colab": {
          "base_uri": "https://localhost:8080/"
        },
        "id": "x2FipbRJSJ1d",
        "outputId": "55c21332-6e91-4076-ff78-5d56306d123f"
      },
      "execution_count": null,
      "outputs": [
        {
          "output_type": "execute_result",
          "data": {
            "text/plain": [
              "(2, 10, 20)"
            ]
          },
          "metadata": {},
          "execution_count": 6
        }
      ]
    },
    {
      "cell_type": "code",
      "source": [
        "numbers[:3]  #> tuple에서 앞에서 3개 원소 선택"
      ],
      "metadata": {
        "colab": {
          "base_uri": "https://localhost:8080/"
        },
        "id": "2Zst59moTBg4",
        "outputId": "31469bc3-074e-4b93-e086-7b443439b8fc"
      },
      "execution_count": null,
      "outputs": [
        {
          "output_type": "execute_result",
          "data": {
            "text/plain": [
              "(1, 2, 10)"
            ]
          },
          "metadata": {},
          "execution_count": 7
        }
      ]
    },
    {
      "cell_type": "code",
      "source": [
        "numbers[-3:]  #> tuple에서 끝에서 3개 원소 선택"
      ],
      "metadata": {
        "colab": {
          "base_uri": "https://localhost:8080/"
        },
        "id": "Jbn90_mtTdj1",
        "outputId": "cbf629d0-3ed5-4851-c63d-5a89165873a7"
      },
      "execution_count": null,
      "outputs": [
        {
          "output_type": "execute_result",
          "data": {
            "text/plain": [
              "(10, 20, 100)"
            ]
          },
          "metadata": {},
          "execution_count": 8
        }
      ]
    },
    {
      "cell_type": "markdown",
      "source": [
        "# decomposition(분해)"
      ],
      "metadata": {
        "id": "5VtwfuXJUAGm"
      }
    },
    {
      "cell_type": "code",
      "source": [
        "first, second = (100, 50)\n",
        "print(first)\n",
        "print(second)"
      ],
      "metadata": {
        "colab": {
          "base_uri": "https://localhost:8080/"
        },
        "id": "9pEl5NB8TswT",
        "outputId": "93fdfbd5-b57e-4948-b534-c22fc38833cd"
      },
      "execution_count": null,
      "outputs": [
        {
          "output_type": "stream",
          "name": "stdout",
          "text": [
            "100\n",
            "50\n"
          ]
        }
      ]
    },
    {
      "cell_type": "code",
      "source": [
        "# tuple뿐만 아니라 list도 decomposition이 가능.\n",
        "x, y, z = [1, 2, 3]\n",
        "print(f'x = {x}, y = {y}, z = {z}')"
      ],
      "metadata": {
        "colab": {
          "base_uri": "https://localhost:8080/"
        },
        "id": "hhcBClQVUel8",
        "outputId": "736459ec-88e8-47b6-fb38-7c99df9c375a"
      },
      "execution_count": null,
      "outputs": [
        {
          "output_type": "stream",
          "name": "stdout",
          "text": [
            "x = 1, y = 2, z = 3\n"
          ]
        }
      ]
    },
    {
      "cell_type": "markdown",
      "source": [
        "# tuple과 for 반복문"
      ],
      "metadata": {
        "id": "_ccz5kOyVCr5"
      }
    },
    {
      "cell_type": "code",
      "source": [
        "numbers = (1, 20, 3, 40, 500, 1000)\n",
        "for x in numbers:\n",
        "    print(x, end=', ')"
      ],
      "metadata": {
        "colab": {
          "base_uri": "https://localhost:8080/"
        },
        "id": "4ySdBNVNU-8Y",
        "outputId": "f051f8e5-4cb3-4ec5-f590-3e8f8929d5b5"
      },
      "execution_count": null,
      "outputs": [
        {
          "output_type": "stream",
          "name": "stdout",
          "text": [
            "1, 20, 3, 40, 500, 1000, "
          ]
        }
      ]
    },
    {
      "cell_type": "code",
      "source": [
        "numbers = ((1, 2), \n",
        "           (3, 4), \n",
        "           (5, 6))\n",
        "numbers"
      ],
      "metadata": {
        "colab": {
          "base_uri": "https://localhost:8080/"
        },
        "id": "hwKjLpm9VQud",
        "outputId": "a7104c88-2560-4366-a606-5058da0b56ea"
      },
      "execution_count": null,
      "outputs": [
        {
          "output_type": "execute_result",
          "data": {
            "text/plain": [
              "((1, 2), (3, 4), (5, 6))"
            ]
          },
          "metadata": {},
          "execution_count": 13
        }
      ]
    },
    {
      "cell_type": "code",
      "source": [
        "for row in numbers:\n",
        "    for x in row:\n",
        "        print(x, end=' ')\n",
        "    print()    "
      ],
      "metadata": {
        "colab": {
          "base_uri": "https://localhost:8080/"
        },
        "id": "fJPi3mGSVq_Y",
        "outputId": "92a3e0f0-3f72-4d2d-8161-832e789f4ead"
      },
      "execution_count": null,
      "outputs": [
        {
          "output_type": "stream",
          "name": "stdout",
          "text": [
            "1 2 \n",
            "3 4 \n",
            "5 6 \n"
          ]
        }
      ]
    },
    {
      "cell_type": "code",
      "source": [
        "numbers[2][1]"
      ],
      "metadata": {
        "colab": {
          "base_uri": "https://localhost:8080/"
        },
        "id": "zCJviAdfWEp7",
        "outputId": "1df1b795-bc2f-48d2-e452-f16c0d09950a"
      },
      "execution_count": null,
      "outputs": [
        {
          "output_type": "execute_result",
          "data": {
            "text/plain": [
              "6"
            ]
          },
          "metadata": {},
          "execution_count": 16
        }
      ]
    }
  ]
}