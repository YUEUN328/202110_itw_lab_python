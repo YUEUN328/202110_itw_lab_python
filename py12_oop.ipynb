{
  "nbformat": 4,
  "nbformat_minor": 0,
  "metadata": {
    "colab": {
      "name": "py12_oop.ipynb",
      "provenance": [],
      "collapsed_sections": [],
      "authorship_tag": "ABX9TyMLTCDjPZFPtiLc4zRna4Me",
      "include_colab_link": true
    },
    "kernelspec": {
      "name": "python3",
      "display_name": "Python 3"
    },
    "language_info": {
      "name": "python"
    }
  },
  "cells": [
    {
      "cell_type": "markdown",
      "metadata": {
        "id": "view-in-github",
        "colab_type": "text"
      },
      "source": [
        "<a href=\"https://colab.research.google.com/github/YUEUN328/202110_itw_lab_python/blob/main/py12_oop.ipynb\" target=\"_parent\"><img src=\"https://colab.research.google.com/assets/colab-badge.svg\" alt=\"Open In Colab\"/></a>"
      ]
    },
    {
      "cell_type": "markdown",
      "source": [
        "# OOP(Object-Oriented Programming, 객체 지향 프로그래밍)의 배경"
      ],
      "metadata": {
        "id": "zMsXm_GNgDe2"
      }
    },
    {
      "cell_type": "markdown",
      "source": [
        "## list, dict 사용"
      ],
      "metadata": {
        "id": "A3__I-OagIuA"
      }
    },
    {
      "cell_type": "code",
      "source": [
        "students = [\n",
        "            {'name': 'aa', 'korean': 90, 'english': 95, 'math': 80},\n",
        "            {'name': 'bb', 'korean': 70, 'english': 80, 'math': 55},\n",
        "            {'name': 'cc', 'korean': 80, 'english': 95, 'math': 90},\n",
        "            {'name': 'dd', 'korean': 77, 'english': 99, 'math': 88}, \n",
        "]"
      ],
      "metadata": {
        "id": "ZI5VKYwpgNe3"
      },
      "execution_count": 3,
      "outputs": []
    },
    {
      "cell_type": "code",
      "source": [
        "# 각 학생의 3과목 총점과 평균\n",
        "for s in students: \n",
        "    total = s['korean'] + s['english'] + s['math']\n",
        "    mean = total / 3\n",
        "    print(f'이름: {s[\"name\"]}, 총점: {total}, 평균: {mean}')   "
      ],
      "metadata": {
        "colab": {
          "base_uri": "https://localhost:8080/"
        },
        "id": "wchpOFA1hBfh",
        "outputId": "39bd63ef-d55b-475f-f1fc-f30196167139"
      },
      "execution_count": 4,
      "outputs": [
        {
          "output_type": "stream",
          "name": "stdout",
          "text": [
            "이름: aa, 총점: 265, 평균: 88.33333333333333\n",
            "이름: bb, 총점: 205, 평균: 68.33333333333333\n",
            "이름: cc, 총점: 265, 평균: 88.33333333333333\n",
            "이름: dd, 총점: 264, 평균: 88.0\n"
          ]
        }
      ]
    },
    {
      "cell_type": "markdown",
      "source": [
        "## 함수형 프로그래밍(Functional Programming)"
      ],
      "metadata": {
        "id": "9vDMdy8Ij_zJ"
      }
    },
    {
      "cell_type": "code",
      "source": [
        "def create_student(name, korean, english, math):\n",
        "    student = {\n",
        "        'name': name, \n",
        "        'korean': korean, \n",
        "        'english': english, \n",
        "        'math': math, \n",
        "    }\n",
        "    return student"
      ],
      "metadata": {
        "id": "XkH0BYKQiCKS"
      },
      "execution_count": 7,
      "outputs": []
    },
    {
      "cell_type": "code",
      "source": [
        "students = [\n",
        "            create_student(name='aa', korean=100, english=100, math=100),\n",
        "            create_student(name='bb', korean=90, english=100, math=100),\n",
        "            create_student(name='cc', korean=80, english=100, math=100),\n",
        "            create_student(name='dd', korean=77, english=100, math=100),\n",
        "]"
      ],
      "metadata": {
        "id": "owo9nTyykn1Z"
      },
      "execution_count": 8,
      "outputs": []
    },
    {
      "cell_type": "code",
      "source": [
        "def get_total(student):\n",
        "    return student['korean'] + student['english'] + student['math']"
      ],
      "metadata": {
        "id": "gR9Ejj0IlXkH"
      },
      "execution_count": 10,
      "outputs": []
    },
    {
      "cell_type": "code",
      "source": [
        "def get_mean(student):\n",
        "    return get_total(student) / 3"
      ],
      "metadata": {
        "id": "7yHPL_zBlvyL"
      },
      "execution_count": 11,
      "outputs": []
    },
    {
      "cell_type": "code",
      "source": [
        "for s in students:\n",
        "    total = get_total(s)\n",
        "    mean = get_mean(s)\n",
        "    print(f'이름: {s[\"name\"]}, 총점: {total}, 평균: {mean}')"
      ],
      "metadata": {
        "colab": {
          "base_uri": "https://localhost:8080/"
        },
        "id": "etz6Nh-Kl6Aw",
        "outputId": "abdb1d8a-15c5-4a51-d3c6-f1f4da668270"
      },
      "execution_count": 12,
      "outputs": [
        {
          "output_type": "stream",
          "name": "stdout",
          "text": [
            "이름: aa, 총점: 300, 평균: 100.0\n",
            "이름: bb, 총점: 290, 평균: 96.66666666666667\n",
            "이름: cc, 총점: 280, 평균: 93.33333333333333\n",
            "이름: dd, 총점: 277, 평균: 92.33333333333333\n"
          ]
        }
      ]
    },
    {
      "cell_type": "markdown",
      "source": [
        "## 객체 지향 프로그래밍(OOP)\n",
        "\n",
        "* 객체(object): 소프트웨어로 구현할 대상.\n",
        "* 클래스(class): 객체를 구현하기 위한 소스 코드.\n",
        "    * 속성(attribute, property): 객체가 가져야 하는 데이터. 변수들에 저장되는 값.\n",
        "    * 메서드(method): 객체가 가져야 하는 기능. 클래스 내부에서 정의하는 함수.\n",
        "* 인스턴스(instance): 클래스를 사용해서 메모리에 생성된 객체.\n",
        "* 인스턴스 생성(intantiate): 클래스의 객체를 메모리에 생성하는 것.\n",
        "* 생성자(constructor): 인스턴스를 생성하기 위해서 호출하는 함수. 클래스 이름과 동일한 함수.    "
      ],
      "metadata": {
        "id": "LAQQVRcTnUSg"
      }
    },
    {
      "cell_type": "code",
      "source": [
        "# 클래스 정의\n",
        "class Student:\n",
        "    # 생성자 함수: 생성자가 호출됐을 때 자동으로 호출되는 함수. 속성들을 선언하고 초기화.\n",
        "    def __init__(self, name, korean, english, math):\n",
        "        self.name = name\n",
        "        self.korean = korean\n",
        "        self.english = english\n",
        "        self.math = math\n",
        "\n",
        "    # 메서드\n",
        "    def get_total(self):\n",
        "        return self.korean + self.english + self.math\n",
        "\n",
        "    def get_mean(self):\n",
        "        return self.get_total() / 3\n",
        "\n",
        "    def print_info(self):\n",
        "        print(f'이름: {self.name}, 총점: {self.get_total()}, 평균: {self.get_mean()}')            "
      ],
      "metadata": {
        "id": "lTJ57sEYmQCr"
      },
      "execution_count": 13,
      "outputs": []
    },
    {
      "cell_type": "code",
      "source": [
        "stu1 = Student(name='홍길동', korean=100, english=80, math=70)"
      ],
      "metadata": {
        "id": "HuFPVKjkvnju"
      },
      "execution_count": 14,
      "outputs": []
    },
    {
      "cell_type": "code",
      "source": [
        "stu1"
      ],
      "metadata": {
        "colab": {
          "base_uri": "https://localhost:8080/"
        },
        "id": "kx8zdzWNv_GZ",
        "outputId": "65e45b40-d643-47a2-cc72-ec64b21130d2"
      },
      "execution_count": 15,
      "outputs": [
        {
          "output_type": "execute_result",
          "data": {
            "text/plain": [
              "<__main__.Student at 0x7f3de77ca290>"
            ]
          },
          "metadata": {},
          "execution_count": 15
        }
      ]
    },
    {
      "cell_type": "code",
      "source": [
        "stu1.get_total()"
      ],
      "metadata": {
        "colab": {
          "base_uri": "https://localhost:8080/"
        },
        "id": "P1TTcCjZxvMI",
        "outputId": "463e545c-d5de-47ed-98d4-4987040da3cb"
      },
      "execution_count": 18,
      "outputs": [
        {
          "output_type": "execute_result",
          "data": {
            "text/plain": [
              "250"
            ]
          },
          "metadata": {},
          "execution_count": 18
        }
      ]
    },
    {
      "cell_type": "code",
      "source": [
        "stu1.get_mean()"
      ],
      "metadata": {
        "colab": {
          "base_uri": "https://localhost:8080/"
        },
        "id": "GmwvM2J9wAbA",
        "outputId": "5b7c4786-79bc-488f-fadc-6679c112c34a"
      },
      "execution_count": 16,
      "outputs": [
        {
          "output_type": "execute_result",
          "data": {
            "text/plain": [
              "83.33333333333333"
            ]
          },
          "metadata": {},
          "execution_count": 16
        }
      ]
    },
    {
      "cell_type": "code",
      "source": [
        "stu1.print_info()"
      ],
      "metadata": {
        "colab": {
          "base_uri": "https://localhost:8080/"
        },
        "id": "6nk_rhAvxkN9",
        "outputId": "7820cde5-9f92-42ae-86bf-9ce3f133718a"
      },
      "execution_count": 19,
      "outputs": [
        {
          "output_type": "stream",
          "name": "stdout",
          "text": [
            "이름: 홍길동, 총점: 250, 평균: 83.33333333333333\n"
          ]
        }
      ]
    },
    {
      "cell_type": "code",
      "source": [
        "dir(stu1)  # 객체가 가지고 있는 멤버들(속성과 메서드)의 리스트"
      ],
      "metadata": {
        "colab": {
          "base_uri": "https://localhost:8080/"
        },
        "id": "SijhZZ8Yxo5D",
        "outputId": "b1f592a2-936b-4633-9876-597a2c4f5ac7"
      },
      "execution_count": 21,
      "outputs": [
        {
          "output_type": "execute_result",
          "data": {
            "text/plain": [
              "['__class__',\n",
              " '__delattr__',\n",
              " '__dict__',\n",
              " '__dir__',\n",
              " '__doc__',\n",
              " '__eq__',\n",
              " '__format__',\n",
              " '__ge__',\n",
              " '__getattribute__',\n",
              " '__gt__',\n",
              " '__hash__',\n",
              " '__init__',\n",
              " '__init_subclass__',\n",
              " '__le__',\n",
              " '__lt__',\n",
              " '__module__',\n",
              " '__ne__',\n",
              " '__new__',\n",
              " '__reduce__',\n",
              " '__reduce_ex__',\n",
              " '__repr__',\n",
              " '__setattr__',\n",
              " '__sizeof__',\n",
              " '__str__',\n",
              " '__subclasshook__',\n",
              " '__weakref__',\n",
              " 'english',\n",
              " 'get_mean',\n",
              " 'get_total',\n",
              " 'korean',\n",
              " 'math',\n",
              " 'name',\n",
              " 'print_info']"
            ]
          },
          "metadata": {},
          "execution_count": 21
        }
      ]
    },
    {
      "cell_type": "markdown",
      "source": [
        "# class 작성 연습"
      ],
      "metadata": {
        "id": "CZPS20QDJvPI"
      }
    },
    {
      "cell_type": "code",
      "source": [
        "import math  # 수학 관련 함수들을 사용하기 위해서"
      ],
      "metadata": {
        "id": "RGcOJ9nnI5tS"
      },
      "execution_count": 22,
      "outputs": []
    },
    {
      "cell_type": "code",
      "source": [
        "class Point:\n",
        "    \"\"\"2차원 평면의 점의 좌표를 표현하는 클래스\"\"\"\n",
        "    def __init__(self, x=0, y=0):\n",
        "        self.x = x\n",
        "        self.y = y\n",
        "\n",
        "    def move(self, dx=0, dy=0):\n",
        "        \"\"\"점의 좌표를 원래 위치에 x축의 방향으로 dx만큼, y축의 방향으로 dy만큼 이동\"\"\"\n",
        "        self.x += dx\n",
        "        self.y += dy\n",
        "\n",
        "    def distance(self, other): \n",
        "        \"\"\"현재 점의 위치와 다른 점 other 사이의 거리를 리턴\"\"\"\n",
        "        return math.sqrt((self.x - other.x) ** 2 + (self.y - other.y) ** 2)    "
      ],
      "metadata": {
        "id": "MqvRahr5J5G4"
      },
      "execution_count": 26,
      "outputs": []
    },
    {
      "cell_type": "code",
      "source": [
        "pt1 = Point()  # 생성자 호출 -> Point 클래스의 인스턴스 생성"
      ],
      "metadata": {
        "id": "wr3HfDwXL3oz"
      },
      "execution_count": 27,
      "outputs": []
    },
    {
      "cell_type": "code",
      "source": [
        "print(pt1)"
      ],
      "metadata": {
        "colab": {
          "base_uri": "https://localhost:8080/"
        },
        "id": "qLZd5L2qMZG-",
        "outputId": "63f7d5cd-148f-46c6-aeab-6628c48192d2"
      },
      "execution_count": 28,
      "outputs": [
        {
          "output_type": "stream",
          "name": "stdout",
          "text": [
            "<__main__.Point object at 0x7f3de771ea90>\n"
          ]
        }
      ]
    },
    {
      "cell_type": "code",
      "source": [
        "# 객체(인스턴스)의 속성들(멤버 변수들)\n",
        "print(pt1.x)\n",
        "print(pt1.y)"
      ],
      "metadata": {
        "colab": {
          "base_uri": "https://localhost:8080/"
        },
        "id": "MqdgOG6JOFXM",
        "outputId": "b4ba474b-8caa-42a0-f49f-99e69f3c5edc"
      },
      "execution_count": 29,
      "outputs": [
        {
          "output_type": "stream",
          "name": "stdout",
          "text": [
            "0\n",
            "0\n"
          ]
        }
      ]
    },
    {
      "cell_type": "code",
      "source": [
        "pt2 = Point(x=3, y=4)\n",
        "print(pt2)\n",
        "print(pt2.x)\n",
        "print(pt2.y)"
      ],
      "metadata": {
        "colab": {
          "base_uri": "https://localhost:8080/"
        },
        "id": "JTPjeLJAOQPb",
        "outputId": "5b2bec34-9662-4d2f-ba74-c5dff8865f59"
      },
      "execution_count": 31,
      "outputs": [
        {
          "output_type": "stream",
          "name": "stdout",
          "text": [
            "<__main__.Point object at 0x7f3de781c190>\n",
            "3\n",
            "4\n"
          ]
        }
      ]
    },
    {
      "cell_type": "code",
      "source": [
        "pt3 = Point(1)\n",
        "print(pt3)\n",
        "print(pt3.x, pt3.y)"
      ],
      "metadata": {
        "colab": {
          "base_uri": "https://localhost:8080/"
        },
        "id": "ZnNFkmRNOykp",
        "outputId": "c8eb8219-114a-4e6b-8bbe-1afc7416293e"
      },
      "execution_count": 33,
      "outputs": [
        {
          "output_type": "stream",
          "name": "stdout",
          "text": [
            "<__main__.Point object at 0x7f3de7763a10>\n",
            "1 0\n"
          ]
        }
      ]
    },
    {
      "cell_type": "code",
      "source": [
        "pt4 = Point(y=1)\n",
        "print(pt4)\n",
        "print(pt4.x, pt4.y)"
      ],
      "metadata": {
        "colab": {
          "base_uri": "https://localhost:8080/"
        },
        "id": "mzahJ6DIPkFl",
        "outputId": "28d78656-c2c2-4c6e-f790-d71dbfca9e6d"
      },
      "execution_count": 35,
      "outputs": [
        {
          "output_type": "stream",
          "name": "stdout",
          "text": [
            "<__main__.Point object at 0x7f3de7740350>\n",
            "0 1\n"
          ]
        }
      ]
    },
    {
      "cell_type": "code",
      "source": [
        "# pt4를 x축의 방향으로 1만큼, y축의 방향으로 2만큼 이동\n",
        "pt4.move(dx=1, dy=2)\n",
        "print(pt4.x, pt4.y)"
      ],
      "metadata": {
        "colab": {
          "base_uri": "https://localhost:8080/"
        },
        "id": "YE8hUfoFPzVn",
        "outputId": "530ee8db-61af-43be-a5a6-db2c037258e8"
      },
      "execution_count": 37,
      "outputs": [
        {
          "output_type": "stream",
          "name": "stdout",
          "text": [
            "1 3\n"
          ]
        }
      ]
    },
    {
      "cell_type": "code",
      "source": [
        "pt1.distance(pt2)"
      ],
      "metadata": {
        "colab": {
          "base_uri": "https://localhost:8080/"
        },
        "id": "8m-WxFpfRDhT",
        "outputId": "ae9808ab-0d4e-4207-ade1-8ffb8129ebfb"
      },
      "execution_count": 38,
      "outputs": [
        {
          "output_type": "execute_result",
          "data": {
            "text/plain": [
              "5.0"
            ]
          },
          "metadata": {},
          "execution_count": 38
        }
      ]
    },
    {
      "cell_type": "code",
      "source": [
        "class Rectangle:\n",
        "    \"\"\"직사각형: 꼭짓점의 x좌표, 꼭짓점의 y좌표, 가로 길이, 세로 길이, 둘레 길이 계산 기능, 넓이 계산 기능\"\"\"\n",
        "    def __init__(self, x=0, y=0, w=0, h=0):\n",
        "        self.x = x\n",
        "        self.y = y\n",
        "        self.width = w\n",
        "        self.height = h\n",
        "\n",
        "    def perimeter(self):\n",
        "        return 2 * (self.width + self.height)\n",
        "\n",
        "    def area(self):\n",
        "        return self.width * self.height        "
      ],
      "metadata": {
        "id": "bR9XaNGDRgBi"
      },
      "execution_count": 39,
      "outputs": []
    },
    {
      "cell_type": "code",
      "source": [
        "# 꼭짓점의 좌표가 원점(0,0)이고, 가로 길이는 2, 세로 길이는 3인 직사각형\n",
        "rect1 = Rectangle(w=2, h=3)"
      ],
      "metadata": {
        "id": "Wr09aKluZ3ZH"
      },
      "execution_count": 40,
      "outputs": []
    },
    {
      "cell_type": "code",
      "source": [
        "rect1.perimeter()  # 2 * (2 + 3)"
      ],
      "metadata": {
        "colab": {
          "base_uri": "https://localhost:8080/"
        },
        "id": "LNOLOOnuaz-X",
        "outputId": "57fe42db-a119-4d83-ec26-7f03fba77f7c"
      },
      "execution_count": 41,
      "outputs": [
        {
          "output_type": "execute_result",
          "data": {
            "text/plain": [
              "10"
            ]
          },
          "metadata": {},
          "execution_count": 41
        }
      ]
    },
    {
      "cell_type": "code",
      "source": [
        "rect1.area()  # 2 * 3"
      ],
      "metadata": {
        "colab": {
          "base_uri": "https://localhost:8080/"
        },
        "id": "b_5GoTi3a5ol",
        "outputId": "628ef18f-893e-4568-dda0-20c59f686fe1"
      },
      "execution_count": 42,
      "outputs": [
        {
          "output_type": "execute_result",
          "data": {
            "text/plain": [
              "6"
            ]
          },
          "metadata": {},
          "execution_count": 42
        }
      ]
    },
    {
      "cell_type": "code",
      "source": [
        "# 꼭짓점의 좌표가 (1, 1)이고, 가로 길이는 4, 세로 길이는 3인 직사각형\n",
        "rect2 = Rectangle(x=1, y=1, w=4, h=3)"
      ],
      "metadata": {
        "id": "8eWvyuX8bHrx"
      },
      "execution_count": 43,
      "outputs": []
    },
    {
      "cell_type": "code",
      "source": [
        "rect2.perimeter()"
      ],
      "metadata": {
        "colab": {
          "base_uri": "https://localhost:8080/"
        },
        "id": "5WCrwSG1b__s",
        "outputId": "7d87f42c-f879-4b43-bc0b-e31cec0c3d26"
      },
      "execution_count": 44,
      "outputs": [
        {
          "output_type": "execute_result",
          "data": {
            "text/plain": [
              "14"
            ]
          },
          "metadata": {},
          "execution_count": 44
        }
      ]
    },
    {
      "cell_type": "code",
      "source": [
        "rect2.area()"
      ],
      "metadata": {
        "colab": {
          "base_uri": "https://localhost:8080/"
        },
        "id": "qRuovXrCcDr4",
        "outputId": "043a3f9b-d0f9-4633-ab64-c18d1c6fe80d"
      },
      "execution_count": 45,
      "outputs": [
        {
          "output_type": "execute_result",
          "data": {
            "text/plain": [
              "12"
            ]
          },
          "metadata": {},
          "execution_count": 45
        }
      ]
    },
    {
      "cell_type": "markdown",
      "source": [
        "# magic method\n",
        "\n",
        "모든 클래스가 같은 이름으로 가지고 있는 메서드. 특별한 경우에 자동으로 호출되는 메서드.\n",
        "\n",
        "* `__init__(self)`: 생성자를 호출하면 자동으로 호출되는 메서드.\n",
        "* `__str__(self)`: `print()` 함수에서 자동으로 호출되는 메서드.\n",
        "* `__repr__(self)`: 식(expression)을 자동으로 출력할 때 호출되는 메서드.\n",
        "\n",
        "    * 클래스에서 `__str__`과 `__repr__` 메서드가 다르게 구현되어 있으면, print() 함수의 출력과 식을 출력하는 내용이 다름.\n",
        "    * `print` 함수는 `__str__` 메서드가 구현되어 있으면 `__str__`를 호출하고, `__str__` 함수가 구현되어 있지 않으면 `__repr__` 함수를 호출함.\n",
        "    \n",
        "* `__eq__(self, o)`: `==` 연산자가 사용됐을 때 자동으로 호출되는 메서드.\n",
        "* `__add__(self, o)`: `+` 연산자가 사용됐을 때 자동으로 호출되는 메서드.\n",
        "* `__mul__(self, o)`: `*` 연산자가 사용됐을 때 자동으로 호출되는 메서드.    "
      ],
      "metadata": {
        "id": "S82WrtzccL4P"
      }
    },
    {
      "cell_type": "code",
      "source": [
        "class Test:\n",
        "    def __init__(self):\n",
        "        print('Test 객체 생성됨')\n",
        "\n",
        "    # def __str__(self):\n",
        "    #     return 'Test 클래스 객체'    \n",
        "\n",
        "    def __repr__(self):\n",
        "        return 'Test 인스턴스'    "
      ],
      "metadata": {
        "id": "Y0mqml16cHMR"
      },
      "execution_count": 62,
      "outputs": []
    },
    {
      "cell_type": "code",
      "source": [
        "test = Test()  # Test 클래스의 인스턴스 생성"
      ],
      "metadata": {
        "colab": {
          "base_uri": "https://localhost:8080/"
        },
        "id": "FqS8yuk9doE2",
        "outputId": "b28c0a43-db92-4c0e-9de6-ba204909f8cb"
      },
      "execution_count": 63,
      "outputs": [
        {
          "output_type": "stream",
          "name": "stdout",
          "text": [
            "Test 객체 생성됨\n"
          ]
        }
      ]
    },
    {
      "cell_type": "code",
      "source": [
        "print(test)  # 문장(statement) - print 함수는 객체의 __str__() 메서드가 리턴하는 문자열을 출력\n",
        "test  # 식(expression) - 식이 자동으로 출력될 때는 객체의 __repr__() 메서드가 리턴하는 문자열을 출력"
      ],
      "metadata": {
        "colab": {
          "base_uri": "https://localhost:8080/"
        },
        "id": "ufNnwSetdpOK",
        "outputId": "ce5f4691-f74f-4442-90a8-955bbab6bf77"
      },
      "execution_count": 64,
      "outputs": [
        {
          "output_type": "stream",
          "name": "stdout",
          "text": [
            "Test 인스턴스\n"
          ]
        },
        {
          "output_type": "execute_result",
          "data": {
            "text/plain": [
              "Test 인스턴스"
            ]
          },
          "metadata": {},
          "execution_count": 64
        }
      ]
    },
    {
      "cell_type": "code",
      "source": [
        "numbers1 = [1, 2, 3]\n",
        "numbers2 = [1, 2, 3]\n",
        "numbers1 == numbers2  # == 연산자가 __eq__() 메서드를 호출: numbers1.__eq__(numbers2)"
      ],
      "metadata": {
        "colab": {
          "base_uri": "https://localhost:8080/"
        },
        "id": "LYlbT7yKdpl8",
        "outputId": "88bd2451-ad2d-4377-97b5-4940b4cdc120"
      },
      "execution_count": 65,
      "outputs": [
        {
          "output_type": "execute_result",
          "data": {
            "text/plain": [
              "True"
            ]
          },
          "metadata": {},
          "execution_count": 65
        }
      ]
    },
    {
      "cell_type": "code",
      "source": [
        "id(numbers1)  # 리스트 numbers1의 주솟값"
      ],
      "metadata": {
        "colab": {
          "base_uri": "https://localhost:8080/"
        },
        "id": "-pKZQ5d2oU9I",
        "outputId": "7c3358e9-38cd-4d58-f3d1-a7d0e6c4947c"
      },
      "execution_count": 66,
      "outputs": [
        {
          "output_type": "execute_result",
          "data": {
            "text/plain": [
              "139903852888944"
            ]
          },
          "metadata": {},
          "execution_count": 66
        }
      ]
    },
    {
      "cell_type": "code",
      "source": [
        "id(numbers2)  # 리스트 numbers2의 주솟값"
      ],
      "metadata": {
        "colab": {
          "base_uri": "https://localhost:8080/"
        },
        "id": "F4nPJrdhobAy",
        "outputId": "4e125b69-8e8d-4e76-a9bb-26c654f485f7"
      },
      "execution_count": 67,
      "outputs": [
        {
          "output_type": "execute_result",
          "data": {
            "text/plain": [
              "139903852602384"
            ]
          },
          "metadata": {},
          "execution_count": 67
        }
      ]
    },
    {
      "cell_type": "code",
      "source": [
        "class Test2:\n",
        "    def __init__(self, x):\n",
        "        self.x = x\n",
        "\n",
        "    def __eq__(self, other):\n",
        "        if isinstance(other, Test2):\n",
        "            if self.x == other.x:\n",
        "                return True\n",
        "        return False            "
      ],
      "metadata": {
        "id": "1rz38jtModXD"
      },
      "execution_count": 72,
      "outputs": []
    },
    {
      "cell_type": "code",
      "source": [
        "t1 = Test2(1)\n",
        "t2 = Test2(1)"
      ],
      "metadata": {
        "id": "88ByqPPUpUaF"
      },
      "execution_count": 73,
      "outputs": []
    },
    {
      "cell_type": "code",
      "source": [
        "print(id(t1))\n",
        "print(id(t2))"
      ],
      "metadata": {
        "colab": {
          "base_uri": "https://localhost:8080/"
        },
        "id": "zSj3HoMSpdvC",
        "outputId": "647ea590-c4a6-4927-8928-6796e1fbae82"
      },
      "execution_count": 74,
      "outputs": [
        {
          "output_type": "stream",
          "name": "stdout",
          "text": [
            "139903852864336\n",
            "139903852866448\n"
          ]
        }
      ]
    },
    {
      "cell_type": "code",
      "source": [
        "t1 == t2  # t1.__eq__(t2)의 결과"
      ],
      "metadata": {
        "colab": {
          "base_uri": "https://localhost:8080/"
        },
        "id": "ZWm3m0K-pk4S",
        "outputId": "6bd700b4-fcc8-4eea-8947-af7e3933d931"
      },
      "execution_count": 76,
      "outputs": [
        {
          "output_type": "execute_result",
          "data": {
            "text/plain": [
              "True"
            ]
          },
          "metadata": {},
          "execution_count": 76
        }
      ]
    },
    {
      "cell_type": "code",
      "source": [
        "numbers1 = [1, 2]\n",
        "numbers2 = [3, 4]\n",
        "numbers1 + numbers2  # numbers1.__add__(numbers2)"
      ],
      "metadata": {
        "colab": {
          "base_uri": "https://localhost:8080/"
        },
        "id": "-lI6d3HZp34R",
        "outputId": "e43238f2-107e-4fe8-8049-4aa7ac3b256e"
      },
      "execution_count": 77,
      "outputs": [
        {
          "output_type": "execute_result",
          "data": {
            "text/plain": [
              "[1, 2, 3, 4]"
            ]
          },
          "metadata": {},
          "execution_count": 77
        }
      ]
    },
    {
      "cell_type": "code",
      "source": [
        "numbers1 * 3  # numbers1.__mul__(3)"
      ],
      "metadata": {
        "colab": {
          "base_uri": "https://localhost:8080/"
        },
        "id": "zKl8OlA-sEmY",
        "outputId": "098c7089-8b8a-4751-d78d-97076bc044c1"
      },
      "execution_count": 78,
      "outputs": [
        {
          "output_type": "execute_result",
          "data": {
            "text/plain": [
              "[1, 2, 1, 2, 1, 2]"
            ]
          },
          "metadata": {},
          "execution_count": 78
        }
      ]
    },
    {
      "cell_type": "markdown",
      "source": [
        "# class 작성 연습"
      ],
      "metadata": {
        "id": "uxv2uEEAs_M7"
      }
    },
    {
      "cell_type": "markdown",
      "source": [
        "## Ex 1. Score 클래스\n",
        "\n",
        "* 속성(attribute):\n",
        "    * 국어, 영어, 수학 점수\n",
        "    * 모든 과목의 기본값은 0\n",
        "* 기능(method):\n",
        "    * `__repr__`: Score{국어=100, 영어=100, 수학=100} 문자열 포맷을 리턴.\n",
        "    * `calc_sum`: 세 과목 총점을 리턴\n",
        "    * `calc_mean`: 세 과목 평균을 리턴    "
      ],
      "metadata": {
        "id": "DL0NM9ndtC4r"
      }
    },
    {
      "cell_type": "code",
      "source": [
        "class Score:\n",
        "    def __init__(self, korean=0, english=0, math=0):\n",
        "        self.korean = korean\n",
        "        self.english = english\n",
        "        self.math = math \n",
        "\n",
        "    def __repr__(self):\n",
        "        return f'Score{{국어={self.korean}, 영어={self.english}, 수학={self.math}}}'\n",
        "\n",
        "    def calc_sum(self):   \n",
        "        return self.korean + self.english + self.math\n",
        "\n",
        "    def calc_mean(self):\n",
        "        return self.calc_sum() / 3    "
      ],
      "metadata": {
        "id": "GrpzixnksLf5"
      },
      "execution_count": 86,
      "outputs": []
    },
    {
      "cell_type": "code",
      "source": [
        "score1 = Score()\n",
        "score1"
      ],
      "metadata": {
        "colab": {
          "base_uri": "https://localhost:8080/"
        },
        "id": "B-SXaohCyPCH",
        "outputId": "cfe90fe3-b82d-4489-c61f-08d7870ab788"
      },
      "execution_count": 87,
      "outputs": [
        {
          "output_type": "execute_result",
          "data": {
            "text/plain": [
              "Score{국어=0, 영어=0, 수학=0}"
            ]
          },
          "metadata": {},
          "execution_count": 87
        }
      ]
    },
    {
      "cell_type": "code",
      "source": [
        "score2 = Score(korean=90, english=80, math=70)\n",
        "print(score2.calc_sum())\n",
        "print(score2.calc_mean())"
      ],
      "metadata": {
        "colab": {
          "base_uri": "https://localhost:8080/"
        },
        "id": "XHwtGNjQ03LW",
        "outputId": "0666094a-5426-486d-fd9b-c0a4ef1b1def"
      },
      "execution_count": 91,
      "outputs": [
        {
          "output_type": "stream",
          "name": "stdout",
          "text": [
            "240\n",
            "80.0\n"
          ]
        }
      ]
    },
    {
      "cell_type": "markdown",
      "source": [
        "# Ex 2. Student 클래스\n",
        "\n",
        "* 속성(attribute):\n",
        "    * 이름, Score 객체\n",
        "* 기능(method):\n",
        "    *`__repr__`: Student{이름: xxx, 점수: Score{국어=100, 영어=100, 수학=100}} 포맷의 문자열을 리턴.     "
      ],
      "metadata": {
        "id": "T_9NSUljt1E6"
      }
    },
    {
      "cell_type": "code",
      "source": [
        "class Student:\n",
        "    def __init__(self, name, korean=0, english=0, math=0):\n",
        "        self.name = name\n",
        "        self.score = Score(korean, english, math)\n",
        "\n",
        "    def __repr__(self):\n",
        "        return f'Student{{이름: {self.name}, 점수: {self.score}}}'   "
      ],
      "metadata": {
        "id": "y6RgyU8XznGR"
      },
      "execution_count": 101,
      "outputs": []
    },
    {
      "cell_type": "code",
      "source": [
        "stu1 = Student('홍길동')\n",
        "stu1"
      ],
      "metadata": {
        "colab": {
          "base_uri": "https://localhost:8080/"
        },
        "id": "HAQidORb2D0G",
        "outputId": "9cd128c0-8299-4715-b848-05d4e8671647"
      },
      "execution_count": 102,
      "outputs": [
        {
          "output_type": "execute_result",
          "data": {
            "text/plain": [
              "Student{이름: 홍길동, 점수: Score{국어=0, 영어=0, 수학=0}}"
            ]
          },
          "metadata": {},
          "execution_count": 102
        }
      ]
    },
    {
      "cell_type": "code",
      "source": [
        "stu2 = Student('김길동', korean=100, english=90, math=50)\n",
        "stu2"
      ],
      "metadata": {
        "colab": {
          "base_uri": "https://localhost:8080/"
        },
        "id": "2BmUb8CW2Ndt",
        "outputId": "5ad247f6-3890-4030-ea02-15db563020e8"
      },
      "execution_count": 103,
      "outputs": [
        {
          "output_type": "execute_result",
          "data": {
            "text/plain": [
              "Student{이름: 김길동, 점수: Score{국어=100, 영어=90, 수학=50}}"
            ]
          },
          "metadata": {},
          "execution_count": 103
        }
      ]
    },
    {
      "cell_type": "code",
      "source": [
        "# stu2 객체의 점수 함계, 평균\n",
        "print('총점 =', stu2.score.calc_sum())\n",
        "print('평균 =', stu2.score.calc_mean())"
      ],
      "metadata": {
        "colab": {
          "base_uri": "https://localhost:8080/"
        },
        "id": "4BIe8OKM2o0U",
        "outputId": "5faaa70f-20c4-4aac-d758-ce2846179dbe"
      },
      "execution_count": 104,
      "outputs": [
        {
          "output_type": "stream",
          "name": "stdout",
          "text": [
            "총점 = 240\n",
            "평균 = 80.0\n"
          ]
        }
      ]
    },
    {
      "cell_type": "code",
      "source": [
        "class Student2:\n",
        "    def __init__(self, name, score):\n",
        "        self.name = name\n",
        "        self.score = score\n",
        "\n",
        "    def __repr__(self):\n",
        "        return f'Student{{이름: {self.name}, 점수: {self.score}}}'       "
      ],
      "metadata": {
        "id": "snYApkSw3aDf"
      },
      "execution_count": 106,
      "outputs": []
    },
    {
      "cell_type": "code",
      "source": [
        "stu3 = Student2('abc', Score())\n",
        "print(stu3)"
      ],
      "metadata": {
        "colab": {
          "base_uri": "https://localhost:8080/"
        },
        "id": "BZ76i9ib302N",
        "outputId": "5426953e-31b6-4bef-84b2-8dcc3968b808"
      },
      "execution_count": 107,
      "outputs": [
        {
          "output_type": "stream",
          "name": "stdout",
          "text": [
            "Student{이름: abc, 점수: Score{국어=0, 영어=0, 수학=0}}\n"
          ]
        }
      ]
    },
    {
      "cell_type": "code",
      "source": [
        "stu4 = Student2('def', Score(100, 90, 80))\n",
        "stu4"
      ],
      "metadata": {
        "colab": {
          "base_uri": "https://localhost:8080/"
        },
        "id": "Jb-8D_gP4iHI",
        "outputId": "da834721-e0e3-4dd6-db5e-1cb054996959"
      },
      "execution_count": 108,
      "outputs": [
        {
          "output_type": "execute_result",
          "data": {
            "text/plain": [
              "Student{이름: def, 점수: Score{국어=100, 영어=90, 수학=80}}"
            ]
          },
          "metadata": {},
          "execution_count": 108
        }
      ]
    },
    {
      "cell_type": "code",
      "source": [
        "print(stu4.score.calc_sum())\n",
        "print(stu4.score.calc_mean())"
      ],
      "metadata": {
        "colab": {
          "base_uri": "https://localhost:8080/"
        },
        "id": "XJ05fBqC4zUN",
        "outputId": "f8045173-0fc2-4dbd-e350-29075b3a5bf2"
      },
      "execution_count": 109,
      "outputs": [
        {
          "output_type": "stream",
          "name": "stdout",
          "text": [
            "270\n",
            "90.0\n"
          ]
        }
      ]
    }
  ]
}