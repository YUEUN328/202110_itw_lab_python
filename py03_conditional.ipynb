{
  "nbformat": 4,
  "nbformat_minor": 0,
  "metadata": {
    "colab": {
      "name": "py03_conditional.ipynb",
      "provenance": [],
      "collapsed_sections": [],
      "toc_visible": true,
      "authorship_tag": "ABX9TyPxvNYY7kaPHzEzLlgDIjDp",
      "include_colab_link": true
    },
    "kernelspec": {
      "name": "python3",
      "display_name": "Python 3"
    },
    "language_info": {
      "name": "python"
    }
  },
  "cells": [
    {
      "cell_type": "markdown",
      "metadata": {
        "id": "view-in-github",
        "colab_type": "text"
      },
      "source": [
        "<a href=\"https://colab.research.google.com/github/YUEUN328/202110_itw_lab_python/blob/main/py03_conditional.ipynb\" target=\"_parent\"><img src=\"https://colab.research.google.com/assets/colab-badge.svg\" alt=\"Open In Colab\"/></a>"
      ]
    },
    {
      "cell_type": "markdown",
      "source": [
        "# 조건문(Conditional Statement)"
      ],
      "metadata": {
        "id": "FjCnL1l0cZGK"
      }
    },
    {
      "cell_type": "markdown",
      "source": [
        "## else가 없는 조건문\n",
        "\n",
        "```\n",
        "if 조건식:\n",
        "    조건식을 만족할 때 실행할 코드(들)\n",
        "```\n",
        "\n",
        "* `if 조건식` 뒤에는 반드시 **콜론(:)**을 사용해야 함.\n",
        "* `if` 블록(조건식을 만족할 때 실행할 문장들)은 반드시 **들여쓰기(indentation)**을 해야 함.\n",
        "* 파이썬은 들여쓰기(identation)가 제대로 되어 있지 않으면 문장이 실행되지 않음!"
      ],
      "metadata": {
        "id": "N4a4CeWBHH7f"
      }
    },
    {
      "cell_type": "code",
      "execution_count": null,
      "metadata": {
        "id": "YAvkxS6TGh_l"
      },
      "outputs": [],
      "source": [
        "n = -100"
      ]
    },
    {
      "cell_type": "code",
      "source": [
        "if n > 0:\n",
        "    print(f'{n}은 양수입니다...')\n",
        "    print('if 블록 내부 끝')\n",
        "print('if 블록 바깥')              "
      ],
      "metadata": {
        "colab": {
          "base_uri": "https://localhost:8080/"
        },
        "id": "0DqlGwcBIh9Y",
        "outputId": "42de8a42-7163-48c8-b1ec-f61e9f2b5559"
      },
      "execution_count": null,
      "outputs": [
        {
          "output_type": "stream",
          "name": "stdout",
          "text": [
            "if 블록 바깥\n"
          ]
        }
      ]
    },
    {
      "cell_type": "markdown",
      "source": [
        "## else 있는 조건문\n",
        "\n",
        "```\n",
        "if 조건식: \n",
        "    조건식을 만족할 때 실행할 문장(들)\n",
        "else:\n",
        "    조건식을 만족하지 못할 때 실행할 문장(들)\n",
        "```        "
      ],
      "metadata": {
        "id": "oEbOTNxTLGIa"
      }
    },
    {
      "cell_type": "code",
      "source": [
        "if n > 0:\n",
        "    print(f'{n}은 양수입니다...')\n",
        "else:\n",
        "    print(f'{n}은 양수가 아닙니다...')\n",
        "print('if-else 끝')        "
      ],
      "metadata": {
        "colab": {
          "base_uri": "https://localhost:8080/"
        },
        "id": "vpDbBM7rI-ac",
        "outputId": "f89d8070-5371-4fa5-c163-681f371713d8"
      },
      "execution_count": null,
      "outputs": [
        {
          "output_type": "stream",
          "name": "stdout",
          "text": [
            "-100은 양수가 아닙니다...\n",
            "if-else 끝\n"
          ]
        }
      ]
    },
    {
      "cell_type": "code",
      "source": [
        "# 정수를 입력받아서 짝수인지 홀수인지 출력\n",
        "number = int(input('정수 입력>>>'))\n",
        "if number % 2 == 0:\n",
        "    print(f'{number}: even')\n",
        "else:\n",
        "    print(f'{number}: odd')"
      ],
      "metadata": {
        "colab": {
          "base_uri": "https://localhost:8080/"
        },
        "id": "LL2fROe_MoUD",
        "outputId": "90c7717d-d31b-4e7d-d881-7602a4bf6319"
      },
      "execution_count": null,
      "outputs": [
        {
          "output_type": "stream",
          "name": "stdout",
          "text": [
            "정수 입력>>>21\n",
            "21: odd\n"
          ]
        }
      ]
    },
    {
      "cell_type": "markdown",
      "source": [
        "## chained conditional(if-elif-else)\n",
        "\n",
        "```\n",
        "if 조건식1:\n",
        "    조건식1을 만족할 때 실행할 문장(들)\n",
        "elif 조건식2:\n",
        "    조건식2를 만족할 때 실행할 문장(들)\n",
        "...    \n",
        "else:\n",
        "    위의 모든 조건식을 만족하지 못할 때 실행할 문장(들)\n",
        "```        "
      ],
      "metadata": {
        "id": "F1Xiv1gxTXop"
      }
    },
    {
      "cell_type": "code",
      "source": [
        "# 정수를 입력받아서 양수, 음수, 0인지를 출력\n",
        "number = int(input('정수 입력>>> '))\n",
        "if number > 0:\n",
        "    print('양수')\n",
        "elif number < 0:\n",
        "    print('음수')\n",
        "else:\n",
        "    print('zero')            "
      ],
      "metadata": {
        "colab": {
          "base_uri": "https://localhost:8080/"
        },
        "id": "ia1K6qyXUIHv",
        "outputId": "0d324ac1-cc49-484a-e17a-3e8cb55bd736"
      },
      "execution_count": null,
      "outputs": [
        {
          "output_type": "stream",
          "name": "stdout",
          "text": [
            "정수 입력>>> 0\n",
            "zero\n"
          ]
        }
      ]
    },
    {
      "cell_type": "markdown",
      "source": [
        "## 중첩 조건문(nested conditional)\n",
        "\n",
        "* `if` 블록, `elif` 블록, `else` 블록 안에서 조건문을 사용하는 것.\n",
        "* 중첩 조건문은 `elif`를 사용하거나 논리 연산자(and, or)를 사용해서 중첩되지 않는 조건문으로 만들 수도 있음.\n",
        "* 중첩 조건문을 사용할 때는 들여쓰기(identation)를 주의해야 함. 들여쓰기 방법에 따라서 완전히 다른 실행 코드(로직)이 될 수 있음."
      ],
      "metadata": {
        "id": "V9yYFRVwV04t"
      }
    },
    {
      "cell_type": "code",
      "source": [
        "number = int(input('정수 입력>>> '))\n",
        "if number > 0:\n",
        "    print('양수')\n",
        "else:\n",
        "    if number < 0:\n",
        "        print('음수')\n",
        "    else:\n",
        "        print('영')        "
      ],
      "metadata": {
        "colab": {
          "base_uri": "https://localhost:8080/"
        },
        "id": "KkDAB6fXWhia",
        "outputId": "f9ccaf33-66e5-4b1d-f0bb-0e2a9c08ab8b"
      },
      "execution_count": null,
      "outputs": [
        {
          "output_type": "stream",
          "name": "stdout",
          "text": [
            "정수 입력>>> 0\n",
            "영\n"
          ]
        }
      ]
    },
    {
      "cell_type": "markdown",
      "source": [
        "# 연습문제\n",
        "\n",
        "* 변수 3개에 정수 3개를 입력받고 저장\n",
        "* 입력받은 정수 3개을 평균을 계산\n",
        "* 평균이 \n",
        "    * 90 이상이면 'A'\n",
        "    * 80 이상이면 'B'\n",
        "    * 70 이상이면 'C'\n",
        "    * 70 미만이면 'F'를 출력"
      ],
      "metadata": {
        "id": "k9zmjALNYMZY"
      }
    },
    {
      "cell_type": "code",
      "source": [
        "x = int(input('정수 입력>>> '))\n",
        "y = int(input('정수 입력>>> '))\n",
        "z = int(input('정수 입력>>> '))\n",
        "\n",
        "# 세 정수의 평균 계산\n",
        "mean = (x + y + z) / 3\n",
        "print(f'평균 = {mean}')\n",
        "\n",
        "if mean >= 90:\n",
        "    print('A') \n",
        "elif mean >= 80:\n",
        "    print('B')\n",
        "elif mean >= 70:\n",
        "    print('C')\n",
        "else:\n",
        "    print('F')              "
      ],
      "metadata": {
        "colab": {
          "base_uri": "https://localhost:8080/"
        },
        "id": "mnOgl-BrXQs2",
        "outputId": "9cbdeabe-d3c2-45cd-aed1-d9bc7b13a215"
      },
      "execution_count": null,
      "outputs": [
        {
          "output_type": "stream",
          "name": "stdout",
          "text": [
            "정수 입력>>> 80\n",
            "정수 입력>>> 81\n",
            "정수 입력>>> 84\n",
            "평균 = 81.66666666666667\n",
            "B\n"
          ]
        }
      ]
    }
  ]
}