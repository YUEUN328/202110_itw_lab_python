{
  "nbformat": 4,
  "nbformat_minor": 0,
  "metadata": {
    "colab": {
      "name": "py05_while.ipynb",
      "provenance": [],
      "collapsed_sections": [],
      "toc_visible": true,
      "authorship_tag": "ABX9TyNdfQ7hfzE3t2SXn3b6P510",
      "include_colab_link": true
    },
    "kernelspec": {
      "name": "python3",
      "display_name": "Python 3"
    },
    "language_info": {
      "name": "python"
    }
  },
  "cells": [
    {
      "cell_type": "markdown",
      "metadata": {
        "id": "view-in-github",
        "colab_type": "text"
      },
      "source": [
        "<a href=\"https://colab.research.google.com/github/YUEUN328/202110_itw_lab_python/blob/main/py05_while.ipynb\" target=\"_parent\"><img src=\"https://colab.research.google.com/assets/colab-badge.svg\" alt=\"Open In Colab\"/></a>"
      ]
    },
    {
      "cell_type": "markdown",
      "source": [
        "# while 반복문"
      ],
      "metadata": {
        "id": "y15SziNU1dtO"
      }
    },
    {
      "cell_type": "markdown",
      "source": [
        "```\n",
        "[초기화 문장]\n",
        "while 조건식:\n",
        "    조건식을 만족하는 동안에 반복할 코드(문장들)\n",
        "    [조건을 변경할 수 있는 문장]\n",
        "```    "
      ],
      "metadata": {
        "id": "K6Z129cc1jWs"
      }
    },
    {
      "cell_type": "code",
      "execution_count": null,
      "metadata": {
        "colab": {
          "base_uri": "https://localhost:8080/"
        },
        "id": "vLRQ06Qx1SqN",
        "outputId": "8dac3a1e-d599-4f36-9a8f-8730643096a5"
      },
      "outputs": [
        {
          "output_type": "stream",
          "name": "stdout",
          "text": [
            "1\n",
            "2\n",
            "3\n",
            "4\n",
            "5\n"
          ]
        }
      ],
      "source": [
        "for x in range(1, 6):\n",
        "    print(x)"
      ]
    },
    {
      "cell_type": "code",
      "source": [
        "x = 1\n",
        "while x <= 5:\n",
        "    print(x)\n",
        "    # x = x + 1\n",
        "    x += 1  # 복합 할당 연산자(+=, -=, *=, /=, ...)"
      ],
      "metadata": {
        "colab": {
          "base_uri": "https://localhost:8080/"
        },
        "id": "2VxWjNaN2RKK",
        "outputId": "e71a8704-1e7c-46a0-a8a0-72d9ad10f2cf"
      },
      "execution_count": null,
      "outputs": [
        {
          "output_type": "stream",
          "name": "stdout",
          "text": [
            "1\n",
            "2\n",
            "3\n",
            "4\n",
            "5\n"
          ]
        }
      ]
    },
    {
      "cell_type": "markdown",
      "source": [
        "* Ctrl(Cmd) + / : 주석 토글"
      ],
      "metadata": {
        "id": "DTfyxSt94v3v"
      }
    },
    {
      "cell_type": "markdown",
      "source": [
        "# 무한 반복문과 break"
      ],
      "metadata": {
        "id": "LtfUb9_l8JZh"
      }
    },
    {
      "cell_type": "code",
      "source": [
        "while True:  # 무한 반복문\n",
        "    name = input('이름을 입력하세요... 멈추고 싶으면 q를 입력')\n",
        "    if name == 'q':\n",
        "        break\n",
        "    print(f'안녕하세요, {name}!')"
      ],
      "metadata": {
        "colab": {
          "base_uri": "https://localhost:8080/"
        },
        "id": "Nzhw4OR58Psp",
        "outputId": "4f59ca26-28c7-4466-ace9-90e9274c4a40"
      },
      "execution_count": null,
      "outputs": [
        {
          "name": "stdout",
          "output_type": "stream",
          "text": [
            "이름을 입력하세요... 멈추고 싶으면 q를 입력asd\n",
            "안녕하세요, asd!\n",
            "이름을 입력하세요... 멈추고 싶으면 q를 입력q\n"
          ]
        }
      ]
    },
    {
      "cell_type": "markdown",
      "source": [
        "# Exercises\n",
        "\n",
        "while 반복문 사용"
      ],
      "metadata": {
        "id": "O4TftXlm9TY5"
      }
    },
    {
      "cell_type": "markdown",
      "source": [
        "* 1 이상 10 미만의 홀수들을 출력"
      ],
      "metadata": {
        "id": "oTkn5ZEG92zq"
      }
    },
    {
      "cell_type": "code",
      "source": [
        "n = 1\n",
        "while n < 10:\n",
        "    print(n)\n",
        "    n += 2"
      ],
      "metadata": {
        "colab": {
          "base_uri": "https://localhost:8080/"
        },
        "id": "b66Wnkd2-DvY",
        "outputId": "1b2f1348-e0b0-446f-c642-0e146e02e70f"
      },
      "execution_count": 1,
      "outputs": [
        {
          "output_type": "stream",
          "name": "stdout",
          "text": [
            "1\n",
            "3\n",
            "5\n",
            "7\n",
            "9\n"
          ]
        }
      ]
    },
    {
      "cell_type": "code",
      "source": [
        "n = 1\n",
        "while n < 10:\n",
        "    # if n % 2 == 1:  # n을 2로 나눈 나머지가 1과 같다면\n",
        "    if n % 2:  # n을 2로 나눈 나머지가 있다면\n",
        "        print(n)\n",
        "    n += 1"
      ],
      "metadata": {
        "colab": {
          "base_uri": "https://localhost:8080/"
        },
        "id": "pM4yFBFzd_H8",
        "outputId": "5f9785c1-f98b-4ab7-85e3-221cef89c47a"
      },
      "execution_count": 6,
      "outputs": [
        {
          "output_type": "stream",
          "name": "stdout",
          "text": [
            "1\n",
            "3\n",
            "5\n",
            "7\n",
            "9\n"
          ]
        }
      ]
    },
    {
      "cell_type": "markdown",
      "source": [
        "Python에서 True로 취급하는 것:\n",
        "\n",
        "* 0이 아닌 숫자들.\n",
        "* 1글자 이상의 문자열.\n",
        "* 1개 이상의 원소를 가지고 있는 list, tuple, dict, ..."
      ],
      "metadata": {
        "id": "_MSidDoLgoS3"
      }
    },
    {
      "cell_type": "markdown",
      "source": [
        "* 구구단(2단 ~ 9단) 출력\n",
        "\n",
        "```\n",
        "--- 2단 ---\n",
        "2 x 1 = 2\n",
        "...\n",
        "2 x 9 = 18\n",
        "\n",
        "--- 3단 --- \n",
        "3 x 1 = 3\n",
        "...\n",
        "3 x 9 = 27\n",
        "\n",
        "--- 4단 ---\n",
        "...\n",
        "```"
      ],
      "metadata": {
        "id": "I8KqpAVW96vh"
      }
    },
    {
      "cell_type": "code",
      "source": [
        "x = 2\n",
        "while x < 10:\n",
        "    print(f'--- {x}단 ---')\n",
        "\n",
        "    y = 1\n",
        "    while y < 10:       \n",
        "        print(f'{x} x {y} = {x * y}')        \n",
        "        y += 1\n",
        "\n",
        "    print()\n",
        "    x += 1"
      ],
      "metadata": {
        "colab": {
          "base_uri": "https://localhost:8080/"
        },
        "id": "uYrY7C8W9elA",
        "outputId": "69d780a0-3186-4d42-f75f-73934a63f6c6"
      },
      "execution_count": 8,
      "outputs": [
        {
          "output_type": "stream",
          "name": "stdout",
          "text": [
            "--- 2단 ---\n",
            "2 x 1 = 2\n",
            "2 x 2 = 4\n",
            "2 x 3 = 6\n",
            "2 x 4 = 8\n",
            "2 x 5 = 10\n",
            "2 x 6 = 12\n",
            "2 x 7 = 14\n",
            "2 x 8 = 16\n",
            "2 x 9 = 18\n",
            "\n",
            "--- 3단 ---\n",
            "3 x 1 = 3\n",
            "3 x 2 = 6\n",
            "3 x 3 = 9\n",
            "3 x 4 = 12\n",
            "3 x 5 = 15\n",
            "3 x 6 = 18\n",
            "3 x 7 = 21\n",
            "3 x 8 = 24\n",
            "3 x 9 = 27\n",
            "\n",
            "--- 4단 ---\n",
            "4 x 1 = 4\n",
            "4 x 2 = 8\n",
            "4 x 3 = 12\n",
            "4 x 4 = 16\n",
            "4 x 5 = 20\n",
            "4 x 6 = 24\n",
            "4 x 7 = 28\n",
            "4 x 8 = 32\n",
            "4 x 9 = 36\n",
            "\n",
            "--- 5단 ---\n",
            "5 x 1 = 5\n",
            "5 x 2 = 10\n",
            "5 x 3 = 15\n",
            "5 x 4 = 20\n",
            "5 x 5 = 25\n",
            "5 x 6 = 30\n",
            "5 x 7 = 35\n",
            "5 x 8 = 40\n",
            "5 x 9 = 45\n",
            "\n",
            "--- 6단 ---\n",
            "6 x 1 = 6\n",
            "6 x 2 = 12\n",
            "6 x 3 = 18\n",
            "6 x 4 = 24\n",
            "6 x 5 = 30\n",
            "6 x 6 = 36\n",
            "6 x 7 = 42\n",
            "6 x 8 = 48\n",
            "6 x 9 = 54\n",
            "\n",
            "--- 7단 ---\n",
            "7 x 1 = 7\n",
            "7 x 2 = 14\n",
            "7 x 3 = 21\n",
            "7 x 4 = 28\n",
            "7 x 5 = 35\n",
            "7 x 6 = 42\n",
            "7 x 7 = 49\n",
            "7 x 8 = 56\n",
            "7 x 9 = 63\n",
            "\n",
            "--- 8단 ---\n",
            "8 x 1 = 8\n",
            "8 x 2 = 16\n",
            "8 x 3 = 24\n",
            "8 x 4 = 32\n",
            "8 x 5 = 40\n",
            "8 x 6 = 48\n",
            "8 x 7 = 56\n",
            "8 x 8 = 64\n",
            "8 x 9 = 72\n",
            "\n",
            "--- 9단 ---\n",
            "9 x 1 = 9\n",
            "9 x 2 = 18\n",
            "9 x 3 = 27\n",
            "9 x 4 = 36\n",
            "9 x 5 = 45\n",
            "9 x 6 = 54\n",
            "9 x 7 = 63\n",
            "9 x 8 = 72\n",
            "9 x 9 = 81\n",
            "\n"
          ]
        }
      ]
    },
    {
      "cell_type": "markdown",
      "source": [
        "* 구구단을 아래와 같이 출력\n",
        "\n",
        "```\n",
        "--- 2단 ---\n",
        "2 x 1 = 2\n",
        "2 x 2 = 4\n",
        "\n",
        "--- 3단 ---\n",
        "3 x 1 = 3\n",
        "3 x 2 = 6\n",
        "3 x 3 = 9\n",
        "\n",
        "...\n",
        "\n",
        "--- 9단 ---\n",
        "9 x 1 = 9\n",
        "...\n",
        "9 x 9 = 81\n",
        "```"
      ],
      "metadata": {
        "id": "sBgQNE-E-Q0U"
      }
    },
    {
      "cell_type": "code",
      "source": [
        "x = 2\n",
        "while x < 10:\n",
        "    print(f'--- {x}단 ---')\n",
        "\n",
        "    y = 1\n",
        "    while y < 10:       \n",
        "        print(f'{x} x {y} = {x * y}')        \n",
        "        if x == y:\n",
        "            break\n",
        "        y += 1   \n",
        "                 \n",
        "    print()\n",
        "    x += 1"
      ],
      "metadata": {
        "colab": {
          "base_uri": "https://localhost:8080/"
        },
        "id": "LI0bdO6xEJWM",
        "outputId": "feb50227-f021-4c0a-89bf-15750754bf96"
      },
      "execution_count": 9,
      "outputs": [
        {
          "output_type": "stream",
          "name": "stdout",
          "text": [
            "--- 2단 ---\n",
            "2 x 1 = 2\n",
            "2 x 2 = 4\n",
            "\n",
            "--- 3단 ---\n",
            "3 x 1 = 3\n",
            "3 x 2 = 6\n",
            "3 x 3 = 9\n",
            "\n",
            "--- 4단 ---\n",
            "4 x 1 = 4\n",
            "4 x 2 = 8\n",
            "4 x 3 = 12\n",
            "4 x 4 = 16\n",
            "\n",
            "--- 5단 ---\n",
            "5 x 1 = 5\n",
            "5 x 2 = 10\n",
            "5 x 3 = 15\n",
            "5 x 4 = 20\n",
            "5 x 5 = 25\n",
            "\n",
            "--- 6단 ---\n",
            "6 x 1 = 6\n",
            "6 x 2 = 12\n",
            "6 x 3 = 18\n",
            "6 x 4 = 24\n",
            "6 x 5 = 30\n",
            "6 x 6 = 36\n",
            "\n",
            "--- 7단 ---\n",
            "7 x 1 = 7\n",
            "7 x 2 = 14\n",
            "7 x 3 = 21\n",
            "7 x 4 = 28\n",
            "7 x 5 = 35\n",
            "7 x 6 = 42\n",
            "7 x 7 = 49\n",
            "\n",
            "--- 8단 ---\n",
            "8 x 1 = 8\n",
            "8 x 2 = 16\n",
            "8 x 3 = 24\n",
            "8 x 4 = 32\n",
            "8 x 5 = 40\n",
            "8 x 6 = 48\n",
            "8 x 7 = 56\n",
            "8 x 8 = 64\n",
            "\n",
            "--- 9단 ---\n",
            "9 x 1 = 9\n",
            "9 x 2 = 18\n",
            "9 x 3 = 27\n",
            "9 x 4 = 36\n",
            "9 x 5 = 45\n",
            "9 x 6 = 54\n",
            "9 x 7 = 63\n",
            "9 x 8 = 72\n",
            "9 x 9 = 81\n",
            "\n"
          ]
        }
      ]
    },
    {
      "cell_type": "code",
      "source": [
        "x = 2\n",
        "while x < 10:\n",
        "    print(f'--- {x}단 ---')\n",
        "\n",
        "    y = 1\n",
        "    while y <= x:       \n",
        "        print(f'{x} x {y} = {x * y}')        \n",
        "        y += 1   \n",
        "                 \n",
        "    print()\n",
        "    x += 1"
      ],
      "metadata": {
        "colab": {
          "base_uri": "https://localhost:8080/"
        },
        "id": "JVyokcu1nryT",
        "outputId": "3668989c-9d05-44c9-e083-afbbc8c015bc"
      },
      "execution_count": 10,
      "outputs": [
        {
          "output_type": "stream",
          "name": "stdout",
          "text": [
            "--- 2단 ---\n",
            "2 x 1 = 2\n",
            "2 x 2 = 4\n",
            "\n",
            "--- 3단 ---\n",
            "3 x 1 = 3\n",
            "3 x 2 = 6\n",
            "3 x 3 = 9\n",
            "\n",
            "--- 4단 ---\n",
            "4 x 1 = 4\n",
            "4 x 2 = 8\n",
            "4 x 3 = 12\n",
            "4 x 4 = 16\n",
            "\n",
            "--- 5단 ---\n",
            "5 x 1 = 5\n",
            "5 x 2 = 10\n",
            "5 x 3 = 15\n",
            "5 x 4 = 20\n",
            "5 x 5 = 25\n",
            "\n",
            "--- 6단 ---\n",
            "6 x 1 = 6\n",
            "6 x 2 = 12\n",
            "6 x 3 = 18\n",
            "6 x 4 = 24\n",
            "6 x 5 = 30\n",
            "6 x 6 = 36\n",
            "\n",
            "--- 7단 ---\n",
            "7 x 1 = 7\n",
            "7 x 2 = 14\n",
            "7 x 3 = 21\n",
            "7 x 4 = 28\n",
            "7 x 5 = 35\n",
            "7 x 6 = 42\n",
            "7 x 7 = 49\n",
            "\n",
            "--- 8단 ---\n",
            "8 x 1 = 8\n",
            "8 x 2 = 16\n",
            "8 x 3 = 24\n",
            "8 x 4 = 32\n",
            "8 x 5 = 40\n",
            "8 x 6 = 48\n",
            "8 x 7 = 56\n",
            "8 x 8 = 64\n",
            "\n",
            "--- 9단 ---\n",
            "9 x 1 = 9\n",
            "9 x 2 = 18\n",
            "9 x 3 = 27\n",
            "9 x 4 = 36\n",
            "9 x 5 = 45\n",
            "9 x 6 = 54\n",
            "9 x 7 = 63\n",
            "9 x 8 = 72\n",
            "9 x 9 = 81\n",
            "\n"
          ]
        }
      ]
    }
  ]
}