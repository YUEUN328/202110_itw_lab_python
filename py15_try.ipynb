{
  "nbformat": 4,
  "nbformat_minor": 0,
  "metadata": {
    "colab": {
      "name": "py15_try.ipynb",
      "provenance": [],
      "collapsed_sections": [],
      "authorship_tag": "ABX9TyM5NPikB7LRJCBe1ewkE7Vx",
      "include_colab_link": true
    },
    "kernelspec": {
      "name": "python3",
      "display_name": "Python 3"
    },
    "language_info": {
      "name": "python"
    }
  },
  "cells": [
    {
      "cell_type": "markdown",
      "metadata": {
        "id": "view-in-github",
        "colab_type": "text"
      },
      "source": [
        "<a href=\"https://colab.research.google.com/github/YUEUN328/202110_itw_lab_python/blob/main/py15_try.ipynb\" target=\"_parent\"><img src=\"https://colab.research.google.com/assets/colab-badge.svg\" alt=\"Open In Colab\"/></a>"
      ]
    },
    {
      "cell_type": "markdown",
      "source": [
        "# 예외(Exception)/오류(Error) 처리\n",
        "\n",
        "* 오류가 발생한 위치와 원인을 파악해서 오류가 발생하지 않도록 코드 수정.\n",
        "* 오류가 발생하더라도 프로그램이 비정상적으로 종료되지 않고 계속 실행될 수 있도록 처리. --> try 구문\n",
        "    * Java는 try 구문을 사용하지 않으면 compile 에러가 발생하는 경우가 있지만, \n",
        "    * Python에서는 try 구문이 필수로 필요한 것은 아님. "
      ],
      "metadata": {
        "id": "YCWyh_y0lnzW"
      }
    },
    {
      "cell_type": "markdown",
      "source": [
        "```\n",
        "try:\n",
        "    (1) 실행할 코드(들)\n",
        "except [에러이름 [as 별명]]:\n",
        "    (2) 에러가 발생했을 때 실행할 코드(들)\n",
        "[else:\n",
        "    (3) try 블록 내부의 모든 코드가 에러 없이 정상적으로 실행된 경우 실행할 문장(들)]\n",
        "[finally:\n",
        "    (4) try 블록을 실행 중 에러 발생 여부와 상관없이 항상 실행할 문장(들)]            \n",
        "```\n",
        "\n",
        "* 에러가 발생하지 않은 경우: (1) [-> (3) -> (4)]\n",
        "* 에러가 발생한 경우: (1) -> (2) [-> (4)] "
      ],
      "metadata": {
        "id": "q7ioTE2Lm4dW"
      }
    },
    {
      "cell_type": "code",
      "execution_count": 4,
      "metadata": {
        "colab": {
          "base_uri": "https://localhost:8080/"
        },
        "id": "LGm35MYhlXZE",
        "outputId": "141dbac0-5352-40df-b66d-e63504a962e9"
      },
      "outputs": [
        {
          "output_type": "stream",
          "name": "stdout",
          "text": [
            "숫자 입력>>> 1.234\n",
            "x = 1.234\n"
          ]
        }
      ],
      "source": [
        "try:\n",
        "    x = float(input('숫자 입력>>> '))\n",
        "    print('x =', x)\n",
        "except:\n",
        "    print('숫자로 입력하세요...')    "
      ]
    },
    {
      "cell_type": "code",
      "source": [
        "try:\n",
        "    x = float(input('숫자 입력>>> '))  # (1)\n",
        "except:  \n",
        "    print('숫자로 입력하세요...')      # (2)\n",
        "else:\n",
        "    print('x =', x)                    # (3)\n",
        "finally:\n",
        "    print('=== end ===')               # (4)"
      ],
      "metadata": {
        "colab": {
          "base_uri": "https://localhost:8080/"
        },
        "id": "PnnYRSw7soo3",
        "outputId": "678b6ccf-e29d-424a-a363-f393bf10ff19"
      },
      "execution_count": 5,
      "outputs": [
        {
          "output_type": "stream",
          "name": "stdout",
          "text": [
            "숫자 입력>>> asd\n",
            "숫자로 입력하세요...\n",
            "=== end ===\n"
          ]
        }
      ]
    },
    {
      "cell_type": "code",
      "source": [
        "try:\n",
        "    x = float(input('x 입력>>> '))\n",
        "    y = float(input('y 입력>>> '))\n",
        "    print(f'{x} + {y} = {x + y}')\n",
        "    print(f'{x} - {y} = {x - y}')\n",
        "    print(f'{x} x {y} = {x * y}')\n",
        "    print(f'{x} / {y} = {x / y}')\n",
        "except ValueError:\n",
        "    print('숫자로 입력하세요...')    \n",
        "except ZeroDivisionError:\n",
        "    print('0으로 나눌 수는 없습니다...')    "
      ],
      "metadata": {
        "colab": {
          "base_uri": "https://localhost:8080/"
        },
        "id": "Ae0MCIqmu1Sc",
        "outputId": "42561c74-e07d-4c6b-ac00-ab2f032d467d"
      },
      "execution_count": 9,
      "outputs": [
        {
          "output_type": "stream",
          "name": "stdout",
          "text": [
            "x 입력>>> 1\n",
            "y 입력>>> 0\n",
            "1.0 + 0.0 = 1.0\n",
            "1.0 - 0.0 = 1.0\n",
            "1.0 x 0.0 = 0.0\n",
            "0으로 나눌 수는 없습니다...\n"
          ]
        }
      ]
    },
    {
      "cell_type": "markdown",
      "source": [
        "# try-except 연습"
      ],
      "metadata": {
        "id": "Sh3KDt_pyoRM"
      }
    },
    {
      "cell_type": "markdown",
      "source": [
        "## Ex 1. \n",
        "정수 한 개를 입력받고, 입력받은 정수를 출력."
      ],
      "metadata": {
        "id": "vMrdqQJXysfx"
      }
    },
    {
      "cell_type": "code",
      "source": [
        "while True:\n",
        "    try:\n",
        "        n = int(input('정수 입력>>> '))\n",
        "        print(n)\n",
        "        break  # 무한루프 종료\n",
        "    except:\n",
        "        print('입력한 값은 정수가 아닙니다.')"
      ],
      "metadata": {
        "colab": {
          "base_uri": "https://localhost:8080/"
        },
        "id": "bWCZuyNlwg78",
        "outputId": "0344ad5b-9f1c-4be7-ceeb-0f23523bffb8"
      },
      "execution_count": 1,
      "outputs": [
        {
          "output_type": "stream",
          "name": "stdout",
          "text": [
            "정수 입력>>> 2.4\n",
            "입력한 값은 정수가 아닙니다.\n",
            "정수 입력>>> 1\n",
            "1\n"
          ]
        }
      ]
    },
    {
      "cell_type": "markdown",
      "source": [
        "## Ex 2.\n",
        "word counting - 리스트 words의 문자열을 key, 문자열의 등장 횟수를 value로 하는 dict를 만드세요."
      ],
      "metadata": {
        "id": "ui9wxa8xzDHz"
      }
    },
    {
      "cell_type": "code",
      "source": [
        "words = ['one', 'two', 'three', 'two', 'three', 'four']\n",
        "#> {'one': 1, 'two': 2, 'three': 2, 'four': 1}\n",
        "word_counts = {}  # empty dict\n",
        "for w in words:\n",
        "    try:\n",
        "        word_counts[w] += 1  # word_counts[w] = word_counts[w] + 1\n",
        "    except:\n",
        "        word_counts[w] = 1\n",
        "    print(word_counts)        "
      ],
      "metadata": {
        "colab": {
          "base_uri": "https://localhost:8080/"
        },
        "id": "WEIxQaL0zK7z",
        "outputId": "c28c6b73-e6dc-45c7-bc8c-a56a58fdb1fa"
      },
      "execution_count": 2,
      "outputs": [
        {
          "output_type": "stream",
          "name": "stdout",
          "text": [
            "{'one': 1}\n",
            "{'one': 1, 'two': 1}\n",
            "{'one': 1, 'two': 1, 'three': 1}\n",
            "{'one': 1, 'two': 2, 'three': 1}\n",
            "{'one': 1, 'two': 2, 'three': 2}\n",
            "{'one': 1, 'two': 2, 'three': 2, 'four': 1}\n"
          ]
        }
      ]
    }
  ]
}